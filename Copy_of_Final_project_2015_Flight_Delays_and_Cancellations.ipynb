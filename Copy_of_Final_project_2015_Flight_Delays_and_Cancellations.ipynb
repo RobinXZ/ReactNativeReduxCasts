{
  "nbformat": 4,
  "nbformat_minor": 0,
  "metadata": {
    "colab": {
      "name": "Copy_of_Final_project_2015_Flight_Delays_and_Cancellations.ipynb",
      "version": "0.3.2",
      "provenance": [],
      "collapsed_sections": [],
      "machine_shape": "hm",
      "include_colab_link": true
    },
    "kernelspec": {
      "name": "python3",
      "display_name": "Python 3"
    },
    "accelerator": "GPU"
  },
  "cells": [
    {
      "cell_type": "markdown",
      "metadata": {
        "id": "view-in-github",
        "colab_type": "text"
      },
      "source": [
        "<a href=\"https://colab.research.google.com/github/RobinXZ/ReactNativeReduxCasts/blob/master/Copy_of_Final_project_2015_Flight_Delays_and_Cancellations.ipynb\" target=\"_parent\"><img src=\"https://colab.research.google.com/assets/colab-badge.svg\" alt=\"Open In Colab\"/></a>"
      ]
    },
    {
      "cell_type": "markdown",
      "metadata": {
        "id": "X9Q9A7u-5DGY",
        "colab_type": "text"
      },
      "source": [
        "# Machine Learning 3253 Project - \"2015 Flight Delays and Cancellations\""
      ]
    },
    {
      "cell_type": "markdown",
      "metadata": {
        "id": "LYFlMyLm6OkZ",
        "colab_type": "text"
      },
      "source": [
        "##Team Members\n",
        "\n",
        "\n",
        "*   Asma-Ul-Hushna\n",
        "*   Xubin Zhao\n",
        "* \tYaxal Arenas\n",
        "\n",
        "\n",
        "\n",
        "\n",
        "\n"
      ]
    },
    {
      "cell_type": "markdown",
      "metadata": {
        "id": "o88lVEq17rXe",
        "colab_type": "text"
      },
      "source": [
        "## Project Overview\n",
        "\n",
        "In 2015 there are lots of flight delays in United States for some reason. Nearly one third of all flights in our data set have delays. The main reasons for flight delays are wheather related but in some cases there are also airline or airport related flight delays. This document examines and shows the delay and cancellation causes in several aspects."
      ]
    },
    {
      "cell_type": "markdown",
      "metadata": {
        "id": "NpddVZGZ7_hQ",
        "colab_type": "text"
      },
      "source": [
        "## Notebook Contents\n",
        "\n",
        "This notebook will explore the data, evaluate some models and draw conclusions. It is divided into the following main sections:\n",
        "\n",
        "\n",
        "\n",
        "\n",
        "**Please run all the notebook at start\n",
        "\n",
        "\n",
        "\n",
        "\n",
        "1.   Setup the environment - seting up the notebook environment.\n",
        "2.   Get the data - loading the data set into the notebook.\n",
        "3.   Explore the data - exploring the raw flights data.\n",
        "4.   Prepare the data - data cleansing, feature selection\\reduction\\engineering and      standardization.\n",
        "5.   Model - training and testing various models.\n",
        "6.   Evaluate the model - analyzing model results.\n",
        "7.   Summary - summarizing the observations and conclusions.\n"
      ]
    },
    {
      "cell_type": "markdown",
      "metadata": {
        "id": "UyNvK7ky9s5Z",
        "colab_type": "text"
      },
      "source": [
        "## 1. Setup the environment"
      ]
    },
    {
      "cell_type": "code",
      "metadata": {
        "id": "LV-1idnh9xVp",
        "colab_type": "code",
        "outputId": "b96aee8d-3f39-4f1c-987d-5b7ddcb25abe",
        "colab": {
          "base_uri": "https://localhost:8080/",
          "height": 35
        }
      },
      "source": [
        "# import the basic libraries\n",
        "import numpy as np\n",
        "import pandas as pd\n",
        "import keras as k\n",
        "\n",
        "# to make this notebook's output stable across runs\n",
        "np.random.seed(123)\n",
        "\n",
        "# To plot pretty figures\n",
        "%matplotlib inline\n",
        "import matplotlib\n",
        "import matplotlib.pyplot as plt\n",
        "plt.rcParams['axes.labelsize'] = 14\n",
        "plt.rcParams['xtick.labelsize'] = 12\n",
        "plt.rcParams['ytick.labelsize'] = 12\n",
        "from matplotlib import pyplot\n",
        "\n",
        "# scatter matrix plotting\n",
        "from pandas.plotting import scatter_matrix\n",
        "\n",
        "# enable advanced plots\n",
        "import seaborn as sns\n",
        "\n",
        "# import sklearn libraries\n",
        "\n",
        "# feature extraction and decomposition\n",
        "from sklearn.feature_extraction.text import TfidfVectorizer\n",
        "from sklearn.feature_extraction.text import CountVectorizer\n",
        "from sklearn.decomposition import NMF\n",
        "\n",
        "# feature selection and reduction\n",
        "from sklearn.feature_selection import SelectKBest\n",
        "from sklearn.feature_selection import chi2\n",
        "from sklearn.decomposition import PCA\n",
        "# feature clustering\n",
        "from sklearn.cluster import KMeans\n",
        "\n",
        "# pipeline processing\n",
        "from sklearn.pipeline import Pipeline\n",
        "from sklearn.preprocessing import OrdinalEncoder\n",
        "from sklearn.preprocessing import OneHotEncoder\n",
        "from sklearn.preprocessing import StandardScaler\n",
        "from sklearn.impute import SimpleImputer\n",
        "from sklearn.pipeline import FeatureUnion\n",
        "from sklearn.base import BaseEstimator, TransformerMixin\n",
        "\n",
        "# data splitting\n",
        "from sklearn.model_selection import train_test_split\n",
        "\n",
        "# classifier models\n",
        "from sklearn.linear_model import LogisticRegression\n",
        "from sklearn.neighbors import KNeighborsClassifier\n",
        "from sklearn.ensemble import RandomForestClassifier\n",
        "from sklearn.model_selection import GridSearchCV\n",
        "from sklearn.tree import DecisionTreeClassifier\n",
        "from sklearn.ensemble import AdaBoostClassifier\n",
        "from sklearn.ensemble import VotingClassifier\n",
        "\n",
        "from sklearn.compose import ColumnTransformer\n",
        "\n",
        "# regression models\n",
        "from sklearn.linear_model import LinearRegression\n",
        "from sklearn.linear_model import Ridge\n",
        "from sklearn.linear_model import Lasso\n",
        "from sklearn.linear_model import ElasticNet\n",
        "\n",
        "# model evaluation\n",
        "from sklearn.model_selection import cross_val_predict\n",
        "from sklearn.model_selection import cross_val_score\n",
        "from sklearn.metrics import classification_report\n",
        "from sklearn.metrics import confusion_matrix\n",
        "from sklearn.metrics import classification_report \n",
        "from sklearn.metrics import precision_score, recall_score\n",
        "from sklearn.metrics import precision_recall_curve\n",
        "from sklearn.metrics import roc_curve\n",
        "from sklearn.metrics import roc_auc_score\n",
        "from sklearn.metrics import accuracy_score\n",
        "from sklearn.metrics import mean_squared_error\n",
        "\n",
        "#deep learning packages \n",
        "\n",
        "from keras.models import Sequential\n",
        "from keras.layers.normalization import BatchNormalization\n",
        "from keras.layers.convolutional import Conv2D\n",
        "from keras.layers.convolutional import MaxPooling2D\n",
        "from keras.layers.core import Activation\n",
        "from keras.layers.core import Dropout\n",
        "from keras.layers.core import Dense\n",
        "from keras.layers import Flatten\n",
        "from keras.layers import Input\n",
        "from keras.models import Model\n",
        "\n",
        "#PCA analysis\n",
        "from sklearn.decomposition import PCA\n",
        "\n"
      ],
      "execution_count": 0,
      "outputs": [
        {
          "output_type": "stream",
          "text": [
            "Using TensorFlow backend.\n"
          ],
          "name": "stderr"
        }
      ]
    },
    {
      "cell_type": "code",
      "metadata": {
        "id": "a02ynE3r-vO3",
        "colab_type": "code",
        "colab": {}
      },
      "source": [
        "# ensure full display for dataframe content\n",
        "pd.set_option('display.max_rows', 100)\n",
        "pd.set_option('display.max_columns', 100)\n",
        "pd.set_option('precision', 5)\n",
        "pd.set_option('large_repr', 'truncate')\n",
        "pd.set_option('display.max_colwidth', -1)\n",
        "pd.set_option('colheader_justify', 'left')"
      ],
      "execution_count": 0,
      "outputs": []
    },
    {
      "cell_type": "code",
      "metadata": {
        "id": "zFO7kIK__KCA",
        "colab_type": "code",
        "colab": {}
      },
      "source": [
        "# suppress warnings\n",
        "import warnings\n",
        "warnings.filterwarnings('ignore')"
      ],
      "execution_count": 0,
      "outputs": []
    },
    {
      "cell_type": "markdown",
      "metadata": {
        "id": "aCjJal9M-thu",
        "colab_type": "text"
      },
      "source": [
        "## 1. Get the data\n",
        "\n",
        "There are 3 seperate CSV files. We will load them one by one from google drive."
      ]
    },
    {
      "cell_type": "code",
      "metadata": {
        "id": "5XehaWmyZpqO",
        "colab_type": "code",
        "outputId": "c29f0319-38b3-4f42-e697-804a31f83309",
        "colab": {
          "base_uri": "https://localhost:8080/",
          "height": 54
        }
      },
      "source": [
        "# Code to read csv file into Colaboratory:\n",
        "!pip install -U -q PyDrive\n",
        "from pydrive.auth import GoogleAuth\n",
        "from pydrive.drive import GoogleDrive\n",
        "from google.colab import auth\n",
        "from oauth2client.client import GoogleCredentials\n",
        "\n",
        "# Authenticate and create the PyDrive client.\n",
        "auth.authenticate_user()\n",
        "gauth = GoogleAuth()\n",
        "gauth.credentials = GoogleCredentials.get_application_default()\n",
        "drive = GoogleDrive(gauth)"
      ],
      "execution_count": 0,
      "outputs": [
        {
          "output_type": "stream",
          "text": [
            "\u001b[?25l\r\u001b[K     |▎                               | 10kB 21.7MB/s eta 0:00:01\r\u001b[K     |▋                               | 20kB 2.2MB/s eta 0:00:01\r\u001b[K     |█                               | 30kB 3.2MB/s eta 0:00:01\r\u001b[K     |█▎                              | 40kB 2.1MB/s eta 0:00:01\r\u001b[K     |█▋                              | 51kB 2.6MB/s eta 0:00:01\r\u001b[K     |██                              | 61kB 3.1MB/s eta 0:00:01\r\u001b[K     |██▎                             | 71kB 3.6MB/s eta 0:00:01\r\u001b[K     |██▋                             | 81kB 4.0MB/s eta 0:00:01\r\u001b[K     |███                             | 92kB 4.5MB/s eta 0:00:01\r\u001b[K     |███▎                            | 102kB 3.5MB/s eta 0:00:01\r\u001b[K     |███▋                            | 112kB 3.5MB/s eta 0:00:01\r\u001b[K     |████                            | 122kB 3.5MB/s eta 0:00:01\r\u001b[K     |████▎                           | 133kB 3.5MB/s eta 0:00:01\r\u001b[K     |████▋                           | 143kB 3.5MB/s eta 0:00:01\r\u001b[K     |█████                           | 153kB 3.5MB/s eta 0:00:01\r\u001b[K     |█████▎                          | 163kB 3.5MB/s eta 0:00:01\r\u001b[K     |█████▋                          | 174kB 3.5MB/s eta 0:00:01\r\u001b[K     |██████                          | 184kB 3.5MB/s eta 0:00:01\r\u001b[K     |██████▎                         | 194kB 3.5MB/s eta 0:00:01\r\u001b[K     |██████▋                         | 204kB 3.5MB/s eta 0:00:01\r\u001b[K     |███████                         | 215kB 3.5MB/s eta 0:00:01\r\u001b[K     |███████▎                        | 225kB 3.5MB/s eta 0:00:01\r\u001b[K     |███████▋                        | 235kB 3.5MB/s eta 0:00:01\r\u001b[K     |████████                        | 245kB 3.5MB/s eta 0:00:01\r\u001b[K     |████████▎                       | 256kB 3.5MB/s eta 0:00:01\r\u001b[K     |████████▋                       | 266kB 3.5MB/s eta 0:00:01\r\u001b[K     |█████████                       | 276kB 3.5MB/s eta 0:00:01\r\u001b[K     |█████████▎                      | 286kB 3.5MB/s eta 0:00:01\r\u001b[K     |█████████▋                      | 296kB 3.5MB/s eta 0:00:01\r\u001b[K     |██████████                      | 307kB 3.5MB/s eta 0:00:01\r\u001b[K     |██████████▎                     | 317kB 3.5MB/s eta 0:00:01\r\u001b[K     |██████████▋                     | 327kB 3.5MB/s eta 0:00:01\r\u001b[K     |███████████                     | 337kB 3.5MB/s eta 0:00:01\r\u001b[K     |███████████▎                    | 348kB 3.5MB/s eta 0:00:01\r\u001b[K     |███████████▋                    | 358kB 3.5MB/s eta 0:00:01\r\u001b[K     |████████████                    | 368kB 3.5MB/s eta 0:00:01\r\u001b[K     |████████████▎                   | 378kB 3.5MB/s eta 0:00:01\r\u001b[K     |████████████▋                   | 389kB 3.5MB/s eta 0:00:01\r\u001b[K     |█████████████                   | 399kB 3.5MB/s eta 0:00:01\r\u001b[K     |█████████████▎                  | 409kB 3.5MB/s eta 0:00:01\r\u001b[K     |█████████████▋                  | 419kB 3.5MB/s eta 0:00:01\r\u001b[K     |██████████████                  | 430kB 3.5MB/s eta 0:00:01\r\u001b[K     |██████████████▎                 | 440kB 3.5MB/s eta 0:00:01\r\u001b[K     |██████████████▋                 | 450kB 3.5MB/s eta 0:00:01\r\u001b[K     |███████████████                 | 460kB 3.5MB/s eta 0:00:01\r\u001b[K     |███████████████▎                | 471kB 3.5MB/s eta 0:00:01\r\u001b[K     |███████████████▋                | 481kB 3.5MB/s eta 0:00:01\r\u001b[K     |████████████████                | 491kB 3.5MB/s eta 0:00:01\r\u001b[K     |████████████████▎               | 501kB 3.5MB/s eta 0:00:01\r\u001b[K     |████████████████▋               | 512kB 3.5MB/s eta 0:00:01\r\u001b[K     |█████████████████               | 522kB 3.5MB/s eta 0:00:01\r\u001b[K     |█████████████████▎              | 532kB 3.5MB/s eta 0:00:01\r\u001b[K     |█████████████████▋              | 542kB 3.5MB/s eta 0:00:01\r\u001b[K     |██████████████████              | 552kB 3.5MB/s eta 0:00:01\r\u001b[K     |██████████████████▎             | 563kB 3.5MB/s eta 0:00:01\r\u001b[K     |██████████████████▋             | 573kB 3.5MB/s eta 0:00:01\r\u001b[K     |███████████████████             | 583kB 3.5MB/s eta 0:00:01\r\u001b[K     |███████████████████▎            | 593kB 3.5MB/s eta 0:00:01\r\u001b[K     |███████████████████▋            | 604kB 3.5MB/s eta 0:00:01\r\u001b[K     |████████████████████            | 614kB 3.5MB/s eta 0:00:01\r\u001b[K     |████████████████████▎           | 624kB 3.5MB/s eta 0:00:01\r\u001b[K     |████████████████████▋           | 634kB 3.5MB/s eta 0:00:01\r\u001b[K     |█████████████████████           | 645kB 3.5MB/s eta 0:00:01\r\u001b[K     |█████████████████████▎          | 655kB 3.5MB/s eta 0:00:01\r\u001b[K     |█████████████████████▋          | 665kB 3.5MB/s eta 0:00:01\r\u001b[K     |██████████████████████          | 675kB 3.5MB/s eta 0:00:01\r\u001b[K     |██████████████████████▎         | 686kB 3.5MB/s eta 0:00:01\r\u001b[K     |██████████████████████▋         | 696kB 3.5MB/s eta 0:00:01\r\u001b[K     |███████████████████████         | 706kB 3.5MB/s eta 0:00:01\r\u001b[K     |███████████████████████▎        | 716kB 3.5MB/s eta 0:00:01\r\u001b[K     |███████████████████████▋        | 727kB 3.5MB/s eta 0:00:01\r\u001b[K     |████████████████████████        | 737kB 3.5MB/s eta 0:00:01\r\u001b[K     |████████████████████████▎       | 747kB 3.5MB/s eta 0:00:01\r\u001b[K     |████████████████████████▋       | 757kB 3.5MB/s eta 0:00:01\r\u001b[K     |████████████████████████▉       | 768kB 3.5MB/s eta 0:00:01\r\u001b[K     |█████████████████████████▏      | 778kB 3.5MB/s eta 0:00:01\r\u001b[K     |█████████████████████████▌      | 788kB 3.5MB/s eta 0:00:01\r\u001b[K     |█████████████████████████▉      | 798kB 3.5MB/s eta 0:00:01\r\u001b[K     |██████████████████████████▏     | 808kB 3.5MB/s eta 0:00:01\r\u001b[K     |██████████████████████████▌     | 819kB 3.5MB/s eta 0:00:01\r\u001b[K     |██████████████████████████▉     | 829kB 3.5MB/s eta 0:00:01\r\u001b[K     |███████████████████████████▏    | 839kB 3.5MB/s eta 0:00:01\r\u001b[K     |███████████████████████████▌    | 849kB 3.5MB/s eta 0:00:01\r\u001b[K     |███████████████████████████▉    | 860kB 3.5MB/s eta 0:00:01\r\u001b[K     |████████████████████████████▏   | 870kB 3.5MB/s eta 0:00:01\r\u001b[K     |████████████████████████████▌   | 880kB 3.5MB/s eta 0:00:01\r\u001b[K     |████████████████████████████▉   | 890kB 3.5MB/s eta 0:00:01\r\u001b[K     |█████████████████████████████▏  | 901kB 3.5MB/s eta 0:00:01\r\u001b[K     |█████████████████████████████▌  | 911kB 3.5MB/s eta 0:00:01\r\u001b[K     |█████████████████████████████▉  | 921kB 3.5MB/s eta 0:00:01\r\u001b[K     |██████████████████████████████▏ | 931kB 3.5MB/s eta 0:00:01\r\u001b[K     |██████████████████████████████▌ | 942kB 3.5MB/s eta 0:00:01\r\u001b[K     |██████████████████████████████▉ | 952kB 3.5MB/s eta 0:00:01\r\u001b[K     |███████████████████████████████▏| 962kB 3.5MB/s eta 0:00:01\r\u001b[K     |███████████████████████████████▌| 972kB 3.5MB/s eta 0:00:01\r\u001b[K     |███████████████████████████████▉| 983kB 3.5MB/s eta 0:00:01\r\u001b[K     |████████████████████████████████| 993kB 3.5MB/s \n",
            "\u001b[?25h  Building wheel for PyDrive (setup.py) ... \u001b[?25l\u001b[?25hdone\n"
          ],
          "name": "stdout"
        }
      ]
    },
    {
      "cell_type": "markdown",
      "metadata": {
        "id": "FtLf7o-PDEQU",
        "colab_type": "text"
      },
      "source": [
        "**Loading 'flights.csv'**"
      ]
    },
    {
      "cell_type": "code",
      "metadata": {
        "id": "omrsZ6yZIjOf",
        "colab_type": "code",
        "colab": {}
      },
      "source": [
        "link_flights = 'https://drive.google.com/open?id=1y6fJQfLJ5o7bwbDZkX09m-shhoq56QB8' # The shareable link"
      ],
      "execution_count": 0,
      "outputs": []
    },
    {
      "cell_type": "code",
      "metadata": {
        "id": "ICdaaDCkJ7GS",
        "colab_type": "code",
        "outputId": "c25ab704-db1a-484a-eb1d-efa74a03a6ba",
        "colab": {
          "base_uri": "https://localhost:8080/",
          "height": 35
        }
      },
      "source": [
        "fluff, id = link_flights.split('=')\n",
        "print (id) # Verify that you have everything after '='"
      ],
      "execution_count": 0,
      "outputs": [
        {
          "output_type": "stream",
          "text": [
            "1y6fJQfLJ5o7bwbDZkX09m-shhoq56QB8\n"
          ],
          "name": "stdout"
        }
      ]
    },
    {
      "cell_type": "code",
      "metadata": {
        "id": "pE796QUAJ7MC",
        "colab_type": "code",
        "outputId": "bc285006-16ed-4b54-d257-6bef65374436",
        "colab": {
          "base_uri": "https://localhost:8080/",
          "height": 550
        }
      },
      "source": [
        "downloaded = drive.CreateFile({'id':id}) \n",
        "downloaded.GetContentFile('flights.csv')  \n",
        "flights_df = pd.read_csv('flights.csv')  # flights.csv Dataset is now stored in a Pandas Dataframe"
      ],
      "execution_count": 0,
      "outputs": [
        {
          "output_type": "stream",
          "text": [
            "WARNING: Logging before flag parsing goes to stderr.\n",
            "W0725 16:29:02.884999 140584119318400 __init__.py:44] file_cache is unavailable when using oauth2client >= 4.0.0 or google-auth\n",
            "Traceback (most recent call last):\n",
            "  File \"/usr/local/lib/python3.6/dist-packages/googleapiclient/discovery_cache/__init__.py\", line 36, in autodetect\n",
            "    from google.appengine.api import memcache\n",
            "ModuleNotFoundError: No module named 'google.appengine'\n",
            "\n",
            "During handling of the above exception, another exception occurred:\n",
            "\n",
            "Traceback (most recent call last):\n",
            "  File \"/usr/local/lib/python3.6/dist-packages/googleapiclient/discovery_cache/file_cache.py\", line 33, in <module>\n",
            "    from oauth2client.contrib.locked_file import LockedFile\n",
            "ModuleNotFoundError: No module named 'oauth2client.contrib.locked_file'\n",
            "\n",
            "During handling of the above exception, another exception occurred:\n",
            "\n",
            "Traceback (most recent call last):\n",
            "  File \"/usr/local/lib/python3.6/dist-packages/googleapiclient/discovery_cache/file_cache.py\", line 37, in <module>\n",
            "    from oauth2client.locked_file import LockedFile\n",
            "ModuleNotFoundError: No module named 'oauth2client.locked_file'\n",
            "\n",
            "During handling of the above exception, another exception occurred:\n",
            "\n",
            "Traceback (most recent call last):\n",
            "  File \"/usr/local/lib/python3.6/dist-packages/googleapiclient/discovery_cache/__init__.py\", line 41, in autodetect\n",
            "    from . import file_cache\n",
            "  File \"/usr/local/lib/python3.6/dist-packages/googleapiclient/discovery_cache/file_cache.py\", line 41, in <module>\n",
            "    'file_cache is unavailable when using oauth2client >= 4.0.0 or google-auth')\n",
            "ImportError: file_cache is unavailable when using oauth2client >= 4.0.0 or google-auth\n"
          ],
          "name": "stderr"
        }
      ]
    },
    {
      "cell_type": "markdown",
      "metadata": {
        "id": "AdQfGpQ3C-Je",
        "colab_type": "text"
      },
      "source": [
        "**Loading 'airlines.csv'**"
      ]
    },
    {
      "cell_type": "code",
      "metadata": {
        "id": "JA9x-XwxaQcf",
        "colab_type": "code",
        "colab": {}
      },
      "source": [
        "link_airlines = 'https://drive.google.com/open?id=1lJlVAUqyYcH8eRnnBgc7MEtGJ-Tqq-bh' # The shareable link"
      ],
      "execution_count": 0,
      "outputs": []
    },
    {
      "cell_type": "code",
      "metadata": {
        "id": "Ij9h3OXNaQjC",
        "colab_type": "code",
        "outputId": "b2c22259-dd48-4c5a-9a05-5f74d537b3d8",
        "colab": {
          "base_uri": "https://localhost:8080/",
          "height": 35
        }
      },
      "source": [
        "fluff, id = link_airlines.split('=')\n",
        "print (id) # Verify that you have everything after '='"
      ],
      "execution_count": 0,
      "outputs": [
        {
          "output_type": "stream",
          "text": [
            "1lJlVAUqyYcH8eRnnBgc7MEtGJ-Tqq-bh\n"
          ],
          "name": "stdout"
        }
      ]
    },
    {
      "cell_type": "code",
      "metadata": {
        "id": "sujbJWe0ZzQ9",
        "colab_type": "code",
        "colab": {}
      },
      "source": [
        "import pandas as pd\n",
        "downloaded = drive.CreateFile({'id':id}) \n",
        "downloaded.GetContentFile('airlines.csv')  \n",
        "airlines_df = pd.read_csv('airlines.csv')  # airlines.csv dataset is now stored in a Pandas Dataframe"
      ],
      "execution_count": 0,
      "outputs": []
    },
    {
      "cell_type": "markdown",
      "metadata": {
        "id": "Sd4G7X27DaXI",
        "colab_type": "text"
      },
      "source": [
        "**Loading 'airports.csv'**"
      ]
    },
    {
      "cell_type": "code",
      "metadata": {
        "id": "l5gkGutseW0v",
        "colab_type": "code",
        "colab": {}
      },
      "source": [
        "link_airports = 'https://drive.google.com/open?id=1xY7VJRQQbacbufZZG11GGNOJ1dmnuHLa' # The shareable link"
      ],
      "execution_count": 0,
      "outputs": []
    },
    {
      "cell_type": "code",
      "metadata": {
        "id": "zsp2bbZsIX6z",
        "colab_type": "code",
        "outputId": "ef055ac0-c7f7-46fa-a0c9-df4aceee890d",
        "colab": {
          "base_uri": "https://localhost:8080/",
          "height": 35
        }
      },
      "source": [
        "fluff, id = link_airports.split('=')\n",
        "print (id) # Verify that you have everything after '='"
      ],
      "execution_count": 0,
      "outputs": [
        {
          "output_type": "stream",
          "text": [
            "1xY7VJRQQbacbufZZG11GGNOJ1dmnuHLa\n"
          ],
          "name": "stdout"
        }
      ]
    },
    {
      "cell_type": "code",
      "metadata": {
        "id": "5SxT1ROxIe32",
        "colab_type": "code",
        "colab": {}
      },
      "source": [
        "downloaded = drive.CreateFile({'id':id}) \n",
        "downloaded.GetContentFile('airports.csv')  \n",
        "airports_df = pd.read_csv('airports.csv') # airports.csv dataset is now stored in a Pandas Dataframe"
      ],
      "execution_count": 0,
      "outputs": []
    },
    {
      "cell_type": "markdown",
      "metadata": {
        "id": "kOZR2GDKGj6S",
        "colab_type": "text"
      },
      "source": [
        "## 3. Explore the data"
      ]
    },
    {
      "cell_type": "code",
      "metadata": {
        "id": "MxrJBFt_G5U3",
        "colab_type": "code",
        "outputId": "6dbd8e18-9bee-4ae2-feaa-d86c86bba59d",
        "colab": {
          "base_uri": "https://localhost:8080/",
          "height": 226
        }
      },
      "source": [
        "flights_df.head()"
      ],
      "execution_count": 0,
      "outputs": [
        {
          "output_type": "execute_result",
          "data": {
            "text/html": [
              "<div>\n",
              "<style scoped>\n",
              "    .dataframe tbody tr th:only-of-type {\n",
              "        vertical-align: middle;\n",
              "    }\n",
              "\n",
              "    .dataframe tbody tr th {\n",
              "        vertical-align: top;\n",
              "    }\n",
              "\n",
              "    .dataframe thead th {\n",
              "        text-align: right;\n",
              "    }\n",
              "</style>\n",
              "<table border=\"1\" class=\"dataframe\">\n",
              "  <thead>\n",
              "    <tr style=\"text-align: left;\">\n",
              "      <th></th>\n",
              "      <th>YEAR</th>\n",
              "      <th>MONTH</th>\n",
              "      <th>DAY</th>\n",
              "      <th>DAY_OF_WEEK</th>\n",
              "      <th>AIRLINE</th>\n",
              "      <th>FLIGHT_NUMBER</th>\n",
              "      <th>TAIL_NUMBER</th>\n",
              "      <th>ORIGIN_AIRPORT</th>\n",
              "      <th>DESTINATION_AIRPORT</th>\n",
              "      <th>SCHEDULED_DEPARTURE</th>\n",
              "      <th>DEPARTURE_TIME</th>\n",
              "      <th>DEPARTURE_DELAY</th>\n",
              "      <th>TAXI_OUT</th>\n",
              "      <th>WHEELS_OFF</th>\n",
              "      <th>SCHEDULED_TIME</th>\n",
              "      <th>ELAPSED_TIME</th>\n",
              "      <th>AIR_TIME</th>\n",
              "      <th>DISTANCE</th>\n",
              "      <th>WHEELS_ON</th>\n",
              "      <th>TAXI_IN</th>\n",
              "      <th>SCHEDULED_ARRIVAL</th>\n",
              "      <th>ARRIVAL_TIME</th>\n",
              "      <th>ARRIVAL_DELAY</th>\n",
              "      <th>DIVERTED</th>\n",
              "      <th>CANCELLED</th>\n",
              "      <th>CANCELLATION_REASON</th>\n",
              "      <th>AIR_SYSTEM_DELAY</th>\n",
              "      <th>SECURITY_DELAY</th>\n",
              "      <th>AIRLINE_DELAY</th>\n",
              "      <th>LATE_AIRCRAFT_DELAY</th>\n",
              "      <th>WEATHER_DELAY</th>\n",
              "    </tr>\n",
              "  </thead>\n",
              "  <tbody>\n",
              "    <tr>\n",
              "      <th>0</th>\n",
              "      <td>2015</td>\n",
              "      <td>1</td>\n",
              "      <td>1</td>\n",
              "      <td>4</td>\n",
              "      <td>AS</td>\n",
              "      <td>98</td>\n",
              "      <td>N407AS</td>\n",
              "      <td>ANC</td>\n",
              "      <td>SEA</td>\n",
              "      <td>5</td>\n",
              "      <td>2354.0</td>\n",
              "      <td>-11.0</td>\n",
              "      <td>21.0</td>\n",
              "      <td>15.0</td>\n",
              "      <td>205.0</td>\n",
              "      <td>194.0</td>\n",
              "      <td>169.0</td>\n",
              "      <td>1448</td>\n",
              "      <td>404.0</td>\n",
              "      <td>4.0</td>\n",
              "      <td>430</td>\n",
              "      <td>408.0</td>\n",
              "      <td>-22.0</td>\n",
              "      <td>0</td>\n",
              "      <td>0</td>\n",
              "      <td>NaN</td>\n",
              "      <td>NaN</td>\n",
              "      <td>NaN</td>\n",
              "      <td>NaN</td>\n",
              "      <td>NaN</td>\n",
              "      <td>NaN</td>\n",
              "    </tr>\n",
              "    <tr>\n",
              "      <th>1</th>\n",
              "      <td>2015</td>\n",
              "      <td>1</td>\n",
              "      <td>1</td>\n",
              "      <td>4</td>\n",
              "      <td>AA</td>\n",
              "      <td>2336</td>\n",
              "      <td>N3KUAA</td>\n",
              "      <td>LAX</td>\n",
              "      <td>PBI</td>\n",
              "      <td>10</td>\n",
              "      <td>2.0</td>\n",
              "      <td>-8.0</td>\n",
              "      <td>12.0</td>\n",
              "      <td>14.0</td>\n",
              "      <td>280.0</td>\n",
              "      <td>279.0</td>\n",
              "      <td>263.0</td>\n",
              "      <td>2330</td>\n",
              "      <td>737.0</td>\n",
              "      <td>4.0</td>\n",
              "      <td>750</td>\n",
              "      <td>741.0</td>\n",
              "      <td>-9.0</td>\n",
              "      <td>0</td>\n",
              "      <td>0</td>\n",
              "      <td>NaN</td>\n",
              "      <td>NaN</td>\n",
              "      <td>NaN</td>\n",
              "      <td>NaN</td>\n",
              "      <td>NaN</td>\n",
              "      <td>NaN</td>\n",
              "    </tr>\n",
              "    <tr>\n",
              "      <th>2</th>\n",
              "      <td>2015</td>\n",
              "      <td>1</td>\n",
              "      <td>1</td>\n",
              "      <td>4</td>\n",
              "      <td>US</td>\n",
              "      <td>840</td>\n",
              "      <td>N171US</td>\n",
              "      <td>SFO</td>\n",
              "      <td>CLT</td>\n",
              "      <td>20</td>\n",
              "      <td>18.0</td>\n",
              "      <td>-2.0</td>\n",
              "      <td>16.0</td>\n",
              "      <td>34.0</td>\n",
              "      <td>286.0</td>\n",
              "      <td>293.0</td>\n",
              "      <td>266.0</td>\n",
              "      <td>2296</td>\n",
              "      <td>800.0</td>\n",
              "      <td>11.0</td>\n",
              "      <td>806</td>\n",
              "      <td>811.0</td>\n",
              "      <td>5.0</td>\n",
              "      <td>0</td>\n",
              "      <td>0</td>\n",
              "      <td>NaN</td>\n",
              "      <td>NaN</td>\n",
              "      <td>NaN</td>\n",
              "      <td>NaN</td>\n",
              "      <td>NaN</td>\n",
              "      <td>NaN</td>\n",
              "    </tr>\n",
              "    <tr>\n",
              "      <th>3</th>\n",
              "      <td>2015</td>\n",
              "      <td>1</td>\n",
              "      <td>1</td>\n",
              "      <td>4</td>\n",
              "      <td>AA</td>\n",
              "      <td>258</td>\n",
              "      <td>N3HYAA</td>\n",
              "      <td>LAX</td>\n",
              "      <td>MIA</td>\n",
              "      <td>20</td>\n",
              "      <td>15.0</td>\n",
              "      <td>-5.0</td>\n",
              "      <td>15.0</td>\n",
              "      <td>30.0</td>\n",
              "      <td>285.0</td>\n",
              "      <td>281.0</td>\n",
              "      <td>258.0</td>\n",
              "      <td>2342</td>\n",
              "      <td>748.0</td>\n",
              "      <td>8.0</td>\n",
              "      <td>805</td>\n",
              "      <td>756.0</td>\n",
              "      <td>-9.0</td>\n",
              "      <td>0</td>\n",
              "      <td>0</td>\n",
              "      <td>NaN</td>\n",
              "      <td>NaN</td>\n",
              "      <td>NaN</td>\n",
              "      <td>NaN</td>\n",
              "      <td>NaN</td>\n",
              "      <td>NaN</td>\n",
              "    </tr>\n",
              "    <tr>\n",
              "      <th>4</th>\n",
              "      <td>2015</td>\n",
              "      <td>1</td>\n",
              "      <td>1</td>\n",
              "      <td>4</td>\n",
              "      <td>AS</td>\n",
              "      <td>135</td>\n",
              "      <td>N527AS</td>\n",
              "      <td>SEA</td>\n",
              "      <td>ANC</td>\n",
              "      <td>25</td>\n",
              "      <td>24.0</td>\n",
              "      <td>-1.0</td>\n",
              "      <td>11.0</td>\n",
              "      <td>35.0</td>\n",
              "      <td>235.0</td>\n",
              "      <td>215.0</td>\n",
              "      <td>199.0</td>\n",
              "      <td>1448</td>\n",
              "      <td>254.0</td>\n",
              "      <td>5.0</td>\n",
              "      <td>320</td>\n",
              "      <td>259.0</td>\n",
              "      <td>-21.0</td>\n",
              "      <td>0</td>\n",
              "      <td>0</td>\n",
              "      <td>NaN</td>\n",
              "      <td>NaN</td>\n",
              "      <td>NaN</td>\n",
              "      <td>NaN</td>\n",
              "      <td>NaN</td>\n",
              "      <td>NaN</td>\n",
              "    </tr>\n",
              "  </tbody>\n",
              "</table>\n",
              "</div>"
            ],
            "text/plain": [
              "   YEAR  MONTH  DAY  DAY_OF_WEEK AIRLINE  FLIGHT_NUMBER TAIL_NUMBER  \\\n",
              "0  2015  1      1    4            AS      98             N407AS       \n",
              "1  2015  1      1    4            AA      2336           N3KUAA       \n",
              "2  2015  1      1    4            US      840            N171US       \n",
              "3  2015  1      1    4            AA      258            N3HYAA       \n",
              "4  2015  1      1    4            AS      135            N527AS       \n",
              "\n",
              "  ORIGIN_AIRPORT DESTINATION_AIRPORT  SCHEDULED_DEPARTURE  DEPARTURE_TIME  \\\n",
              "0  ANC            SEA                 5                    2354.0           \n",
              "1  LAX            PBI                 10                   2.0              \n",
              "2  SFO            CLT                 20                   18.0             \n",
              "3  LAX            MIA                 20                   15.0             \n",
              "4  SEA            ANC                 25                   24.0             \n",
              "\n",
              "   DEPARTURE_DELAY  TAXI_OUT  WHEELS_OFF  SCHEDULED_TIME  ELAPSED_TIME  \\\n",
              "0 -11.0             21.0      15.0        205.0           194.0          \n",
              "1 -8.0              12.0      14.0        280.0           279.0          \n",
              "2 -2.0              16.0      34.0        286.0           293.0          \n",
              "3 -5.0              15.0      30.0        285.0           281.0          \n",
              "4 -1.0              11.0      35.0        235.0           215.0          \n",
              "\n",
              "   AIR_TIME  DISTANCE  WHEELS_ON  TAXI_IN  SCHEDULED_ARRIVAL  ARRIVAL_TIME  \\\n",
              "0  169.0     1448      404.0      4.0      430                408.0          \n",
              "1  263.0     2330      737.0      4.0      750                741.0          \n",
              "2  266.0     2296      800.0      11.0     806                811.0          \n",
              "3  258.0     2342      748.0      8.0      805                756.0          \n",
              "4  199.0     1448      254.0      5.0      320                259.0          \n",
              "\n",
              "   ARRIVAL_DELAY  DIVERTED  CANCELLED CANCELLATION_REASON  AIR_SYSTEM_DELAY  \\\n",
              "0 -22.0           0         0          NaN                NaN                 \n",
              "1 -9.0            0         0          NaN                NaN                 \n",
              "2  5.0            0         0          NaN                NaN                 \n",
              "3 -9.0            0         0          NaN                NaN                 \n",
              "4 -21.0           0         0          NaN                NaN                 \n",
              "\n",
              "   SECURITY_DELAY  AIRLINE_DELAY  LATE_AIRCRAFT_DELAY  WEATHER_DELAY  \n",
              "0 NaN             NaN            NaN                  NaN             \n",
              "1 NaN             NaN            NaN                  NaN             \n",
              "2 NaN             NaN            NaN                  NaN             \n",
              "3 NaN             NaN            NaN                  NaN             \n",
              "4 NaN             NaN            NaN                  NaN             "
            ]
          },
          "metadata": {
            "tags": []
          },
          "execution_count": 16
        }
      ]
    },
    {
      "cell_type": "code",
      "metadata": {
        "id": "4oIOfh0ZC-fw",
        "colab_type": "code",
        "outputId": "b461f725-9db2-4e88-9502-202bc5d0f361",
        "colab": {
          "base_uri": "https://localhost:8080/",
          "height": 35
        }
      },
      "source": [
        "print (\"The shape of flights dataset is\", flights_df.shape)"
      ],
      "execution_count": 0,
      "outputs": [
        {
          "output_type": "stream",
          "text": [
            "The shape of flights dataset is (5819079, 31)\n"
          ],
          "name": "stdout"
        }
      ]
    },
    {
      "cell_type": "code",
      "metadata": {
        "id": "PymBeJiDDr2A",
        "colab_type": "code",
        "outputId": "7b54964a-e6b6-4699-f0da-1e168d627ece",
        "colab": {
          "base_uri": "https://localhost:8080/",
          "height": 678
        }
      },
      "source": [
        "flights_df.info()"
      ],
      "execution_count": 0,
      "outputs": [
        {
          "output_type": "stream",
          "text": [
            "<class 'pandas.core.frame.DataFrame'>\n",
            "RangeIndex: 5819079 entries, 0 to 5819078\n",
            "Data columns (total 31 columns):\n",
            "YEAR                   int64\n",
            "MONTH                  int64\n",
            "DAY                    int64\n",
            "DAY_OF_WEEK            int64\n",
            "AIRLINE                object\n",
            "FLIGHT_NUMBER          int64\n",
            "TAIL_NUMBER            object\n",
            "ORIGIN_AIRPORT         object\n",
            "DESTINATION_AIRPORT    object\n",
            "SCHEDULED_DEPARTURE    int64\n",
            "DEPARTURE_TIME         float64\n",
            "DEPARTURE_DELAY        float64\n",
            "TAXI_OUT               float64\n",
            "WHEELS_OFF             float64\n",
            "SCHEDULED_TIME         float64\n",
            "ELAPSED_TIME           float64\n",
            "AIR_TIME               float64\n",
            "DISTANCE               int64\n",
            "WHEELS_ON              float64\n",
            "TAXI_IN                float64\n",
            "SCHEDULED_ARRIVAL      int64\n",
            "ARRIVAL_TIME           float64\n",
            "ARRIVAL_DELAY          float64\n",
            "DIVERTED               int64\n",
            "CANCELLED              int64\n",
            "CANCELLATION_REASON    object\n",
            "AIR_SYSTEM_DELAY       float64\n",
            "SECURITY_DELAY         float64\n",
            "AIRLINE_DELAY          float64\n",
            "LATE_AIRCRAFT_DELAY    float64\n",
            "WEATHER_DELAY          float64\n",
            "dtypes: float64(16), int64(10), object(5)\n",
            "memory usage: 1.3+ GB\n"
          ],
          "name": "stdout"
        }
      ]
    },
    {
      "cell_type": "markdown",
      "metadata": {
        "id": "ppv1AgdGIz25",
        "colab_type": "text"
      },
      "source": [
        "Each entry of the 'flights.csv' file corresponds to a flight and we see that more than 5,800,000 flights have been recorded in 2015. These flights are described according to 31 variables. A description of these variables can be found here and we briefly recall the meaning of the variables that will be used in this notebook:\n",
        "\n",
        "YEAR, MONTH, DAY, DAY_OF_WEEK: dates of the flight \n",
        "AIRLINE: An identification number assigned by US DOT to identify a unique airline \n",
        "\n",
        "ORIGIN_AIRPORT and DESTINATION_AIRPORT: code attributed by IATA to identify the airports \n",
        "\n",
        "SCHEDULED_DEPARTURE and SCHEDULED_ARRIVAL : scheduled times of take-off and landing \n",
        "\n",
        "DEPARTURE_TIME and ARRIVAL_TIME: real times at which take-off and landing took place \n",
        "\n",
        "DEPARTURE_DELAY and ARRIVAL_DELAY: difference (in minutes) between planned and real times \n",
        "\n",
        "DISTANCE: distance (in miles) \n",
        "\n",
        "An additional file of this dataset, the airports.csv file, gives a more exhaustive description of the airports:"
      ]
    },
    {
      "cell_type": "code",
      "metadata": {
        "id": "y4nVxAgOG5YX",
        "colab_type": "code",
        "outputId": "e9405a93-eeb2-4abd-c817-2206f4639345",
        "colab": {
          "base_uri": "https://localhost:8080/",
          "height": 206
        }
      },
      "source": [
        "airlines_df.head()"
      ],
      "execution_count": 0,
      "outputs": [
        {
          "output_type": "execute_result",
          "data": {
            "text/html": [
              "<div>\n",
              "<style scoped>\n",
              "    .dataframe tbody tr th:only-of-type {\n",
              "        vertical-align: middle;\n",
              "    }\n",
              "\n",
              "    .dataframe tbody tr th {\n",
              "        vertical-align: top;\n",
              "    }\n",
              "\n",
              "    .dataframe thead th {\n",
              "        text-align: right;\n",
              "    }\n",
              "</style>\n",
              "<table border=\"1\" class=\"dataframe\">\n",
              "  <thead>\n",
              "    <tr style=\"text-align: left;\">\n",
              "      <th></th>\n",
              "      <th>IATA_CODE</th>\n",
              "      <th>AIRLINE</th>\n",
              "    </tr>\n",
              "  </thead>\n",
              "  <tbody>\n",
              "    <tr>\n",
              "      <th>0</th>\n",
              "      <td>UA</td>\n",
              "      <td>United Air Lines Inc.</td>\n",
              "    </tr>\n",
              "    <tr>\n",
              "      <th>1</th>\n",
              "      <td>AA</td>\n",
              "      <td>American Airlines Inc.</td>\n",
              "    </tr>\n",
              "    <tr>\n",
              "      <th>2</th>\n",
              "      <td>US</td>\n",
              "      <td>US Airways Inc.</td>\n",
              "    </tr>\n",
              "    <tr>\n",
              "      <th>3</th>\n",
              "      <td>F9</td>\n",
              "      <td>Frontier Airlines Inc.</td>\n",
              "    </tr>\n",
              "    <tr>\n",
              "      <th>4</th>\n",
              "      <td>B6</td>\n",
              "      <td>JetBlue Airways</td>\n",
              "    </tr>\n",
              "  </tbody>\n",
              "</table>\n",
              "</div>"
            ],
            "text/plain": [
              "  IATA_CODE AIRLINE                \n",
              "0  UA        United Air Lines Inc. \n",
              "1  AA        American Airlines Inc.\n",
              "2  US        US Airways Inc.       \n",
              "3  F9        Frontier Airlines Inc.\n",
              "4  B6        JetBlue Airways       "
            ]
          },
          "metadata": {
            "tags": []
          },
          "execution_count": 19
        }
      ]
    },
    {
      "cell_type": "code",
      "metadata": {
        "id": "xM1xKqhUDlPf",
        "colab_type": "code",
        "outputId": "3d577db5-75c0-4a51-f5c2-0877d5ad5157",
        "colab": {
          "base_uri": "https://localhost:8080/",
          "height": 35
        }
      },
      "source": [
        "print (\"The shape of airlines dataset is\", airlines_df.shape)"
      ],
      "execution_count": 0,
      "outputs": [
        {
          "output_type": "stream",
          "text": [
            "The shape of airlines dataset is (14, 2)\n"
          ],
          "name": "stdout"
        }
      ]
    },
    {
      "cell_type": "code",
      "metadata": {
        "id": "JukRuIlcD1ee",
        "colab_type": "code",
        "outputId": "6ac41c9a-f69a-4189-fa6f-f44c6faabce1",
        "colab": {
          "base_uri": "https://localhost:8080/",
          "height": 146
        }
      },
      "source": [
        "airlines_df.info()"
      ],
      "execution_count": 0,
      "outputs": [
        {
          "output_type": "stream",
          "text": [
            "<class 'pandas.core.frame.DataFrame'>\n",
            "RangeIndex: 14 entries, 0 to 13\n",
            "Data columns (total 2 columns):\n",
            "IATA_CODE    14 non-null object\n",
            "AIRLINE      14 non-null object\n",
            "dtypes: object(2)\n",
            "memory usage: 304.0+ bytes\n"
          ],
          "name": "stdout"
        }
      ]
    },
    {
      "cell_type": "code",
      "metadata": {
        "id": "FIZ39H6GG5b9",
        "colab_type": "code",
        "outputId": "e3659e9f-ef34-402f-a9ac-fa71eae40052",
        "colab": {
          "base_uri": "https://localhost:8080/",
          "height": 206
        }
      },
      "source": [
        "airports_df.head()"
      ],
      "execution_count": 0,
      "outputs": [
        {
          "output_type": "execute_result",
          "data": {
            "text/html": [
              "<div>\n",
              "<style scoped>\n",
              "    .dataframe tbody tr th:only-of-type {\n",
              "        vertical-align: middle;\n",
              "    }\n",
              "\n",
              "    .dataframe tbody tr th {\n",
              "        vertical-align: top;\n",
              "    }\n",
              "\n",
              "    .dataframe thead th {\n",
              "        text-align: right;\n",
              "    }\n",
              "</style>\n",
              "<table border=\"1\" class=\"dataframe\">\n",
              "  <thead>\n",
              "    <tr style=\"text-align: left;\">\n",
              "      <th></th>\n",
              "      <th>IATA_CODE</th>\n",
              "      <th>AIRPORT</th>\n",
              "      <th>CITY</th>\n",
              "      <th>STATE</th>\n",
              "      <th>COUNTRY</th>\n",
              "      <th>LATITUDE</th>\n",
              "      <th>LONGITUDE</th>\n",
              "    </tr>\n",
              "  </thead>\n",
              "  <tbody>\n",
              "    <tr>\n",
              "      <th>0</th>\n",
              "      <td>ABE</td>\n",
              "      <td>Lehigh Valley International Airport</td>\n",
              "      <td>Allentown</td>\n",
              "      <td>PA</td>\n",
              "      <td>USA</td>\n",
              "      <td>40.65236</td>\n",
              "      <td>-75.44040</td>\n",
              "    </tr>\n",
              "    <tr>\n",
              "      <th>1</th>\n",
              "      <td>ABI</td>\n",
              "      <td>Abilene Regional Airport</td>\n",
              "      <td>Abilene</td>\n",
              "      <td>TX</td>\n",
              "      <td>USA</td>\n",
              "      <td>32.41132</td>\n",
              "      <td>-99.68190</td>\n",
              "    </tr>\n",
              "    <tr>\n",
              "      <th>2</th>\n",
              "      <td>ABQ</td>\n",
              "      <td>Albuquerque International Sunport</td>\n",
              "      <td>Albuquerque</td>\n",
              "      <td>NM</td>\n",
              "      <td>USA</td>\n",
              "      <td>35.04022</td>\n",
              "      <td>-106.60919</td>\n",
              "    </tr>\n",
              "    <tr>\n",
              "      <th>3</th>\n",
              "      <td>ABR</td>\n",
              "      <td>Aberdeen Regional Airport</td>\n",
              "      <td>Aberdeen</td>\n",
              "      <td>SD</td>\n",
              "      <td>USA</td>\n",
              "      <td>45.44906</td>\n",
              "      <td>-98.42183</td>\n",
              "    </tr>\n",
              "    <tr>\n",
              "      <th>4</th>\n",
              "      <td>ABY</td>\n",
              "      <td>Southwest Georgia Regional Airport</td>\n",
              "      <td>Albany</td>\n",
              "      <td>GA</td>\n",
              "      <td>USA</td>\n",
              "      <td>31.53552</td>\n",
              "      <td>-84.19447</td>\n",
              "    </tr>\n",
              "  </tbody>\n",
              "</table>\n",
              "</div>"
            ],
            "text/plain": [
              "  IATA_CODE AIRPORT                              CITY         STATE COUNTRY  \\\n",
              "0  ABE       Lehigh Valley International Airport  Allentown    PA    USA      \n",
              "1  ABI       Abilene Regional Airport             Abilene      TX    USA      \n",
              "2  ABQ       Albuquerque International Sunport    Albuquerque  NM    USA      \n",
              "3  ABR       Aberdeen Regional Airport            Aberdeen     SD    USA      \n",
              "4  ABY       Southwest Georgia Regional Airport   Albany       GA    USA      \n",
              "\n",
              "   LATITUDE  LONGITUDE  \n",
              "0  40.65236 -75.44040   \n",
              "1  32.41132 -99.68190   \n",
              "2  35.04022 -106.60919  \n",
              "3  45.44906 -98.42183   \n",
              "4  31.53552 -84.19447   "
            ]
          },
          "metadata": {
            "tags": []
          },
          "execution_count": 22
        }
      ]
    },
    {
      "cell_type": "code",
      "metadata": {
        "id": "1saK9lILG5fK",
        "colab_type": "code",
        "outputId": "26b487cd-979d-4827-acc9-ad14c7129b5a",
        "colab": {
          "base_uri": "https://localhost:8080/",
          "height": 35
        }
      },
      "source": [
        "print (\"The shape of airports dataset is\", airports_df.shape)"
      ],
      "execution_count": 0,
      "outputs": [
        {
          "output_type": "stream",
          "text": [
            "The shape of airports dataset is (322, 7)\n"
          ],
          "name": "stdout"
        }
      ]
    },
    {
      "cell_type": "code",
      "metadata": {
        "id": "UCVGFqAIG5i5",
        "colab_type": "code",
        "outputId": "0e702034-f57a-4e8f-bb3f-c766ee9ae456",
        "colab": {
          "base_uri": "https://localhost:8080/",
          "height": 237
        }
      },
      "source": [
        "airports_df.info()"
      ],
      "execution_count": 0,
      "outputs": [
        {
          "output_type": "stream",
          "text": [
            "<class 'pandas.core.frame.DataFrame'>\n",
            "RangeIndex: 322 entries, 0 to 321\n",
            "Data columns (total 7 columns):\n",
            "IATA_CODE    322 non-null object\n",
            "AIRPORT      322 non-null object\n",
            "CITY         322 non-null object\n",
            "STATE        322 non-null object\n",
            "COUNTRY      322 non-null object\n",
            "LATITUDE     319 non-null float64\n",
            "LONGITUDE    319 non-null float64\n",
            "dtypes: float64(2), object(5)\n",
            "memory usage: 17.7+ KB\n"
          ],
          "name": "stdout"
        }
      ]
    },
    {
      "cell_type": "code",
      "metadata": {
        "id": "jr_dvgjCNP99",
        "colab_type": "code",
        "outputId": "a7b7cae3-3e1e-4a7d-9378-105aa37e915b",
        "colab": {
          "base_uri": "https://localhost:8080/",
          "height": 1000
        }
      },
      "source": [
        "missing_df = flights_df.isnull().sum(axis=0).reset_index()\n",
        "missing_df.columns = ['variable', 'missing values']\n",
        "missing_df['filling factor (%)']=(flights_df.shape[0]-missing_df['missing values'])/flights_df.shape[0]*100\n",
        "missing_df.sort_values('filling factor (%)').reset_index(drop = True)"
      ],
      "execution_count": 0,
      "outputs": [
        {
          "output_type": "execute_result",
          "data": {
            "text/html": [
              "<div>\n",
              "<style scoped>\n",
              "    .dataframe tbody tr th:only-of-type {\n",
              "        vertical-align: middle;\n",
              "    }\n",
              "\n",
              "    .dataframe tbody tr th {\n",
              "        vertical-align: top;\n",
              "    }\n",
              "\n",
              "    .dataframe thead th {\n",
              "        text-align: right;\n",
              "    }\n",
              "</style>\n",
              "<table border=\"1\" class=\"dataframe\">\n",
              "  <thead>\n",
              "    <tr style=\"text-align: left;\">\n",
              "      <th></th>\n",
              "      <th>variable</th>\n",
              "      <th>missing values</th>\n",
              "      <th>filling factor (%)</th>\n",
              "    </tr>\n",
              "  </thead>\n",
              "  <tbody>\n",
              "    <tr>\n",
              "      <th>0</th>\n",
              "      <td>CANCELLATION_REASON</td>\n",
              "      <td>5729195</td>\n",
              "      <td>1.54464</td>\n",
              "    </tr>\n",
              "    <tr>\n",
              "      <th>1</th>\n",
              "      <td>WEATHER_DELAY</td>\n",
              "      <td>4755640</td>\n",
              "      <td>18.27504</td>\n",
              "    </tr>\n",
              "    <tr>\n",
              "      <th>2</th>\n",
              "      <td>AIRLINE_DELAY</td>\n",
              "      <td>4755640</td>\n",
              "      <td>18.27504</td>\n",
              "    </tr>\n",
              "    <tr>\n",
              "      <th>3</th>\n",
              "      <td>SECURITY_DELAY</td>\n",
              "      <td>4755640</td>\n",
              "      <td>18.27504</td>\n",
              "    </tr>\n",
              "    <tr>\n",
              "      <th>4</th>\n",
              "      <td>AIR_SYSTEM_DELAY</td>\n",
              "      <td>4755640</td>\n",
              "      <td>18.27504</td>\n",
              "    </tr>\n",
              "    <tr>\n",
              "      <th>5</th>\n",
              "      <td>LATE_AIRCRAFT_DELAY</td>\n",
              "      <td>4755640</td>\n",
              "      <td>18.27504</td>\n",
              "    </tr>\n",
              "    <tr>\n",
              "      <th>6</th>\n",
              "      <td>ARRIVAL_DELAY</td>\n",
              "      <td>105071</td>\n",
              "      <td>98.19437</td>\n",
              "    </tr>\n",
              "    <tr>\n",
              "      <th>7</th>\n",
              "      <td>AIR_TIME</td>\n",
              "      <td>105071</td>\n",
              "      <td>98.19437</td>\n",
              "    </tr>\n",
              "    <tr>\n",
              "      <th>8</th>\n",
              "      <td>ELAPSED_TIME</td>\n",
              "      <td>105071</td>\n",
              "      <td>98.19437</td>\n",
              "    </tr>\n",
              "    <tr>\n",
              "      <th>9</th>\n",
              "      <td>TAXI_IN</td>\n",
              "      <td>92513</td>\n",
              "      <td>98.41018</td>\n",
              "    </tr>\n",
              "    <tr>\n",
              "      <th>10</th>\n",
              "      <td>WHEELS_ON</td>\n",
              "      <td>92513</td>\n",
              "      <td>98.41018</td>\n",
              "    </tr>\n",
              "    <tr>\n",
              "      <th>11</th>\n",
              "      <td>ARRIVAL_TIME</td>\n",
              "      <td>92513</td>\n",
              "      <td>98.41018</td>\n",
              "    </tr>\n",
              "    <tr>\n",
              "      <th>12</th>\n",
              "      <td>TAXI_OUT</td>\n",
              "      <td>89047</td>\n",
              "      <td>98.46974</td>\n",
              "    </tr>\n",
              "    <tr>\n",
              "      <th>13</th>\n",
              "      <td>WHEELS_OFF</td>\n",
              "      <td>89047</td>\n",
              "      <td>98.46974</td>\n",
              "    </tr>\n",
              "    <tr>\n",
              "      <th>14</th>\n",
              "      <td>DEPARTURE_TIME</td>\n",
              "      <td>86153</td>\n",
              "      <td>98.51947</td>\n",
              "    </tr>\n",
              "    <tr>\n",
              "      <th>15</th>\n",
              "      <td>DEPARTURE_DELAY</td>\n",
              "      <td>86153</td>\n",
              "      <td>98.51947</td>\n",
              "    </tr>\n",
              "    <tr>\n",
              "      <th>16</th>\n",
              "      <td>TAIL_NUMBER</td>\n",
              "      <td>14721</td>\n",
              "      <td>99.74702</td>\n",
              "    </tr>\n",
              "    <tr>\n",
              "      <th>17</th>\n",
              "      <td>SCHEDULED_TIME</td>\n",
              "      <td>6</td>\n",
              "      <td>99.99990</td>\n",
              "    </tr>\n",
              "    <tr>\n",
              "      <th>18</th>\n",
              "      <td>MONTH</td>\n",
              "      <td>0</td>\n",
              "      <td>100.00000</td>\n",
              "    </tr>\n",
              "    <tr>\n",
              "      <th>19</th>\n",
              "      <td>DAY</td>\n",
              "      <td>0</td>\n",
              "      <td>100.00000</td>\n",
              "    </tr>\n",
              "    <tr>\n",
              "      <th>20</th>\n",
              "      <td>DAY_OF_WEEK</td>\n",
              "      <td>0</td>\n",
              "      <td>100.00000</td>\n",
              "    </tr>\n",
              "    <tr>\n",
              "      <th>21</th>\n",
              "      <td>AIRLINE</td>\n",
              "      <td>0</td>\n",
              "      <td>100.00000</td>\n",
              "    </tr>\n",
              "    <tr>\n",
              "      <th>22</th>\n",
              "      <td>CANCELLED</td>\n",
              "      <td>0</td>\n",
              "      <td>100.00000</td>\n",
              "    </tr>\n",
              "    <tr>\n",
              "      <th>23</th>\n",
              "      <td>SCHEDULED_DEPARTURE</td>\n",
              "      <td>0</td>\n",
              "      <td>100.00000</td>\n",
              "    </tr>\n",
              "    <tr>\n",
              "      <th>24</th>\n",
              "      <td>FLIGHT_NUMBER</td>\n",
              "      <td>0</td>\n",
              "      <td>100.00000</td>\n",
              "    </tr>\n",
              "    <tr>\n",
              "      <th>25</th>\n",
              "      <td>SCHEDULED_ARRIVAL</td>\n",
              "      <td>0</td>\n",
              "      <td>100.00000</td>\n",
              "    </tr>\n",
              "    <tr>\n",
              "      <th>26</th>\n",
              "      <td>DESTINATION_AIRPORT</td>\n",
              "      <td>0</td>\n",
              "      <td>100.00000</td>\n",
              "    </tr>\n",
              "    <tr>\n",
              "      <th>27</th>\n",
              "      <td>DISTANCE</td>\n",
              "      <td>0</td>\n",
              "      <td>100.00000</td>\n",
              "    </tr>\n",
              "    <tr>\n",
              "      <th>28</th>\n",
              "      <td>ORIGIN_AIRPORT</td>\n",
              "      <td>0</td>\n",
              "      <td>100.00000</td>\n",
              "    </tr>\n",
              "    <tr>\n",
              "      <th>29</th>\n",
              "      <td>DIVERTED</td>\n",
              "      <td>0</td>\n",
              "      <td>100.00000</td>\n",
              "    </tr>\n",
              "    <tr>\n",
              "      <th>30</th>\n",
              "      <td>YEAR</td>\n",
              "      <td>0</td>\n",
              "      <td>100.00000</td>\n",
              "    </tr>\n",
              "  </tbody>\n",
              "</table>\n",
              "</div>"
            ],
            "text/plain": [
              "   variable              missing values  filling factor (%)\n",
              "0   CANCELLATION_REASON  5729195         1.54464           \n",
              "1   WEATHER_DELAY        4755640         18.27504          \n",
              "2   AIRLINE_DELAY        4755640         18.27504          \n",
              "3   SECURITY_DELAY       4755640         18.27504          \n",
              "4   AIR_SYSTEM_DELAY     4755640         18.27504          \n",
              "5   LATE_AIRCRAFT_DELAY  4755640         18.27504          \n",
              "6   ARRIVAL_DELAY        105071          98.19437          \n",
              "7   AIR_TIME             105071          98.19437          \n",
              "8   ELAPSED_TIME         105071          98.19437          \n",
              "9   TAXI_IN              92513           98.41018          \n",
              "10  WHEELS_ON            92513           98.41018          \n",
              "11  ARRIVAL_TIME         92513           98.41018          \n",
              "12  TAXI_OUT             89047           98.46974          \n",
              "13  WHEELS_OFF           89047           98.46974          \n",
              "14  DEPARTURE_TIME       86153           98.51947          \n",
              "15  DEPARTURE_DELAY      86153           98.51947          \n",
              "16  TAIL_NUMBER          14721           99.74702          \n",
              "17  SCHEDULED_TIME       6               99.99990          \n",
              "18  MONTH                0               100.00000         \n",
              "19  DAY                  0               100.00000         \n",
              "20  DAY_OF_WEEK          0               100.00000         \n",
              "21  AIRLINE              0               100.00000         \n",
              "22  CANCELLED            0               100.00000         \n",
              "23  SCHEDULED_DEPARTURE  0               100.00000         \n",
              "24  FLIGHT_NUMBER        0               100.00000         \n",
              "25  SCHEDULED_ARRIVAL    0               100.00000         \n",
              "26  DESTINATION_AIRPORT  0               100.00000         \n",
              "27  DISTANCE             0               100.00000         \n",
              "28  ORIGIN_AIRPORT       0               100.00000         \n",
              "29  DIVERTED             0               100.00000         \n",
              "30  YEAR                 0               100.00000         "
            ]
          },
          "metadata": {
            "tags": []
          },
          "execution_count": 16
        }
      ]
    },
    {
      "cell_type": "code",
      "metadata": {
        "id": "UBpm8zTlPeJf",
        "colab_type": "code",
        "outputId": "eae4201d-7035-42cc-c940-50f42941a067",
        "colab": {
          "base_uri": "https://localhost:8080/",
          "height": 35
        }
      },
      "source": [
        "flights_df['YEAR'].unique()"
      ],
      "execution_count": 0,
      "outputs": [
        {
          "output_type": "execute_result",
          "data": {
            "text/plain": [
              "array([2015])"
            ]
          },
          "metadata": {
            "tags": []
          },
          "execution_count": 17
        }
      ]
    },
    {
      "cell_type": "code",
      "metadata": {
        "id": "3lvGDYGURpEk",
        "colab_type": "code",
        "outputId": "375d64e5-ccc6-49a4-9d44-cbe2ae1c9ffa",
        "colab": {
          "base_uri": "https://localhost:8080/",
          "height": 35
        }
      },
      "source": [
        "flights_df['CANCELLATION_REASON'].count()"
      ],
      "execution_count": 0,
      "outputs": [
        {
          "output_type": "execute_result",
          "data": {
            "text/plain": [
              "89884"
            ]
          },
          "metadata": {
            "tags": []
          },
          "execution_count": 18
        }
      ]
    },
    {
      "cell_type": "code",
      "metadata": {
        "id": "aSfg90eBTslZ",
        "colab_type": "code",
        "outputId": "de5352ca-cbb2-459f-a8b7-043a623e3961",
        "colab": {
          "base_uri": "https://localhost:8080/",
          "height": 605
        }
      },
      "source": [
        "flights_df[flights_df['CANCELLED']== 1].count()"
      ],
      "execution_count": 0,
      "outputs": [
        {
          "output_type": "execute_result",
          "data": {
            "text/plain": [
              "YEAR                   89884\n",
              "MONTH                  89884\n",
              "DAY                    89884\n",
              "DAY_OF_WEEK            89884\n",
              "AIRLINE                89884\n",
              "FLIGHT_NUMBER          89884\n",
              "TAIL_NUMBER            75163\n",
              "ORIGIN_AIRPORT         89884\n",
              "DESTINATION_AIRPORT    89884\n",
              "SCHEDULED_DEPARTURE    89884\n",
              "DEPARTURE_TIME         3731 \n",
              "DEPARTURE_DELAY        3731 \n",
              "TAXI_OUT               837  \n",
              "WHEELS_OFF             837  \n",
              "SCHEDULED_TIME         89879\n",
              "ELAPSED_TIME           0    \n",
              "AIR_TIME               0    \n",
              "DISTANCE               89884\n",
              "WHEELS_ON              0    \n",
              "TAXI_IN                0    \n",
              "SCHEDULED_ARRIVAL      89884\n",
              "ARRIVAL_TIME           0    \n",
              "ARRIVAL_DELAY          0    \n",
              "DIVERTED               89884\n",
              "CANCELLED              89884\n",
              "CANCELLATION_REASON    89884\n",
              "AIR_SYSTEM_DELAY       0    \n",
              "SECURITY_DELAY         0    \n",
              "AIRLINE_DELAY          0    \n",
              "LATE_AIRCRAFT_DELAY    0    \n",
              "WEATHER_DELAY          0    \n",
              "dtype: int64"
            ]
          },
          "metadata": {
            "tags": []
          },
          "execution_count": 19
        }
      ]
    },
    {
      "cell_type": "markdown",
      "metadata": {
        "id": "pewo8tBxZ8n_",
        "colab_type": "text"
      },
      "source": [
        ""
      ]
    },
    {
      "cell_type": "code",
      "metadata": {
        "id": "lVYXu4e7SOU-",
        "colab_type": "code",
        "outputId": "10548e14-82cd-4325-c475-ef1021d06c38",
        "colab": {
          "base_uri": "https://localhost:8080/",
          "height": 605
        }
      },
      "source": [
        "flights_df[flights_df['ARRIVAL_DELAY'] > 15].count()"
      ],
      "execution_count": 0,
      "outputs": [
        {
          "output_type": "execute_result",
          "data": {
            "text/plain": [
              "YEAR                   1023498\n",
              "MONTH                  1023498\n",
              "DAY                    1023498\n",
              "DAY_OF_WEEK            1023498\n",
              "AIRLINE                1023498\n",
              "FLIGHT_NUMBER          1023498\n",
              "TAIL_NUMBER            1023498\n",
              "ORIGIN_AIRPORT         1023498\n",
              "DESTINATION_AIRPORT    1023498\n",
              "SCHEDULED_DEPARTURE    1023498\n",
              "DEPARTURE_TIME         1023498\n",
              "DEPARTURE_DELAY        1023498\n",
              "TAXI_OUT               1023498\n",
              "WHEELS_OFF             1023498\n",
              "SCHEDULED_TIME         1023498\n",
              "ELAPSED_TIME           1023498\n",
              "AIR_TIME               1023498\n",
              "DISTANCE               1023498\n",
              "WHEELS_ON              1023498\n",
              "TAXI_IN                1023498\n",
              "SCHEDULED_ARRIVAL      1023498\n",
              "ARRIVAL_TIME           1023498\n",
              "ARRIVAL_DELAY          1023498\n",
              "DIVERTED               1023498\n",
              "CANCELLED              1023498\n",
              "CANCELLATION_REASON    0      \n",
              "AIR_SYSTEM_DELAY       1023498\n",
              "SECURITY_DELAY         1023498\n",
              "AIRLINE_DELAY          1023498\n",
              "LATE_AIRCRAFT_DELAY    1023498\n",
              "WEATHER_DELAY          1023498\n",
              "dtype: int64"
            ]
          },
          "metadata": {
            "tags": []
          },
          "execution_count": 20
        }
      ]
    },
    {
      "cell_type": "code",
      "metadata": {
        "id": "8fvS_UxHTeD7",
        "colab_type": "code",
        "outputId": "10e338d4-531a-4759-fd89-35b7f89b9d9c",
        "colab": {
          "base_uri": "https://localhost:8080/",
          "height": 54
        }
      },
      "source": [
        "flights_df['AIRLINE'].unique()"
      ],
      "execution_count": 0,
      "outputs": [
        {
          "output_type": "execute_result",
          "data": {
            "text/plain": [
              "array(['AS', 'AA', 'US', 'DL', 'NK', 'UA', 'HA', 'B6', 'OO', 'EV', 'MQ',\n",
              "       'F9', 'WN', 'VX'], dtype=object)"
            ]
          },
          "metadata": {
            "tags": []
          },
          "execution_count": 21
        }
      ]
    },
    {
      "cell_type": "code",
      "metadata": {
        "id": "t0UGPuv_l-Ta",
        "colab_type": "code",
        "outputId": "d27cd911-19c0-4bac-f279-7eead91dc29a",
        "colab": {
          "base_uri": "https://localhost:8080/",
          "height": 1000
        }
      },
      "source": [
        "flights_df['DESTINATION_AIRPORT'].unique()"
      ],
      "execution_count": 0,
      "outputs": [
        {
          "output_type": "execute_result",
          "data": {
            "text/plain": [
              "array(['SEA', 'PBI', 'CLT', 'MIA', 'ANC', 'MSP', 'DFW', 'ATL', 'IAH',\n",
              "       'PDX', 'MCI', 'FLL', 'ORD', 'HNL', 'PHX', 'EWR', 'JFK', 'MCO',\n",
              "       'BOS', 'BDL', 'ITO', 'SFO', 'KOA', 'OGG', 'MYR', 'DTW', 'LIH',\n",
              "       'DEN', 'SJU', 'LAX', 'BWI', 'IAD', 'BQN', 'BUF', 'LGA', 'HOU',\n",
              "       'SLC', 'PHL', 'SJC', 'OAK', 'LGB', 'TPA', 'DCA', 'TTN', 'BTR',\n",
              "       'LAS', 'RSW', 'BRD', 'STL', 'RKS', 'MBS', 'SNA', 'MEI', 'MDW',\n",
              "       'SAN', 'RIC', 'AUS', 'OTZ', 'PIT', 'JAX', 'MSY', 'ONT', 'PSP',\n",
              "       'BUR', 'DAL', 'CVG', 'SMF', 'RDU', 'JMS', 'BNA', 'DSM', 'MAF',\n",
              "       'BOI', 'ELP', 'TUS', 'SCC', 'HPN', 'STT', 'MDT', 'RHI', 'SBP',\n",
              "       'MKE', 'JNU', 'CMH', 'CLD', 'KTN', 'CAK', 'CRP', 'CLE', 'GPT',\n",
              "       'SHV', 'TYS', 'IND', 'LIT', 'SAT', 'SRQ', 'TUL', 'GRK', 'PNS',\n",
              "       'BTV', 'CHS', 'DAY', 'OKC', 'SAV', 'XNA', 'COS', 'GJT', 'BZN',\n",
              "       'PUB', 'HRL', 'HDN', 'MEM', 'GEG', 'ORH', 'SYR', 'GSO', 'VPS',\n",
              "       'LAW', 'ACY', 'LBB', 'JAC', 'BIL', 'EUG', 'ASE', 'TVC', 'MTJ',\n",
              "       'CAE', 'PVD', 'HSV', 'CDC', 'YUM', 'ABQ', 'TLH', 'MLI', 'AMA',\n",
              "       'EGE', 'MOB', 'JAN', 'FWA', 'MSN', 'BIS', 'MFR', 'APN', 'BHM',\n",
              "       'OMA', 'LFT', 'GRR', 'MMH', 'CEC', 'SBA', 'RNO', 'CLL', 'LEX',\n",
              "       'LAN', 'DLH', 'SDF', 'FAT', 'SPS', 'SGF', 'CID', 'FSM', 'MGM',\n",
              "       'MFE', 'AVP', 'SJT', 'ROA', 'LRD', 'MRY', 'AGS', 'ROC', 'AEX',\n",
              "       'ISN', 'MLB', 'ORF', 'ICT', 'ECP', 'PIA', 'BPT', 'ACT', 'EYW',\n",
              "       'FSD', 'MLU', 'CHA', 'WRG', 'FNT', 'DIK', 'MHK', 'CNY', 'BRW',\n",
              "       'GRB', 'ATW', 'SAF', 'TYR', 'MKG', 'FLG', 'FCA', 'BTM', 'EVV',\n",
              "       'DRO', 'LNK', 'DBQ', 'FAR', 'OME', 'GSP', 'GUC', 'MSO', 'TXK',\n",
              "       'MOT', 'RAP', 'ISP', 'PWM', 'GGG', 'SBN', 'BFL', 'MHT', 'ROW',\n",
              "       'SIT', 'CMX', 'FAY', 'ILM', 'CMI', 'ALB', 'ABI', 'GTF', 'BMI',\n",
              "       'COU', 'HOB', 'GNV', 'SUN', 'SPI', 'PSG', 'BRO', 'AVL', 'TOL',\n",
              "       'SGU', 'GCC', 'HLN', 'CPR', 'PIH', 'BET', 'VEL', 'RDM', 'HYS',\n",
              "       'PSC', 'COD', 'INL', 'FAI', 'EKO', 'BJI', 'IDA', 'IMT', 'RST',\n",
              "       'HIB', 'ABR', 'STC', 'ACV', 'ESC', 'CIU', 'SWF', 'DAB', 'TRI',\n",
              "       'AZO', 'CRW', 'STX', 'GRI', 'CHO', 'GCK', 'PLN', 'LSE', 'SMX',\n",
              "       'RDD', 'PHF', 'LCH', 'GTR', 'LAR', 'ERI', 'PAH', 'EAU', 'LBE',\n",
              "       'BLI', 'DVL', 'CWA', 'ILG', 'OAJ', 'ABE', 'ALO', 'ABY', 'DHN',\n",
              "       'TWF', 'ADK', 'ELM', 'VLD', 'PIB', 'SUX', 'GUM', 'SCE', 'UST',\n",
              "       'BQK', 'JLN', 'LWS', 'MQT', 'EWN', 'CSG', 'PBG', 'PSE', 'IAG',\n",
              "       'YAK', 'CDV', 'OTH', 'ADQ', 'PPG', 'GFK', 'BGM', 'BGR', 'ITH',\n",
              "       'ACK', 'MVY', 'WYS', 'DLG', 'AKN', 'GST', 'HYA', '11298', '13487',\n",
              "       '13303', '11057', '13930', '10693', '14747', '12266', '12478',\n",
              "       '14057', '10397', '13198', '12173', '11618', '13204', '12402',\n",
              "       '12758', '14771', '11292', '13830', '14107', '12982', '11697',\n",
              "       '12519', '13577', '14869', '12339', '13232', '11259', '15016',\n",
              "       '12892', '12889', '10140', '10721', '15304', '14679', '14100',\n",
              "       '10732', '10821', '14831', '14843', '14570', '12191', '11433',\n",
              "       '12264', '14893', '13796', '12953', '14122', '13495', '12451',\n",
              "       '11042', '11278', '14908', '13342', '13891', '10299', '12523',\n",
              "       '12954', '14520', '12129', '10713', '10431', '11066', '10994',\n",
              "       '10423', '10792', '14683', '10800', '10551', '11193', '14307',\n",
              "       '11540', '14635', '13851', '15376', '11884', '14492', '14027',\n",
              "       '13970', '13184', '13296', '10599', '11986', '14698', '11423',\n",
              "       '13244', '14574', '12992', '13241', '12217', '13871', '12197',\n",
              "       '11003', '15919', '14524', '14689', '10529', '14576', '11995',\n",
              "       '11267', '12819', '14633', '11996', '13256', '13158', '12448',\n",
              "       '10781', '13422', '16218', '15370', '10868', '14730', '13931',\n",
              "       '13485', '14986', '15024', '11823', '11721', '14685', '10257',\n",
              "       '12206', '12255', '12951', '14709', '14321', '12391', '14794',\n",
              "       '10874', '12278', '11638', '10372', '11122', '14457', '15096',\n",
              "       '12896', '11109', '10279', '11481', '15412', '14814', '11641',\n",
              "       '10980', '12945', '10990', '10157', '13076', '13230', '15295',\n",
              "       '10918', '13933', '11953', '10135', '14262', '11067', '13277',\n",
              "       '11603', '10561', '11612', '15624', '11977', '15380', '13367',\n",
              "       '14193', '10333', '11778', '11140', '14783', '10136', '14842',\n",
              "       '11049', '14696', '11695', '11637', '15401', '14674', '13061',\n",
              "       '10685', '11982', '10469', '11921', '14108', '11413', '12891',\n",
              "       '11905', '14960', '15411', '10155', '10747', '10728', '13290',\n",
              "       '13433', '10208', '11973', '15323', '10849', '13360', '13795',\n",
              "       '14952', '13377', '10408', '10627', '13344', '13476', '11775',\n",
              "       '10158', '11898', '13029', '15249', '11337', '12915', '15356',\n",
              "       '13264', '11252', '10185', '11624', '12323', '15841', '10785',\n",
              "       '11146', '14098', '10434', '12389', '15991', '11315', '11150',\n",
              "       '12884', '11537', '11274', '11076', '10754', '13873', 13930, 10599,\n",
              "       11697, 12266, 14492, 11298, 14869, 14683, 11278, 15016, 13244,\n",
              "       11433, 12951, 13931, 11259, 10423, 14893, 11721, 12191, 14107,\n",
              "       14122, 14679, 13796, 11292, 13232, 12339, 14771, 14908, 13204,\n",
              "       11540, 13303, 12889, 13487, 12953, 10721, 13198, 11057, 14100,\n",
              "       15304, 14828, 12982, 14057, 10136, 11193, 11042, 12173, 11618,\n",
              "       15412, 13495, 15370, 10397, 14814, 11308, 10685, 11982, 14747,\n",
              "       14831, 13851, 12892, 13296, 11638, 14321, 11884, 12992, 14027,\n",
              "       15919, 12007, 13830, 10731, 14685, 12884, 10135, 11996, 12478,\n",
              "       12217, 13485, 11973, 10792, 14730, 10800, 11986, 11481, 10821,\n",
              "       10140, 10299, 14842, 10980, 12197, 10990, 12945, 10781, 11995,\n",
              "       10257, 13891, 13158, 12264, 12758, 10279, 14588, 10185, 13377,\n",
              "       14524, 10693, 12206, 15376, 12451, 11066, 11603, 14689, 11003,\n",
              "       11267, 15607, 10994, 14635, 13342, 14576, 15096, 14986, 12278,\n",
              "       12448, 10146, 14262, 10713, 14307, 15024, 10157, 13422, 10874,\n",
              "       14570, 14843, 15070, 14193, 13486, 12003, 13127, 13264, 12177,\n",
              "       12441, 12523, 14794, 12094, 12156, 14113, 12280, 11641, 14489,\n",
              "       10849, 12896, 14256, 10561, 12954, 10620, 11097, 10779, 11122,\n",
              "       10631, 12888, 15389, 15041, 14252, 12343, 12129, 11648, 10154,\n",
              "       13577, 14457, 13076, 12898, 13029, 12389, 13871, 10529, 12402,\n",
              "       11637, 13256, 12335, 11865, 11775, 10551, 15249, 10747, 15624,\n",
              "       12391, 10208, 10926, 12819, 11423, 13367, 14952, 13277, 11980,\n",
              "       11977, 11778, 15411, 13964, 11953, 11630, 11049, 11013, 11587,\n",
              "       15380, 11823, 11252, 11111, 14698, 11624, 13795, 12915, 14108,\n",
              "       11695, 11612, 10627, 13360, 15027, 10469, 14696, 14574, 15323,\n",
              "       11203, 14633, 11337, 13241, 14098, 10408, 10155, 11146, 13061,\n",
              "       14905, 13433, 11471, 14783, 10785, 11140, 12511, 12323, 10868,\n",
              "       14960, 10431, 10268, 11447, 11067, 13290, 15048, 13541, 13476,\n",
              "       16218, 11150, 12891, 11921, 10141, 14150, 14006, 13184, 11537,\n",
              "       10434, 13230, 11617, 11525, 11898, 11109, 11867, 14711, 11577,\n",
              "       12016, 14520, 14487, 10739, 14109, 10165, 11413, 10158, 15356,\n",
              "       14709, 12255, 14543, 11274, 15841, 10577, 14674, 10170, 10333,\n",
              "       10728, 13970, 15295, 15401, 15991, 11905, 10918, 15497, 10754,\n",
              "       13344, 11503, 13459, 13873, 11315, 12519, 11076, 10581, 12265,\n",
              "       14254, 10732, 10372, 13933, 14222, 14025, 13502, '10146', '13486',\n",
              "       '12003', '13127', '12441', '12177', '12156', '14113', '14256',\n",
              "       '14489', '10620', '11097', '10779', '10631', '12888', '15389',\n",
              "       '15041', '14252', '12343', '12898', '11648', '12280', '12335',\n",
              "       '11865', '10731', '10926', '11980', '11630', '11013', '11587',\n",
              "       '11111', '13964', '15027', '11203', '15070', '14150', '11471',\n",
              "       '14905', '12511', '10268', '15048', '11447', '11577', '10141',\n",
              "       '11308', '11617', '11525', '11867', '12016', '10739', '14711',\n",
              "       '14006', '14109', '14487', '15607', '14543', '14588', '10577',\n",
              "       '10170', '12007', '14828', '14222', '13459', '13502', '14254',\n",
              "       '14025', '15497', '12265', '10581', '10666'], dtype=object)"
            ]
          },
          "metadata": {
            "tags": []
          },
          "execution_count": 22
        }
      ]
    },
    {
      "cell_type": "code",
      "metadata": {
        "id": "RovrU0qOmJmF",
        "colab_type": "code",
        "outputId": "82e188bb-a013-43b5-eb8f-9844cd1939f1",
        "colab": {
          "base_uri": "https://localhost:8080/",
          "height": 182
        }
      },
      "source": [
        "flights_df['ARRIVAL_DELAY'].describe()"
      ],
      "execution_count": 0,
      "outputs": [
        {
          "output_type": "execute_result",
          "data": {
            "text/plain": [
              "count    5.71401e+06\n",
              "mean     4.40706e+00\n",
              "std      3.92713e+01\n",
              "min     -8.70000e+01\n",
              "25%     -1.30000e+01\n",
              "50%     -5.00000e+00\n",
              "75%      8.00000e+00\n",
              "max      1.97100e+03\n",
              "Name: ARRIVAL_DELAY, dtype: float64"
            ]
          },
          "metadata": {
            "tags": []
          },
          "execution_count": 32
        }
      ]
    },
    {
      "cell_type": "code",
      "metadata": {
        "id": "8jJwElNWmsQy",
        "colab_type": "code",
        "colab": {}
      },
      "source": [
        ""
      ],
      "execution_count": 0,
      "outputs": []
    },
    {
      "cell_type": "markdown",
      "metadata": {
        "id": "1vMkrudUndbC",
        "colab_type": "text"
      },
      "source": [
        "**'ARRIVAL_DELAY' The Target**"
      ]
    },
    {
      "cell_type": "code",
      "metadata": {
        "id": "tRod2KbVnlDQ",
        "colab_type": "code",
        "outputId": "ef2ddb74-6b5b-4e8e-c02d-efe37d07f46f",
        "colab": {
          "base_uri": "https://localhost:8080/",
          "height": 72
        }
      },
      "source": [
        "delayed_flights_df = flights_df[flights_df['ARRIVAL_DELAY']>0]\n",
        "print(\"The percentage of planes late in 2015 is %.2f\"%(delayed_flights_df.shape[0]*100/flights_df.shape[0]))\n",
        "ontime_flights_df = flights_df[flights_df['ARRIVAL_DELAY']==0]\n",
        "print(\"The percentage of planes right on time in 2015 is %.2f\"%(ontime_flights_df.shape[0]*100/flights_df.shape[0]))\n",
        "advance_flights_df = flights_df[flights_df['ARRIVAL_DELAY']<0]\n",
        "print(\"The percentage of planes that arrived ahead of time in 2015 is %.2f\"%(advance_flights_df.shape[0]*100/flights_df.shape[0]))"
      ],
      "execution_count": 0,
      "outputs": [
        {
          "output_type": "stream",
          "text": [
            "The percentage of planes late in 2015 is 35.86\n",
            "The percentage of planes right on time in 2015 is 2.17\n",
            "The percentage of planes that arrived ahead of time in 2015 is 60.16\n"
          ],
          "name": "stdout"
        }
      ]
    },
    {
      "cell_type": "code",
      "metadata": {
        "id": "4miX9N5rpbd5",
        "colab_type": "code",
        "outputId": "28c80009-63a6-449c-de9e-77495b4dbfe1",
        "colab": {
          "base_uri": "https://localhost:8080/",
          "height": 35
        }
      },
      "source": [
        "more_15min_flights_df = flights_df[flights_df['ARRIVAL_DELAY']>15]\n",
        "print(\"The percentage of planes that arrived more than 15 minutes late in 2015 is %.2f\"%(more_15min_flights_df.shape[0]*100/flights_df.shape[0]))"
      ],
      "execution_count": 0,
      "outputs": [
        {
          "output_type": "stream",
          "text": [
            "The percentage of planes that arrived more than 15 minutes late in 2015 is 17.59\n"
          ],
          "name": "stdout"
        }
      ]
    },
    {
      "cell_type": "code",
      "metadata": {
        "id": "gTw2z_ohqPYu",
        "colab_type": "code",
        "outputId": "530d4d13-08ef-423d-e380-fcccc3146884",
        "colab": {
          "base_uri": "https://localhost:8080/",
          "height": 35
        }
      },
      "source": [
        "more_15min_flights_df.shape"
      ],
      "execution_count": 0,
      "outputs": [
        {
          "output_type": "execute_result",
          "data": {
            "text/plain": [
              "(1023498, 31)"
            ]
          },
          "metadata": {
            "tags": []
          },
          "execution_count": 25
        }
      ]
    },
    {
      "cell_type": "code",
      "metadata": {
        "id": "09hlV8lXL0dy",
        "colab_type": "code",
        "outputId": "3e77096e-2096-4dc5-b7db-2501024a7958",
        "colab": {
          "base_uri": "https://localhost:8080/",
          "height": 300
        }
      },
      "source": [
        "flights_df.loc[:, ['ARRIVAL_DELAY']].describe()"
      ],
      "execution_count": 0,
      "outputs": [
        {
          "output_type": "execute_result",
          "data": {
            "text/html": [
              "<div>\n",
              "<style scoped>\n",
              "    .dataframe tbody tr th:only-of-type {\n",
              "        vertical-align: middle;\n",
              "    }\n",
              "\n",
              "    .dataframe tbody tr th {\n",
              "        vertical-align: top;\n",
              "    }\n",
              "\n",
              "    .dataframe thead th {\n",
              "        text-align: right;\n",
              "    }\n",
              "</style>\n",
              "<table border=\"1\" class=\"dataframe\">\n",
              "  <thead>\n",
              "    <tr style=\"text-align: left;\">\n",
              "      <th></th>\n",
              "      <th>ARRIVAL_DELAY</th>\n",
              "    </tr>\n",
              "  </thead>\n",
              "  <tbody>\n",
              "    <tr>\n",
              "      <th>count</th>\n",
              "      <td>5.71401e+06</td>\n",
              "    </tr>\n",
              "    <tr>\n",
              "      <th>mean</th>\n",
              "      <td>4.40706e+00</td>\n",
              "    </tr>\n",
              "    <tr>\n",
              "      <th>std</th>\n",
              "      <td>3.92713e+01</td>\n",
              "    </tr>\n",
              "    <tr>\n",
              "      <th>min</th>\n",
              "      <td>-8.70000e+01</td>\n",
              "    </tr>\n",
              "    <tr>\n",
              "      <th>25%</th>\n",
              "      <td>-1.30000e+01</td>\n",
              "    </tr>\n",
              "    <tr>\n",
              "      <th>50%</th>\n",
              "      <td>-5.00000e+00</td>\n",
              "    </tr>\n",
              "    <tr>\n",
              "      <th>75%</th>\n",
              "      <td>8.00000e+00</td>\n",
              "    </tr>\n",
              "    <tr>\n",
              "      <th>max</th>\n",
              "      <td>1.97100e+03</td>\n",
              "    </tr>\n",
              "  </tbody>\n",
              "</table>\n",
              "</div>"
            ],
            "text/plain": [
              "       ARRIVAL_DELAY\n",
              "count  5.71401e+06  \n",
              "mean   4.40706e+00  \n",
              "std    3.92713e+01  \n",
              "min   -8.70000e+01  \n",
              "25%   -1.30000e+01  \n",
              "50%   -5.00000e+00  \n",
              "75%    8.00000e+00  \n",
              "max    1.97100e+03  "
            ]
          },
          "metadata": {
            "tags": []
          },
          "execution_count": 26
        }
      ]
    },
    {
      "cell_type": "code",
      "metadata": {
        "id": "8Xq2mEfUK6NE",
        "colab_type": "code",
        "outputId": "2e329e30-b4ac-4d01-c01e-4308784e9015",
        "colab": {
          "base_uri": "https://localhost:8080/",
          "height": 302
        }
      },
      "source": [
        "plt.boxplot(flights_df.loc[:, ['ARRIVAL_DELAY']].dropna().T, showfliers=False)\n",
        "plt.ylabel('minutes of delays')\n",
        "plt.title('Distribution of delays')"
      ],
      "execution_count": 0,
      "outputs": [
        {
          "output_type": "execute_result",
          "data": {
            "text/plain": [
              "Text(0.5, 1.0, 'Distribution of delays')"
            ]
          },
          "metadata": {
            "tags": []
          },
          "execution_count": 27
        },
        {
          "output_type": "display_data",
          "data": {
            "image/png": "[encoded data removed]",
            "text/plain": [
              "<Figure size 432x288 with 1 Axes>"
            ]
          },
          "metadata": {
            "tags": []
          }
        }
      ]
    },
    {
      "cell_type": "code",
      "metadata": {
        "id": "JKhicWK1RRo9",
        "colab_type": "code",
        "outputId": "7701955b-e3e0-4a09-b172-25db5846cb3a",
        "colab": {
          "base_uri": "https://localhost:8080/",
          "height": 182
        }
      },
      "source": [
        "flights_df.columns"
      ],
      "execution_count": 0,
      "outputs": [
        {
          "output_type": "execute_result",
          "data": {
            "text/plain": [
              "Index(['YEAR', 'MONTH', 'DAY', 'DAY_OF_WEEK', 'AIRLINE', 'FLIGHT_NUMBER',\n",
              "       'TAIL_NUMBER', 'ORIGIN_AIRPORT', 'DESTINATION_AIRPORT',\n",
              "       'SCHEDULED_DEPARTURE', 'DEPARTURE_TIME', 'DEPARTURE_DELAY', 'TAXI_OUT',\n",
              "       'WHEELS_OFF', 'SCHEDULED_TIME', 'ELAPSED_TIME', 'AIR_TIME', 'DISTANCE',\n",
              "       'WHEELS_ON', 'TAXI_IN', 'SCHEDULED_ARRIVAL', 'ARRIVAL_TIME',\n",
              "       'ARRIVAL_DELAY', 'DIVERTED', 'CANCELLED', 'CANCELLATION_REASON',\n",
              "       'AIR_SYSTEM_DELAY', 'SECURITY_DELAY', 'AIRLINE_DELAY',\n",
              "       'LATE_AIRCRAFT_DELAY', 'WEATHER_DELAY'],\n",
              "      dtype='object')"
            ]
          },
          "metadata": {
            "tags": []
          },
          "execution_count": 28
        }
      ]
    },
    {
      "cell_type": "markdown",
      "metadata": {
        "id": "7BQJtqnniB_z",
        "colab_type": "text"
      },
      "source": [
        "1. Categorical Features\n",
        "MONTH - Month of the Flight Trip\n",
        "DAY_OF_WEEK - Day of week of the Flight Trip\n",
        "AIRLINE - Airline Identifier\n",
        "   map to full airline name\n",
        "SCHEDULED_ARRIVAL - Planned Arrival Time\n",
        "  map into 4 categories: early morning, morning, afternoon, evening\n",
        "\n",
        "2. Numerical Features\n",
        "DEPARTURE_DELAY - Total Delay on Departure\n",
        "TAXI_OUT - The time duration elapsed between departure from the origin airport gate and wheels off\n",
        "WHEELS_OFF - The time point that the aircraft's wheels leave the ground\n",
        "SCHEDULED_TIME - Planned time amount needed for the flight trip\n",
        "DISTANCE - Distance between two airports\n",
        "\n",
        " 3. Target Feature\n",
        "ARRIVAL_DELAY - ARRIVAL_TIME-SCHEDULED_ARRIVAL\n",
        "   map to binary data\n",
        "               >= 15 min delay = 1\n",
        "               < 15 min delay = 0\n",
        "\n",
        "\n",
        "4. Filter out record if following columns == 1\n",
        "\n",
        "DIVERTED - Aircraft landed on airport that out of schedule\n",
        "CANCELLED - Flight Cancelled (1 = cancelled)"
      ]
    },
    {
      "cell_type": "code",
      "metadata": {
        "id": "R92svpVSjEXy",
        "colab_type": "code",
        "outputId": "38f999e8-de4d-4760-f67d-14b2d8e8b398",
        "colab": {
          "base_uri": "https://localhost:8080/",
          "height": 513
        }
      },
      "source": [
        "corr_matrix = flights_df.corr()\n",
        "corr_matrix['ARRIVAL_DELAY'].sort_values(ascending=False)"
      ],
      "execution_count": 0,
      "outputs": [
        {
          "output_type": "execute_result",
          "data": {
            "text/plain": [
              "ARRIVAL_DELAY          1.00000\n",
              "DEPARTURE_DELAY        0.94467\n",
              "AIRLINE_DELAY          0.60935\n",
              "LATE_AIRCRAFT_DELAY    0.52201\n",
              "WEATHER_DELAY          0.26480\n",
              "AIR_SYSTEM_DELAY       0.24719\n",
              "TAXI_OUT               0.22732\n",
              "DEPARTURE_TIME         0.15979\n",
              "WHEELS_OFF             0.15577\n",
              "TAXI_IN                0.11663\n",
              "SCHEDULED_DEPARTURE    0.10022\n",
              "SCHEDULED_ARRIVAL      0.08882\n",
              "WHEELS_ON              0.05888\n",
              "ARRIVAL_TIME           0.04988\n",
              "ELAPSED_TIME           0.02912\n",
              "FLIGHT_NUMBER          0.01842\n",
              "SECURITY_DELAY         0.00965\n",
              "DAY                   -0.00310\n",
              "AIR_TIME              -0.00711\n",
              "DAY_OF_WEEK           -0.01703\n",
              "DISTANCE              -0.02544\n",
              "SCHEDULED_TIME        -0.03003\n",
              "MONTH                 -0.03679\n",
              "YEAR                  NaN     \n",
              "DIVERTED              NaN     \n",
              "CANCELLED             NaN     \n",
              "Name: ARRIVAL_DELAY, dtype: float64"
            ]
          },
          "metadata": {
            "tags": []
          },
          "execution_count": 29
        }
      ]
    },
    {
      "cell_type": "markdown",
      "metadata": {
        "id": "oydVBqtZ1X7r",
        "colab_type": "text"
      },
      "source": [
        "### Feature removal\n",
        "\n",
        "Drop features that don't provide any added value"
      ]
    },
    {
      "cell_type": "code",
      "metadata": {
        "id": "OSM6Bx-H18Ip",
        "colab_type": "code",
        "colab": {}
      },
      "source": [
        " final_flights_df = flights_df.drop(columns = ['YEAR', 'DAY', 'FLIGHT_NUMBER',\n",
        "       'TAIL_NUMBER', 'ORIGIN_AIRPORT', 'DESTINATION_AIRPORT',\n",
        "       'SCHEDULED_DEPARTURE', 'DEPARTURE_TIME',\n",
        "       'ELAPSED_TIME', 'AIR_TIME',\n",
        "       'WHEELS_ON', 'TAXI_IN', 'SCHEDULED_ARRIVAL', 'ARRIVAL_TIME',\n",
        "       'CANCELLATION_REASON',\n",
        "       'AIR_SYSTEM_DELAY', 'SECURITY_DELAY', 'AIRLINE_DELAY',\n",
        "       'LATE_AIRCRAFT_DELAY', 'WEATHER_DELAY'])"
      ],
      "execution_count": 0,
      "outputs": []
    },
    {
      "cell_type": "code",
      "metadata": {
        "id": "abWJHiCI1adI",
        "colab_type": "code",
        "outputId": "53878299-f86f-42f6-b69e-02d3544c41e0",
        "colab": {
          "base_uri": "https://localhost:8080/",
          "height": 206
        }
      },
      "source": [
        "final_flights_df.head()"
      ],
      "execution_count": 0,
      "outputs": [
        {
          "output_type": "execute_result",
          "data": {
            "text/html": [
              "<div>\n",
              "<style scoped>\n",
              "    .dataframe tbody tr th:only-of-type {\n",
              "        vertical-align: middle;\n",
              "    }\n",
              "\n",
              "    .dataframe tbody tr th {\n",
              "        vertical-align: top;\n",
              "    }\n",
              "\n",
              "    .dataframe thead th {\n",
              "        text-align: right;\n",
              "    }\n",
              "</style>\n",
              "<table border=\"1\" class=\"dataframe\">\n",
              "  <thead>\n",
              "    <tr style=\"text-align: left;\">\n",
              "      <th></th>\n",
              "      <th>MONTH</th>\n",
              "      <th>DAY_OF_WEEK</th>\n",
              "      <th>AIRLINE</th>\n",
              "      <th>DEPARTURE_DELAY</th>\n",
              "      <th>TAXI_OUT</th>\n",
              "      <th>WHEELS_OFF</th>\n",
              "      <th>SCHEDULED_TIME</th>\n",
              "      <th>DISTANCE</th>\n",
              "      <th>ARRIVAL_DELAY</th>\n",
              "      <th>DIVERTED</th>\n",
              "      <th>CANCELLED</th>\n",
              "    </tr>\n",
              "  </thead>\n",
              "  <tbody>\n",
              "    <tr>\n",
              "      <th>0</th>\n",
              "      <td>1</td>\n",
              "      <td>4</td>\n",
              "      <td>AS</td>\n",
              "      <td>-11.0</td>\n",
              "      <td>21.0</td>\n",
              "      <td>15.0</td>\n",
              "      <td>205.0</td>\n",
              "      <td>1448</td>\n",
              "      <td>-22.0</td>\n",
              "      <td>0</td>\n",
              "      <td>0</td>\n",
              "    </tr>\n",
              "    <tr>\n",
              "      <th>1</th>\n",
              "      <td>1</td>\n",
              "      <td>4</td>\n",
              "      <td>AA</td>\n",
              "      <td>-8.0</td>\n",
              "      <td>12.0</td>\n",
              "      <td>14.0</td>\n",
              "      <td>280.0</td>\n",
              "      <td>2330</td>\n",
              "      <td>-9.0</td>\n",
              "      <td>0</td>\n",
              "      <td>0</td>\n",
              "    </tr>\n",
              "    <tr>\n",
              "      <th>2</th>\n",
              "      <td>1</td>\n",
              "      <td>4</td>\n",
              "      <td>US</td>\n",
              "      <td>-2.0</td>\n",
              "      <td>16.0</td>\n",
              "      <td>34.0</td>\n",
              "      <td>286.0</td>\n",
              "      <td>2296</td>\n",
              "      <td>5.0</td>\n",
              "      <td>0</td>\n",
              "      <td>0</td>\n",
              "    </tr>\n",
              "    <tr>\n",
              "      <th>3</th>\n",
              "      <td>1</td>\n",
              "      <td>4</td>\n",
              "      <td>AA</td>\n",
              "      <td>-5.0</td>\n",
              "      <td>15.0</td>\n",
              "      <td>30.0</td>\n",
              "      <td>285.0</td>\n",
              "      <td>2342</td>\n",
              "      <td>-9.0</td>\n",
              "      <td>0</td>\n",
              "      <td>0</td>\n",
              "    </tr>\n",
              "    <tr>\n",
              "      <th>4</th>\n",
              "      <td>1</td>\n",
              "      <td>4</td>\n",
              "      <td>AS</td>\n",
              "      <td>-1.0</td>\n",
              "      <td>11.0</td>\n",
              "      <td>35.0</td>\n",
              "      <td>235.0</td>\n",
              "      <td>1448</td>\n",
              "      <td>-21.0</td>\n",
              "      <td>0</td>\n",
              "      <td>0</td>\n",
              "    </tr>\n",
              "  </tbody>\n",
              "</table>\n",
              "</div>"
            ],
            "text/plain": [
              "   MONTH  DAY_OF_WEEK AIRLINE  DEPARTURE_DELAY  TAXI_OUT  WHEELS_OFF  \\\n",
              "0  1      4            AS     -11.0             21.0      15.0         \n",
              "1  1      4            AA     -8.0              12.0      14.0         \n",
              "2  1      4            US     -2.0              16.0      34.0         \n",
              "3  1      4            AA     -5.0              15.0      30.0         \n",
              "4  1      4            AS     -1.0              11.0      35.0         \n",
              "\n",
              "   SCHEDULED_TIME  DISTANCE  ARRIVAL_DELAY  DIVERTED  CANCELLED  \n",
              "0  205.0           1448     -22.0           0         0          \n",
              "1  280.0           2330     -9.0            0         0          \n",
              "2  286.0           2296      5.0            0         0          \n",
              "3  285.0           2342     -9.0            0         0          \n",
              "4  235.0           1448     -21.0           0         0          "
            ]
          },
          "metadata": {
            "tags": []
          },
          "execution_count": 31
        }
      ]
    },
    {
      "cell_type": "code",
      "metadata": {
        "id": "F-RwV4LS7ANg",
        "colab_type": "code",
        "colab": {}
      },
      "source": [
        "# We have to filtered out the diverted and cancelled flights\n",
        "\n",
        "final_flights_df = final_flights_df[final_flights_df['CANCELLED'] == 0]"
      ],
      "execution_count": 0,
      "outputs": []
    },
    {
      "cell_type": "code",
      "metadata": {
        "id": "HXvsK-7S9AEn",
        "colab_type": "code",
        "colab": {}
      },
      "source": [
        "final_flights_df = final_flights_df[final_flights_df['DIVERTED'] == 0]"
      ],
      "execution_count": 0,
      "outputs": []
    },
    {
      "cell_type": "code",
      "metadata": {
        "id": "i95xPO4B--rt",
        "colab_type": "code",
        "colab": {}
      },
      "source": [
        "final_flights_df.drop(columns = ['CANCELLED','DIVERTED'], inplace = True)"
      ],
      "execution_count": 0,
      "outputs": []
    },
    {
      "cell_type": "code",
      "metadata": {
        "id": "0JNKjF0r_rVE",
        "colab_type": "code",
        "outputId": "8aaf2a40-b7dc-49e6-e0e2-78004403a713",
        "colab": {
          "base_uri": "https://localhost:8080/",
          "height": 274
        }
      },
      "source": [
        "final_flights_df.info()"
      ],
      "execution_count": 0,
      "outputs": [
        {
          "output_type": "stream",
          "text": [
            "<class 'pandas.core.frame.DataFrame'>\n",
            "Int64Index: 5714008 entries, 0 to 5819078\n",
            "Data columns (total 9 columns):\n",
            "MONTH              int64\n",
            "DAY_OF_WEEK        int64\n",
            "AIRLINE            object\n",
            "DEPARTURE_DELAY    float64\n",
            "TAXI_OUT           float64\n",
            "WHEELS_OFF         float64\n",
            "SCHEDULED_TIME     float64\n",
            "DISTANCE           int64\n",
            "ARRIVAL_DELAY      float64\n",
            "dtypes: float64(5), int64(3), object(1)\n",
            "memory usage: 435.9+ MB\n"
          ],
          "name": "stdout"
        }
      ]
    },
    {
      "cell_type": "code",
      "metadata": {
        "id": "zliZWxbp_BYJ",
        "colab_type": "code",
        "outputId": "2453fec6-40b8-4ea3-ebaa-f28d856b90d5",
        "colab": {
          "base_uri": "https://localhost:8080/",
          "height": 332
        }
      },
      "source": [
        "missing = final_flights_df.isnull().sum(axis=0).reset_index()\n",
        "missing.columns = ['variable', 'missing values']\n",
        "missing"
      ],
      "execution_count": 0,
      "outputs": [
        {
          "output_type": "execute_result",
          "data": {
            "text/html": [
              "<div>\n",
              "<style scoped>\n",
              "    .dataframe tbody tr th:only-of-type {\n",
              "        vertical-align: middle;\n",
              "    }\n",
              "\n",
              "    .dataframe tbody tr th {\n",
              "        vertical-align: top;\n",
              "    }\n",
              "\n",
              "    .dataframe thead th {\n",
              "        text-align: right;\n",
              "    }\n",
              "</style>\n",
              "<table border=\"1\" class=\"dataframe\">\n",
              "  <thead>\n",
              "    <tr style=\"text-align: left;\">\n",
              "      <th></th>\n",
              "      <th>variable</th>\n",
              "      <th>missing values</th>\n",
              "    </tr>\n",
              "  </thead>\n",
              "  <tbody>\n",
              "    <tr>\n",
              "      <th>0</th>\n",
              "      <td>MONTH</td>\n",
              "      <td>0</td>\n",
              "    </tr>\n",
              "    <tr>\n",
              "      <th>1</th>\n",
              "      <td>DAY_OF_WEEK</td>\n",
              "      <td>0</td>\n",
              "    </tr>\n",
              "    <tr>\n",
              "      <th>2</th>\n",
              "      <td>AIRLINE</td>\n",
              "      <td>0</td>\n",
              "    </tr>\n",
              "    <tr>\n",
              "      <th>3</th>\n",
              "      <td>DEPARTURE_DELAY</td>\n",
              "      <td>0</td>\n",
              "    </tr>\n",
              "    <tr>\n",
              "      <th>4</th>\n",
              "      <td>TAXI_OUT</td>\n",
              "      <td>0</td>\n",
              "    </tr>\n",
              "    <tr>\n",
              "      <th>5</th>\n",
              "      <td>WHEELS_OFF</td>\n",
              "      <td>0</td>\n",
              "    </tr>\n",
              "    <tr>\n",
              "      <th>6</th>\n",
              "      <td>SCHEDULED_TIME</td>\n",
              "      <td>0</td>\n",
              "    </tr>\n",
              "    <tr>\n",
              "      <th>7</th>\n",
              "      <td>DISTANCE</td>\n",
              "      <td>0</td>\n",
              "    </tr>\n",
              "    <tr>\n",
              "      <th>8</th>\n",
              "      <td>ARRIVAL_DELAY</td>\n",
              "      <td>0</td>\n",
              "    </tr>\n",
              "  </tbody>\n",
              "</table>\n",
              "</div>"
            ],
            "text/plain": [
              "  variable          missing values\n",
              "0  MONTH            0             \n",
              "1  DAY_OF_WEEK      0             \n",
              "2  AIRLINE          0             \n",
              "3  DEPARTURE_DELAY  0             \n",
              "4  TAXI_OUT         0             \n",
              "5  WHEELS_OFF       0             \n",
              "6  SCHEDULED_TIME   0             \n",
              "7  DISTANCE         0             \n",
              "8  ARRIVAL_DELAY    0             "
            ]
          },
          "metadata": {
            "tags": []
          },
          "execution_count": 36
        }
      ]
    },
    {
      "cell_type": "markdown",
      "metadata": {
        "id": "SWOT_lDqEf93",
        "colab_type": "text"
      },
      "source": [
        "### Feature Conversion"
      ]
    },
    {
      "cell_type": "markdown",
      "metadata": {
        "id": "QWwhf3YzEdGY",
        "colab_type": "text"
      },
      "source": [
        "For further use, I put the content of this this dataframe in a dictionary:\n",
        "\n",
        "Categorical Features MONTH - Month of the Flight Trip DAY_OF_WEEK - Day of week of the Flight Trip AIRLINE - Airline Identifier map to full airline name SCHEDULED_ARRIVAL - Planned Arrival Time map into 4 categories: early morning, morning, afternoon, evening"
      ]
    },
    {
      "cell_type": "code",
      "metadata": {
        "id": "oP_NCACXE5_d",
        "colab_type": "code",
        "colab": {}
      },
      "source": [
        "airlines_names = airlines_df.set_index('IATA_CODE')['AIRLINE'].to_dict()"
      ],
      "execution_count": 0,
      "outputs": []
    },
    {
      "cell_type": "code",
      "metadata": {
        "id": "2DNnIY5aFFE4",
        "colab_type": "code",
        "outputId": "0bf806c5-db33-48b5-ec39-d0fe49a3a66e",
        "colab": {
          "base_uri": "https://localhost:8080/",
          "height": 274
        }
      },
      "source": [
        "airlines_names"
      ],
      "execution_count": 0,
      "outputs": [
        {
          "output_type": "execute_result",
          "data": {
            "text/plain": [
              "{'AA': 'American Airlines Inc.',\n",
              " 'AS': 'Alaska Airlines Inc.',\n",
              " 'B6': 'JetBlue Airways',\n",
              " 'DL': 'Delta Air Lines Inc.',\n",
              " 'EV': 'Atlantic Southeast Airlines',\n",
              " 'F9': 'Frontier Airlines Inc.',\n",
              " 'HA': 'Hawaiian Airlines Inc.',\n",
              " 'MQ': 'American Eagle Airlines Inc.',\n",
              " 'NK': 'Spirit Air Lines',\n",
              " 'OO': 'Skywest Airlines Inc.',\n",
              " 'UA': 'United Air Lines Inc.',\n",
              " 'US': 'US Airways Inc.',\n",
              " 'VX': 'Virgin America',\n",
              " 'WN': 'Southwest Airlines Co.'}"
            ]
          },
          "metadata": {
            "tags": []
          },
          "execution_count": 38
        }
      ]
    },
    {
      "cell_type": "code",
      "metadata": {
        "id": "Lak14aR1FK6C",
        "colab_type": "code",
        "outputId": "603cc537-5f9c-4ef3-ca2a-d420b7ca336d",
        "colab": {
          "base_uri": "https://localhost:8080/",
          "height": 35
        }
      },
      "source": [
        "final_flights_df[\"AIRLINE\"].replace(airlines_names, inplace = True)  \n",
        "final_flights_df['DAY_OF_WEEK'].unique()"
      ],
      "execution_count": 0,
      "outputs": [
        {
          "output_type": "execute_result",
          "data": {
            "text/plain": [
              "array([4, 5, 6, 7, 1, 2, 3])"
            ]
          },
          "metadata": {
            "tags": []
          },
          "execution_count": 39
        }
      ]
    },
    {
      "cell_type": "code",
      "metadata": {
        "id": "VAqOaswZIaEC",
        "colab_type": "code",
        "colab": {}
      },
      "source": [
        "week_day = {1 : 'Monday', 2 : 'Tuesday', 3 : 'Wednesday', 4 : 'Thursday', 5 : 'Friday', 6 : 'Saturday' , 7 : 'Sunday'}"
      ],
      "execution_count": 0,
      "outputs": []
    },
    {
      "cell_type": "code",
      "metadata": {
        "id": "x5lf31MbIgxS",
        "colab_type": "code",
        "colab": {}
      },
      "source": [
        "final_flights_df[\"DAY_OF_WEEK\"].replace(week_day, inplace = True)"
      ],
      "execution_count": 0,
      "outputs": []
    },
    {
      "cell_type": "code",
      "metadata": {
        "id": "RDVooGqZJ5k4",
        "colab_type": "code",
        "outputId": "7cb5aede-3373-42c7-dff5-65961addee93",
        "colab": {
          "base_uri": "https://localhost:8080/",
          "height": 54
        }
      },
      "source": [
        "final_flights_df[\"DAY_OF_WEEK\"].unique()"
      ],
      "execution_count": 0,
      "outputs": [
        {
          "output_type": "execute_result",
          "data": {
            "text/plain": [
              "array(['Thursday', 'Friday', 'Saturday', 'Sunday', 'Monday', 'Tuesday',\n",
              "       'Wednesday'], dtype=object)"
            ]
          },
          "metadata": {
            "tags": []
          },
          "execution_count": 42
        }
      ]
    },
    {
      "cell_type": "code",
      "metadata": {
        "id": "Z0_SE01YKA3n",
        "colab_type": "code",
        "colab": {}
      },
      "source": [
        "#Target Feature ARRIVAL_DELAY = ARRIVAL_TIME-SCHEDULED_ARRIVAL map to binary data\n",
        "     #>= 15 min delay = 1\n",
        "     #< 15 min delay = 0\n",
        "    \n",
        "final_flights_df['ARRIVAL_DELAY_Binary'] = 1*np.ravel(final_flights_df['ARRIVAL_DELAY']>=15)\n",
        "final_flights_df.drop('ARRIVAL_DELAY', axis = 1, inplace = True)"
      ],
      "execution_count": 0,
      "outputs": []
    },
    {
      "cell_type": "code",
      "metadata": {
        "id": "9tnljgwt_elf",
        "colab_type": "code",
        "outputId": "6e9d67b2-0110-4045-d13d-7fa4b822c109",
        "colab": {
          "base_uri": "https://localhost:8080/",
          "height": 206
        }
      },
      "source": [
        "final_flights_df.head()"
      ],
      "execution_count": 0,
      "outputs": [
        {
          "output_type": "execute_result",
          "data": {
            "text/html": [
              "<div>\n",
              "<style scoped>\n",
              "    .dataframe tbody tr th:only-of-type {\n",
              "        vertical-align: middle;\n",
              "    }\n",
              "\n",
              "    .dataframe tbody tr th {\n",
              "        vertical-align: top;\n",
              "    }\n",
              "\n",
              "    .dataframe thead th {\n",
              "        text-align: right;\n",
              "    }\n",
              "</style>\n",
              "<table border=\"1\" class=\"dataframe\">\n",
              "  <thead>\n",
              "    <tr style=\"text-align: left;\">\n",
              "      <th></th>\n",
              "      <th>MONTH</th>\n",
              "      <th>DAY_OF_WEEK</th>\n",
              "      <th>AIRLINE</th>\n",
              "      <th>DEPARTURE_DELAY</th>\n",
              "      <th>TAXI_OUT</th>\n",
              "      <th>WHEELS_OFF</th>\n",
              "      <th>SCHEDULED_TIME</th>\n",
              "      <th>DISTANCE</th>\n",
              "      <th>ARRIVAL_DELAY_Binary</th>\n",
              "    </tr>\n",
              "  </thead>\n",
              "  <tbody>\n",
              "    <tr>\n",
              "      <th>0</th>\n",
              "      <td>1</td>\n",
              "      <td>Thursday</td>\n",
              "      <td>Alaska Airlines Inc.</td>\n",
              "      <td>-11.0</td>\n",
              "      <td>21.0</td>\n",
              "      <td>15.0</td>\n",
              "      <td>205.0</td>\n",
              "      <td>1448</td>\n",
              "      <td>0</td>\n",
              "    </tr>\n",
              "    <tr>\n",
              "      <th>1</th>\n",
              "      <td>1</td>\n",
              "      <td>Thursday</td>\n",
              "      <td>American Airlines Inc.</td>\n",
              "      <td>-8.0</td>\n",
              "      <td>12.0</td>\n",
              "      <td>14.0</td>\n",
              "      <td>280.0</td>\n",
              "      <td>2330</td>\n",
              "      <td>0</td>\n",
              "    </tr>\n",
              "    <tr>\n",
              "      <th>2</th>\n",
              "      <td>1</td>\n",
              "      <td>Thursday</td>\n",
              "      <td>US Airways Inc.</td>\n",
              "      <td>-2.0</td>\n",
              "      <td>16.0</td>\n",
              "      <td>34.0</td>\n",
              "      <td>286.0</td>\n",
              "      <td>2296</td>\n",
              "      <td>0</td>\n",
              "    </tr>\n",
              "    <tr>\n",
              "      <th>3</th>\n",
              "      <td>1</td>\n",
              "      <td>Thursday</td>\n",
              "      <td>American Airlines Inc.</td>\n",
              "      <td>-5.0</td>\n",
              "      <td>15.0</td>\n",
              "      <td>30.0</td>\n",
              "      <td>285.0</td>\n",
              "      <td>2342</td>\n",
              "      <td>0</td>\n",
              "    </tr>\n",
              "    <tr>\n",
              "      <th>4</th>\n",
              "      <td>1</td>\n",
              "      <td>Thursday</td>\n",
              "      <td>Alaska Airlines Inc.</td>\n",
              "      <td>-1.0</td>\n",
              "      <td>11.0</td>\n",
              "      <td>35.0</td>\n",
              "      <td>235.0</td>\n",
              "      <td>1448</td>\n",
              "      <td>0</td>\n",
              "    </tr>\n",
              "  </tbody>\n",
              "</table>\n",
              "</div>"
            ],
            "text/plain": [
              "   MONTH DAY_OF_WEEK AIRLINE                  DEPARTURE_DELAY  TAXI_OUT  \\\n",
              "0  1      Thursday    Alaska Airlines Inc.   -11.0             21.0       \n",
              "1  1      Thursday    American Airlines Inc. -8.0              12.0       \n",
              "2  1      Thursday    US Airways Inc.        -2.0              16.0       \n",
              "3  1      Thursday    American Airlines Inc. -5.0              15.0       \n",
              "4  1      Thursday    Alaska Airlines Inc.   -1.0              11.0       \n",
              "\n",
              "   WHEELS_OFF  SCHEDULED_TIME  DISTANCE  ARRIVAL_DELAY_Binary  \n",
              "0  15.0        205.0           1448      0                     \n",
              "1  14.0        280.0           2330      0                     \n",
              "2  34.0        286.0           2296      0                     \n",
              "3  30.0        285.0           2342      0                     \n",
              "4  35.0        235.0           1448      0                     "
            ]
          },
          "metadata": {
            "tags": []
          },
          "execution_count": 54
        }
      ]
    },
    {
      "cell_type": "markdown",
      "metadata": {
        "id": "p1x4wU_FROdf",
        "colab_type": "text"
      },
      "source": [
        "## Train Test Split"
      ]
    },
    {
      "cell_type": "code",
      "metadata": {
        "id": "qiHPRarxRQ5A",
        "colab_type": "code",
        "colab": {}
      },
      "source": [
        "train_set,test_set = train_test_split(final_flights_df, test_size = 0.3, random_state = 42) "
      ],
      "execution_count": 0,
      "outputs": []
    },
    {
      "cell_type": "code",
      "metadata": {
        "id": "vV_TMFdERX8-",
        "colab_type": "code",
        "outputId": "4fc475ff-f1f1-4d70-a5fd-801a8fe8718c",
        "colab": {
          "base_uri": "https://localhost:8080/",
          "height": 35
        }
      },
      "source": [
        "print(len(train_set), \"train +\", len(test_set), \"test\")"
      ],
      "execution_count": 0,
      "outputs": [
        {
          "output_type": "stream",
          "text": [
            "3999805 train + 1714203 test\n"
          ],
          "name": "stdout"
        }
      ]
    },
    {
      "cell_type": "code",
      "metadata": {
        "id": "hHLsiutKrjxB",
        "colab_type": "code",
        "outputId": "de10e482-e257-4c65-fc00-b92566919ef9",
        "colab": {
          "base_uri": "https://localhost:8080/",
          "height": 206
        }
      },
      "source": [
        "test_set.head()"
      ],
      "execution_count": 0,
      "outputs": [
        {
          "output_type": "execute_result",
          "data": {
            "text/html": [
              "<div>\n",
              "<style scoped>\n",
              "    .dataframe tbody tr th:only-of-type {\n",
              "        vertical-align: middle;\n",
              "    }\n",
              "\n",
              "    .dataframe tbody tr th {\n",
              "        vertical-align: top;\n",
              "    }\n",
              "\n",
              "    .dataframe thead th {\n",
              "        text-align: right;\n",
              "    }\n",
              "</style>\n",
              "<table border=\"1\" class=\"dataframe\">\n",
              "  <thead>\n",
              "    <tr style=\"text-align: left;\">\n",
              "      <th></th>\n",
              "      <th>MONTH</th>\n",
              "      <th>DAY_OF_WEEK</th>\n",
              "      <th>AIRLINE</th>\n",
              "      <th>DEPARTURE_DELAY</th>\n",
              "      <th>TAXI_OUT</th>\n",
              "      <th>WHEELS_OFF</th>\n",
              "      <th>SCHEDULED_TIME</th>\n",
              "      <th>DISTANCE</th>\n",
              "      <th>ARRIVAL_DELAY_Binary</th>\n",
              "    </tr>\n",
              "  </thead>\n",
              "  <tbody>\n",
              "    <tr>\n",
              "      <th>3335058</th>\n",
              "      <td>7</td>\n",
              "      <td>Monday</td>\n",
              "      <td>Skywest Airlines Inc.</td>\n",
              "      <td>6.0</td>\n",
              "      <td>12.0</td>\n",
              "      <td>1641.0</td>\n",
              "      <td>75.0</td>\n",
              "      <td>318</td>\n",
              "      <td>0</td>\n",
              "    </tr>\n",
              "    <tr>\n",
              "      <th>4857110</th>\n",
              "      <td>10</td>\n",
              "      <td>Friday</td>\n",
              "      <td>Delta Air Lines Inc.</td>\n",
              "      <td>1.0</td>\n",
              "      <td>13.0</td>\n",
              "      <td>1837.0</td>\n",
              "      <td>165.0</td>\n",
              "      <td>950</td>\n",
              "      <td>0</td>\n",
              "    </tr>\n",
              "    <tr>\n",
              "      <th>4454180</th>\n",
              "      <td>10</td>\n",
              "      <td>Monday</td>\n",
              "      <td>Southwest Airlines Co.</td>\n",
              "      <td>8.0</td>\n",
              "      <td>7.0</td>\n",
              "      <td>1205.0</td>\n",
              "      <td>115.0</td>\n",
              "      <td>672</td>\n",
              "      <td>0</td>\n",
              "    </tr>\n",
              "    <tr>\n",
              "      <th>5132772</th>\n",
              "      <td>11</td>\n",
              "      <td>Tuesday</td>\n",
              "      <td>Delta Air Lines Inc.</td>\n",
              "      <td>0.0</td>\n",
              "      <td>9.0</td>\n",
              "      <td>1314.0</td>\n",
              "      <td>62.0</td>\n",
              "      <td>214</td>\n",
              "      <td>0</td>\n",
              "    </tr>\n",
              "    <tr>\n",
              "      <th>4075015</th>\n",
              "      <td>9</td>\n",
              "      <td>Friday</td>\n",
              "      <td>Skywest Airlines Inc.</td>\n",
              "      <td>-6.0</td>\n",
              "      <td>19.0</td>\n",
              "      <td>613.0</td>\n",
              "      <td>60.0</td>\n",
              "      <td>224</td>\n",
              "      <td>0</td>\n",
              "    </tr>\n",
              "  </tbody>\n",
              "</table>\n",
              "</div>"
            ],
            "text/plain": [
              "         MONTH DAY_OF_WEEK AIRLINE                  DEPARTURE_DELAY  TAXI_OUT  \\\n",
              "3335058  7      Monday      Skywest Airlines Inc.   6.0              12.0       \n",
              "4857110  10     Friday      Delta Air Lines Inc.    1.0              13.0       \n",
              "4454180  10     Monday      Southwest Airlines Co.  8.0              7.0        \n",
              "5132772  11     Tuesday     Delta Air Lines Inc.    0.0              9.0        \n",
              "4075015  9      Friday      Skywest Airlines Inc.  -6.0              19.0       \n",
              "\n",
              "         WHEELS_OFF  SCHEDULED_TIME  DISTANCE  ARRIVAL_DELAY_Binary  \n",
              "3335058  1641.0      75.0            318       0                     \n",
              "4857110  1837.0      165.0           950       0                     \n",
              "4454180  1205.0      115.0           672       0                     \n",
              "5132772  1314.0      62.0            214       0                     \n",
              "4075015  613.0       60.0            224       0                     "
            ]
          },
          "metadata": {
            "tags": []
          },
          "execution_count": 46
        }
      ]
    },
    {
      "cell_type": "markdown",
      "metadata": {
        "id": "6x0wwpebSa3O",
        "colab_type": "text"
      },
      "source": [
        "### Features"
      ]
    },
    {
      "cell_type": "code",
      "metadata": {
        "id": "y1t-4sQ2RwJB",
        "colab_type": "code",
        "colab": {}
      },
      "source": [
        "target = 'ARRIVAL_DELAY_Binary'\n",
        "features = list(train_set.columns)\n",
        "features = [f for f in features if f!=target]"
      ],
      "execution_count": 0,
      "outputs": []
    },
    {
      "cell_type": "code",
      "metadata": {
        "id": "A5czN13uSuZ2",
        "colab_type": "code",
        "colab": {}
      },
      "source": [
        "X_tr = train_set[features]\n",
        "y_tr = train_set[[target]]\n",
        "\n",
        "X_te = test_set[features]\n",
        "y_te = test_set[[target]]"
      ],
      "execution_count": 0,
      "outputs": []
    },
    {
      "cell_type": "code",
      "metadata": {
        "id": "Mg7nDPV_SxvU",
        "colab_type": "code",
        "outputId": "41ca5a8b-a272-40ce-d736-76b2df729ded",
        "colab": {
          "base_uri": "https://localhost:8080/",
          "height": 90
        }
      },
      "source": [
        "print('X_tr ',X_tr.shape)\n",
        "print('y_tr ',y_tr.shape)\n",
        "print('X_te ',X_te.shape)\n",
        "print('y_te ',y_te.shape)"
      ],
      "execution_count": 0,
      "outputs": [
        {
          "output_type": "stream",
          "text": [
            "X_tr  (3999805, 8)\n",
            "y_tr  (3999805, 1)\n",
            "X_te  (1714203, 8)\n",
            "y_te  (1714203, 1)\n"
          ],
          "name": "stdout"
        }
      ]
    },
    {
      "cell_type": "markdown",
      "metadata": {
        "id": "WRPGB0820WIp",
        "colab_type": "text"
      },
      "source": [
        "# Prepare the data"
      ]
    },
    {
      "cell_type": "markdown",
      "metadata": {
        "id": "qoCRReuN0iUq",
        "colab_type": "text"
      },
      "source": [
        "This dataset contains a mix of categorical and numerical independent variables which as we know will need to pre-processed in different ways and separately. This means that initially they’ll have to go through separate pipelines to be pre-processed appropriately and then we’ll combine them together. So the first step in both pipelines would have to be to extract the appropriate columns that need to be pushed down for pre-processing."
      ]
    },
    {
      "cell_type": "code",
      "metadata": {
        "id": "774yREgcr1wz",
        "colab_type": "code",
        "outputId": "88aa167f-74bb-4c20-dab5-fafaa7036eb7",
        "colab": {
          "base_uri": "https://localhost:8080/",
          "height": 1000
        }
      },
      "source": [
        "#first thing in preparing data is to drop the label column from train_set\n",
        "\n",
        "flights_train_set = train_set.drop('ARRIVAL_DELAY_Binary', axis = 1) # drop labels for training set\n",
        "flights_labels = train_set['ARRIVAL_DELAY_Binary'].copy()\n",
        "flights_labels"
      ],
      "execution_count": 0,
      "outputs": [
        {
          "output_type": "execute_result",
          "data": {
            "text/plain": [
              "4320287    0\n",
              "1528528    0\n",
              "3175767    0\n",
              "885867     1\n",
              "87625      0\n",
              "2339953    0\n",
              "3407078    0\n",
              "5790041    0\n",
              "175395     1\n",
              "3421098    0\n",
              "3914731    1\n",
              "4059465    0\n",
              "495741     0\n",
              "1945782    0\n",
              "3444861    0\n",
              "3454875    0\n",
              "3340596    0\n",
              "690699     0\n",
              "4528959    0\n",
              "275443     0\n",
              "4246499    0\n",
              "4517344    0\n",
              "4749376    0\n",
              "4436884    0\n",
              "4746188    0\n",
              "2625716    1\n",
              "4050397    0\n",
              "4137987    0\n",
              "1556803    1\n",
              "5343510    0\n",
              "813091     0\n",
              "5562855    1\n",
              "5564386    0\n",
              "5726865    0\n",
              "3409077    1\n",
              "4435643    0\n",
              "5641226    0\n",
              "915453     0\n",
              "1161284    0\n",
              "3242317    0\n",
              "27325      0\n",
              "5586839    0\n",
              "867824     0\n",
              "2365432    0\n",
              "3369095    0\n",
              "5179029    0\n",
              "23942      0\n",
              "4985759    1\n",
              "416809     0\n",
              "3603742    0\n",
              "          ..\n",
              "69911      0\n",
              "1513147    0\n",
              "2866094    1\n",
              "3463498    1\n",
              "3463801    0\n",
              "3495032    0\n",
              "2635349    1\n",
              "5597769    0\n",
              "2652553    0\n",
              "2730859    0\n",
              "547404     0\n",
              "2489594    1\n",
              "2720634    0\n",
              "3553510    0\n",
              "2477330    0\n",
              "2007784    0\n",
              "5242775    0\n",
              "87055      1\n",
              "3352161    1\n",
              "4346539    0\n",
              "1549507    0\n",
              "4933124    0\n",
              "4810385    0\n",
              "4939845    0\n",
              "3610314    0\n",
              "2312271    0\n",
              "955167     0\n",
              "1353800    0\n",
              "5279009    0\n",
              "5767858    1\n",
              "1443042    0\n",
              "1308858    0\n",
              "106113     0\n",
              "821384     0\n",
              "3422225    0\n",
              "4608946    0\n",
              "1818969    0\n",
              "5663443    0\n",
              "5073357    0\n",
              "4611250    0\n",
              "2194658    1\n",
              "4559942    0\n",
              "1285897    0\n",
              "4130440    0\n",
              "1180148    0\n",
              "1619407    0\n",
              "2292096    1\n",
              "5017812    0\n",
              "4391255    1\n",
              "1744142    0\n",
              "Name: ARRIVAL_DELAY_Binary, Length: 3999805, dtype: int64"
            ]
          },
          "metadata": {
            "tags": []
          },
          "execution_count": 50
        }
      ]
    },
    {
      "cell_type": "markdown",
      "metadata": {
        "id": "HHam68pB0vOw",
        "colab_type": "text"
      },
      "source": [
        "### Catagorical Pipeline"
      ]
    },
    {
      "cell_type": "code",
      "metadata": {
        "id": "A6Qc08dT0wxg",
        "colab_type": "code",
        "colab": {}
      },
      "source": [
        "final_df_cat = flights_train_set[['MONTH' ,'DAY_OF_WEEK', 'AIRLINE']]"
      ],
      "execution_count": 0,
      "outputs": []
    },
    {
      "cell_type": "code",
      "metadata": {
        "id": "LFgE4XrY2qE9",
        "colab_type": "code",
        "outputId": "0db85968-775d-4c1c-ea8f-e92c67a61f6f",
        "colab": {
          "base_uri": "https://localhost:8080/",
          "height": 201
        }
      },
      "source": [
        "ordinal_encoder = OrdinalEncoder()\n",
        "final_flights_df_encoded = ordinal_encoder.fit_transform(final_df_cat)\n",
        "final_flights_df_encoded[:10]"
      ],
      "execution_count": 0,
      "outputs": [
        {
          "output_type": "execute_result",
          "data": {
            "text/plain": [
              "array([[ 8.,  2.,  4.],\n",
              "       [ 3.,  6.,  3.],\n",
              "       [ 6.,  2.,  8.],\n",
              "       [ 1.,  0.,  7.],\n",
              "       [ 0.,  5.,  3.],\n",
              "       [ 4.,  0.,  4.],\n",
              "       [ 6.,  0.,  0.],\n",
              "       [11.,  6.,  9.],\n",
              "       [ 0.,  1.,  3.],\n",
              "       [ 7.,  2.,  1.]])"
            ]
          },
          "metadata": {
            "tags": []
          },
          "execution_count": 52
        }
      ]
    },
    {
      "cell_type": "code",
      "metadata": {
        "id": "QYVIn4W82-N6",
        "colab_type": "code",
        "outputId": "d17f5022-e7e0-4a29-930a-c1f9afbc76c7",
        "colab": {
          "base_uri": "https://localhost:8080/",
          "height": 201
        }
      },
      "source": [
        "ordinal_encoder.categories_"
      ],
      "execution_count": 0,
      "outputs": [
        {
          "output_type": "execute_result",
          "data": {
            "text/plain": [
              "[array([ 1,  2,  3,  4,  5,  6,  7,  8,  9, 10, 11, 12]),\n",
              " array(['Friday', 'Monday', 'Saturday', 'Sunday', 'Thursday', 'Tuesday',\n",
              "        'Wednesday'], dtype=object),\n",
              " array(['Alaska Airlines Inc.', 'American Airlines Inc.',\n",
              "        'American Eagle Airlines Inc.', 'Atlantic Southeast Airlines',\n",
              "        'Delta Air Lines Inc.', 'Frontier Airlines Inc.',\n",
              "        'Hawaiian Airlines Inc.', 'JetBlue Airways',\n",
              "        'Skywest Airlines Inc.', 'Southwest Airlines Co.',\n",
              "        'Spirit Air Lines', 'US Airways Inc.', 'United Air Lines Inc.',\n",
              "        'Virgin America'], dtype=object)]"
            ]
          },
          "metadata": {
            "tags": []
          },
          "execution_count": 64
        }
      ]
    },
    {
      "cell_type": "code",
      "metadata": {
        "id": "4n9NdD2KkAr9",
        "colab_type": "code",
        "colab": {}
      },
      "source": [
        "cat_encoder = OneHotEncoder(sparse = False)"
      ],
      "execution_count": 0,
      "outputs": []
    },
    {
      "cell_type": "code",
      "metadata": {
        "id": "6chRLj3HkR2Z",
        "colab_type": "code",
        "outputId": "2a65c95b-c23e-40bc-9676-6662c736dfe8",
        "colab": {
          "base_uri": "https://localhost:8080/",
          "height": 146
        }
      },
      "source": [
        "cat_encoder_1hot = cat_encoder.fit_transform(final_df_cat)\n",
        "cat_encoder_1hot"
      ],
      "execution_count": 0,
      "outputs": [
        {
          "output_type": "execute_result",
          "data": {
            "text/plain": [
              "array([[0., 0., 0., ..., 0., 0., 0.],\n",
              "       [0., 0., 0., ..., 0., 0., 0.],\n",
              "       [0., 0., 0., ..., 0., 0., 0.],\n",
              "       ...,\n",
              "       [0., 0., 0., ..., 0., 0., 0.],\n",
              "       [0., 0., 0., ..., 0., 0., 0.],\n",
              "       [0., 0., 0., ..., 0., 0., 0.]])"
            ]
          },
          "metadata": {
            "tags": []
          },
          "execution_count": 54
        }
      ]
    },
    {
      "cell_type": "code",
      "metadata": {
        "id": "LeDJmiKnkVe_",
        "colab_type": "code",
        "outputId": "df0cd51e-6113-45ab-dee2-ac2435ffac1d",
        "colab": {
          "base_uri": "https://localhost:8080/",
          "height": 146
        }
      },
      "source": [
        "#Defining the steps in the categorical pipeline\n",
        "\n",
        "from sklearn.pipeline import Pipeline\n",
        "\n",
        "cat_pipeline = Pipeline([\n",
        "    ('cat_encoder', cat_encoder)\n",
        "    \n",
        "])\n",
        "\n",
        "cat_pipeline "
      ],
      "execution_count": 0,
      "outputs": [
        {
          "output_type": "execute_result",
          "data": {
            "text/plain": [
              "Pipeline(memory=None,\n",
              "         steps=[('cat_encoder',\n",
              "                 OneHotEncoder(categorical_features=None, categories=None,\n",
              "                               drop=None, dtype=<class 'numpy.float64'>,\n",
              "                               handle_unknown='error', n_values=None,\n",
              "                               sparse=False))],\n",
              "         verbose=False)"
            ]
          },
          "metadata": {
            "tags": []
          },
          "execution_count": 55
        }
      ]
    },
    {
      "cell_type": "code",
      "metadata": {
        "id": "gtB7iu5BlSgA",
        "colab_type": "code",
        "colab": {}
      },
      "source": [
        ""
      ],
      "execution_count": 0,
      "outputs": []
    },
    {
      "cell_type": "markdown",
      "metadata": {
        "id": "wHKVn59coRgx",
        "colab_type": "text"
      },
      "source": [
        "### Numerical Pipeline"
      ]
    },
    {
      "cell_type": "code",
      "metadata": {
        "id": "ot2IEl0XoSyC",
        "colab_type": "code",
        "outputId": "2b4e8cb9-9334-4868-ac76-4ae88ea0685a",
        "colab": {
          "base_uri": "https://localhost:8080/",
          "height": 72
        }
      },
      "source": [
        "flights_train_set.columns"
      ],
      "execution_count": 0,
      "outputs": [
        {
          "output_type": "execute_result",
          "data": {
            "text/plain": [
              "Index(['MONTH', 'DAY_OF_WEEK', 'AIRLINE', 'DEPARTURE_DELAY', 'TAXI_OUT',\n",
              "       'WHEELS_OFF', 'SCHEDULED_TIME', 'DISTANCE'],\n",
              "      dtype='object')"
            ]
          },
          "metadata": {
            "tags": []
          },
          "execution_count": 56
        }
      ]
    },
    {
      "cell_type": "code",
      "metadata": {
        "id": "WcCd_Q1XohFR",
        "colab_type": "code",
        "colab": {}
      },
      "source": [
        "flights_df_num = flights_train_set.drop(['MONTH', 'DAY_OF_WEEK', 'AIRLINE','SCHEDULED_TIME'], axis = 1)"
      ],
      "execution_count": 0,
      "outputs": []
    },
    {
      "cell_type": "code",
      "metadata": {
        "id": "sA_AfvchttkT",
        "colab_type": "code",
        "colab": {}
      },
      "source": [
        "#Defining the steps in the numerical pipeline\n",
        "\n",
        "num_pipeline = Pipeline([\n",
        "        ('std_scaler', StandardScaler())\n",
        "    ])\n",
        "\n",
        "flights_df_num_tr = num_pipeline.fit_transform(flights_df_num)"
      ],
      "execution_count": 0,
      "outputs": []
    },
    {
      "cell_type": "code",
      "metadata": {
        "id": "3E-0IyxSup51",
        "colab_type": "code",
        "outputId": "a132772f-cff1-4a1f-ee6f-a02a8764f1e7",
        "colab": {
          "base_uri": "https://localhost:8080/",
          "height": 146
        }
      },
      "source": [
        "flights_df_num_tr"
      ],
      "execution_count": 0,
      "outputs": [
        {
          "output_type": "execute_result",
          "data": {
            "text/plain": [
              "array([[-0.30600161, -0.233028  ,  1.30699744, -0.68901788],\n",
              "       [-0.4414802 ,  0.2174292 ,  0.72464879, -0.98142985],\n",
              "       [-0.36019305,  0.3300435 , -1.11878591, -1.14242071],\n",
              "       ...,\n",
              "       [-0.38728877,  2.69494381, -0.90793554, -0.52145597],\n",
              "       [-0.49567164,  5.05984412, -0.45209711, -0.8746502 ],\n",
              "       [-0.38728877, -0.5708709 , -1.3075472 , -0.10747947]])"
            ]
          },
          "metadata": {
            "tags": []
          },
          "execution_count": 59
        }
      ]
    },
    {
      "cell_type": "code",
      "metadata": {
        "id": "8NDX_w0wut_V",
        "colab_type": "code",
        "colab": {}
      },
      "source": [
        ""
      ],
      "execution_count": 0,
      "outputs": []
    },
    {
      "cell_type": "markdown",
      "metadata": {
        "id": "CJcUKIixu7aW",
        "colab_type": "text"
      },
      "source": [
        "## Combining the pipelines together"
      ]
    },
    {
      "cell_type": "code",
      "metadata": {
        "id": "kqI1klfNu82u",
        "colab_type": "code",
        "colab": {}
      },
      "source": [
        "num_attribute = list(flights_df_num)\n",
        "cat_attribute = ['MONTH' ,'DAY_OF_WEEK', 'AIRLINE']\n",
        "\n",
        "#Combining numerical and categorical piepline into one full big pipeline horizontally \n",
        "\n",
        "full_pipeline = ColumnTransformer ([\n",
        "                     (\"num\", num_pipeline, num_attribute),\n",
        "                     (\"cat\", cat_pipeline, cat_attribute)\n",
        "])\n",
        "\n",
        "flights_df_prepared = full_pipeline.fit_transform(flights_train_set)"
      ],
      "execution_count": 0,
      "outputs": []
    },
    {
      "cell_type": "code",
      "metadata": {
        "id": "gNcdnECDvjSG",
        "colab_type": "code",
        "outputId": "7536445a-fef7-4be0-bf33-447d33378dd0",
        "colab": {
          "base_uri": "https://localhost:8080/",
          "height": 256
        }
      },
      "source": [
        "flights_df_prepared"
      ],
      "execution_count": 0,
      "outputs": [
        {
          "output_type": "execute_result",
          "data": {
            "text/plain": [
              "array([[-0.30600161, -0.233028  ,  1.30699744, ...,  0.        ,\n",
              "         0.        ,  0.        ],\n",
              "       [-0.4414802 ,  0.2174292 ,  0.72464879, ...,  0.        ,\n",
              "         0.        ,  0.        ],\n",
              "       [-0.36019305,  0.3300435 , -1.11878591, ...,  0.        ,\n",
              "         0.        ,  0.        ],\n",
              "       ...,\n",
              "       [-0.38728877,  2.69494381, -0.90793554, ...,  0.        ,\n",
              "         0.        ,  0.        ],\n",
              "       [-0.49567164,  5.05984412, -0.45209711, ...,  0.        ,\n",
              "         0.        ,  0.        ],\n",
              "       [-0.38728877, -0.5708709 , -1.3075472 , ...,  0.        ,\n",
              "         0.        ,  0.        ]])"
            ]
          },
          "metadata": {
            "tags": []
          },
          "execution_count": 73
        }
      ]
    },
    {
      "cell_type": "code",
      "metadata": {
        "id": "HZUbqAINv1k3",
        "colab_type": "code",
        "outputId": "018d2828-ea04-4d55-e7e3-6ce4c7838b5b",
        "colab": {
          "base_uri": "https://localhost:8080/",
          "height": 35
        }
      },
      "source": [
        "flights_df_prepared.shape"
      ],
      "execution_count": 0,
      "outputs": [
        {
          "output_type": "execute_result",
          "data": {
            "text/plain": [
              "(3999805, 37)"
            ]
          },
          "metadata": {
            "tags": []
          },
          "execution_count": 74
        }
      ]
    },
    {
      "cell_type": "code",
      "metadata": {
        "id": "bUjYl__Cv5RZ",
        "colab_type": "code",
        "colab": {}
      },
      "source": [
        "\n",
        "pca = PCA(.95)\n",
        "pca.fit(flights_df_prepared)\n",
        "pca.n_components_\n",
        "flights_df_reduced = pca.transform(flights_df_prepared)"
      ],
      "execution_count": 0,
      "outputs": []
    },
    {
      "cell_type": "markdown",
      "metadata": {
        "id": "VHnTimgD2hTl",
        "colab_type": "text"
      },
      "source": [
        "### Random Forest"
      ]
    },
    {
      "cell_type": "code",
      "metadata": {
        "id": "7fbtv9eh2j1W",
        "colab_type": "code",
        "colab": {}
      },
      "source": [
        "clf = RandomForestClassifier(n_estimators=3, random_state=0)   "
      ],
      "execution_count": 0,
      "outputs": []
    },
    {
      "cell_type": "code",
      "metadata": {
        "id": "TMrgFsa_2sto",
        "colab_type": "code",
        "colab": {}
      },
      "source": [
        "# Random Forest with Cross Validation\n",
        "# We will use Area under the Curve of ROC for scoring method\n",
        "\n",
        "scores_clf = cross_val_score(clf,flights_df_prepared,flights_labels ,scoring = 'roc_auc',cv=4)"
      ],
      "execution_count": 0,
      "outputs": []
    },
    {
      "cell_type": "code",
      "metadata": {
        "id": "6By9FyvI5X5d",
        "colab_type": "code",
        "outputId": "158ca872-1bd6-42e4-a5db-637ca650f32a",
        "colab": {
          "base_uri": "https://localhost:8080/",
          "height": 35
        }
      },
      "source": [
        "#Scores for Random Forest\n",
        "\n",
        "print(scores_clf)"
      ],
      "execution_count": 0,
      "outputs": [
        {
          "output_type": "stream",
          "text": [
            "[0.91610135 0.9162399  0.91681151 0.9166476 ]\n"
          ],
          "name": "stdout"
        }
      ]
    },
    {
      "cell_type": "code",
      "metadata": {
        "id": "6piJo4bU7Y2Y",
        "colab_type": "code",
        "outputId": "be91d2c9-ad3b-4e1d-a28e-36673598274a",
        "colab": {
          "base_uri": "https://localhost:8080/",
          "height": 311
        }
      },
      "source": [
        "# For Random Forrest\n",
        "\n",
        "param_grid = {'n_estimators': [ 5,7,20]}\n",
        "\n",
        "forest_clf = RandomForestClassifier(random_state=42)\n",
        "\n",
        "forest_grid_search = GridSearchCV(forest_clf, param_grid, cv = 2, scoring = \"roc_auc\", return_train_score=True)\n",
        "\n"
      ],
      "execution_count": 0,
      "outputs": [
        {
          "output_type": "execute_result",
          "data": {
            "text/plain": [
              "GridSearchCV(cv=2, error_score='raise-deprecating',\n",
              "             estimator=RandomForestClassifier(bootstrap=True, class_weight=None,\n",
              "                                              criterion='gini', max_depth=None,\n",
              "                                              max_features='auto',\n",
              "                                              max_leaf_nodes=None,\n",
              "                                              min_impurity_decrease=0.0,\n",
              "                                              min_impurity_split=None,\n",
              "                                              min_samples_leaf=1,\n",
              "                                              min_samples_split=2,\n",
              "                                              min_weight_fraction_leaf=0.0,\n",
              "                                              n_estimators='warn', n_jobs=None,\n",
              "                                              oob_score=False, random_state=42,\n",
              "                                              verbose=0, warm_start=False),\n",
              "             iid='warn', n_jobs=None, param_grid={'n_estimators': [5, 7, 20]},\n",
              "             pre_dispatch='2*n_jobs', refit=True, return_train_score=True,\n",
              "             scoring='roc_auc', verbose=0)"
            ]
          },
          "metadata": {
            "tags": []
          },
          "execution_count": 76
        }
      ]
    },
    {
      "cell_type": "code",
      "metadata": {
        "id": "c0h6_vnL7hGc",
        "colab_type": "code",
        "outputId": "9e0baaec-eb6b-42cd-8235-481badd549bc",
        "colab": {
          "base_uri": "https://localhost:8080/",
          "height": 35
        }
      },
      "source": [
        "forest_grid_search.fit(flights_df_prepared,flights_labels)\n",
        "forest_grid_search.best_params_"
      ],
      "execution_count": 0,
      "outputs": [
        {
          "output_type": "execute_result",
          "data": {
            "text/plain": [
              "{'n_estimators': 20}"
            ]
          },
          "metadata": {
            "tags": []
          },
          "execution_count": 77
        }
      ]
    },
    {
      "cell_type": "code",
      "metadata": {
        "id": "k1bcvvst7wlH",
        "colab_type": "code",
        "outputId": "54af4aac-aa38-446e-e548-e4042986e31b",
        "colab": {
          "base_uri": "https://localhost:8080/",
          "height": 146
        }
      },
      "source": [
        "forest_grid_search.best_estimator_"
      ],
      "execution_count": 0,
      "outputs": [
        {
          "output_type": "execute_result",
          "data": {
            "text/plain": [
              "RandomForestClassifier(bootstrap=True, class_weight=None, criterion='gini',\n",
              "                       max_depth=None, max_features='auto', max_leaf_nodes=None,\n",
              "                       min_impurity_decrease=0.0, min_impurity_split=None,\n",
              "                       min_samples_leaf=1, min_samples_split=2,\n",
              "                       min_weight_fraction_leaf=0.0, n_estimators=20,\n",
              "                       n_jobs=None, oob_score=False, random_state=42, verbose=0,\n",
              "                       warm_start=False)"
            ]
          },
          "metadata": {
            "tags": []
          },
          "execution_count": 78
        }
      ]
    },
    {
      "cell_type": "code",
      "metadata": {
        "id": "Ds8KjwpF7xQD",
        "colab_type": "code",
        "outputId": "ee0f820c-dc13-4fe9-c395-cf2c84d91264",
        "colab": {
          "base_uri": "https://localhost:8080/",
          "height": 35
        }
      },
      "source": [
        "forest_grid_search.best_score_"
      ],
      "execution_count": 0,
      "outputs": [
        {
          "output_type": "execute_result",
          "data": {
            "text/plain": [
              "0.9520899294998374"
            ]
          },
          "metadata": {
            "tags": []
          },
          "execution_count": 79
        }
      ]
    },
    {
      "cell_type": "code",
      "metadata": {
        "id": "gFaMAD54_OQI",
        "colab_type": "code",
        "colab": {}
      },
      "source": [
        "\n",
        "X_te = test_set.drop(\"ARRIVAL_DELAY_Binary\", axis=1)\n",
        "y_te = test_set[\"ARRIVAL_DELAY_Binary\"].copy()\n",
        "\n",
        "X_test_prepared = full_pipeline.transform(X_te)\n",
        "X_test_reduced = pca.transform(X_test_prepared)"
      ],
      "execution_count": 0,
      "outputs": []
    },
    {
      "cell_type": "code",
      "metadata": {
        "id": "Ml5gzV2a_R90",
        "colab_type": "code",
        "colab": {}
      },
      "source": [
        "# applying the best model to the Test Set of the data\n",
        "\n",
        "forest_final_model = forest_grid_search.best_estimator_\n",
        "forest_final_predictions = forest_final_model.predict(X_test_prepared)\n",
        "\n",
        "print(classification_report(forest_final_predictions, y_te))"
      ],
      "execution_count": 0,
      "outputs": []
    },
    {
      "cell_type": "code",
      "metadata": {
        "id": "Swy9EJG8D45W",
        "colab_type": "code",
        "outputId": "7caedc6f-d054-4f37-9b6c-9f250b2126ae",
        "colab": {
          "base_uri": "https://localhost:8080/",
          "height": 54
        }
      },
      "source": [
        "\n",
        "cmRF=confusion_matrix(forest_final_predictions, y_te)\n",
        "#print(cmRF)\n",
        "ax= plt.subplot()\n",
        "sns.heatmap(cmRF, annot=True, ax = ax, cmap=\"YlGnBu\"); #annot=True to annotate cells\n",
        "\n",
        "# labels, title and ticks\n",
        "ax.set_xlabel('Predicted labels');ax.set_ylabel('True labels'); \n",
        "ax.set_title('Confusion Matrix (SGDClassifier)'); \n",
        "ax.xaxis.set_ticklabels(['Not Delayed', 'Delayed']); ax.yaxis.set_ticklabels(['Not Delayed', 'Delayed']);"
      ],
      "execution_count": 0,
      "outputs": [
        {
          "output_type": "stream",
          "text": [
            "[[1368617   70453]\n",
            " [  26265  248868]]\n"
          ],
          "name": "stdout"
        }
      ]
    },
    {
      "cell_type": "code",
      "metadata": {
        "id": "WzRfSvnyF0XP",
        "colab_type": "code",
        "colab": {}
      },
      "source": [
        "def myscores(cm): \n",
        "    tp = cm[0][0] \n",
        "    fp = cm[0][1] \n",
        "    fn = cm[1][0] \n",
        "    tn = cm[1][1] \n",
        "    return tp/(tp+fp), tp/(tp+fn), fp/(tn+fp), tn/(tn+fp)"
      ],
      "execution_count": 0,
      "outputs": []
    },
    {
      "cell_type": "code",
      "metadata": {
        "id": "1Cs7vwaXGCgI",
        "colab_type": "code",
        "colab": {}
      },
      "source": [
        "def myscorePredictions(cm): \n",
        "    tp = cm[0][0] \n",
        "    fp = cm[0][1] \n",
        "    fn = cm[1][0] \n",
        "    tn = cm[1][1] \n",
        "    return (fp+fn)/(tp+tn+fn+fp), (tp+tn)/(tp+tn+fn+fp)"
      ],
      "execution_count": 0,
      "outputs": []
    },
    {
      "cell_type": "code",
      "metadata": {
        "id": "Gri30v7wGHWw",
        "colab_type": "code",
        "outputId": "fbab1b37-d1ad-4884-e044-ce105c064686",
        "colab": {
          "base_uri": "https://localhost:8080/",
          "height": 74
        }
      },
      "source": [
        "print(\"Error rate, accuracy\", myscorePredictions(cmRF))\n",
        "print(\"precision,Sensitivity-recall (true positive),false positive, Specificity(true negative):\", myscores(cmRF))"
      ],
      "execution_count": 0,
      "outputs": [
        {
          "output_type": "stream",
          "text": [
            "Error rate, accuracy (0.056421555673394574, 0.9435784443266054)\n",
            "precision,Sensitivity-recall (true positive),false positive, Specificity(true negative): (0.9510426872910978, 0.9811704502603088, 0.2206337823068323, 0.7793662176931677)\n"
          ],
          "name": "stdout"
        }
      ]
    },
    {
      "cell_type": "code",
      "metadata": {
        "id": "zOdnXbsBD4s5",
        "colab_type": "code",
        "outputId": "a97eaba0-3db2-41a2-df8a-2e279410180c",
        "colab": {
          "base_uri": "https://localhost:8080/",
          "height": 320
        }
      },
      "source": [
        "# predict probabilities\n",
        "probs_forest = forest_final_model.predict_proba(X_test_prepared)\n",
        "\n",
        "# keep probabilities for the positive outcome only\n",
        "probs_forest = probs_forest[:, 1]\n",
        "# calculate AUC\n",
        "auc_rf = roc_auc_score(y_te, probs_forest)\n",
        "print('AUC: %.3f' % auc_rf)\n",
        "# calculate roc curve\n",
        "fpr, tpr, thresholds = roc_curve(y_te, probs_forest)\n",
        "# plot no skill\n",
        "pyplot.plot([0, 1], [0, 1], linestyle='--')\n",
        "# plot the precision-recall curve for the model\n",
        "pyplot.plot(fpr, tpr, label='RF (area = {:.3f})'.format(auc_rf), marker='.')\n",
        "# show the plot\n",
        "pyplot.title(\"ROC Curve for Random Forest Final Model\")\n",
        "pyplot.xlabel(\"False Positive Rate\")\n",
        "pyplot.ylabel(\"True Positive Rate\")\n",
        "pyplot.show()\n",
        "pyplot.show()"
      ],
      "execution_count": 0,
      "outputs": [
        {
          "output_type": "stream",
          "text": [
            "AUC: 0.953\n"
          ],
          "name": "stdout"
        },
        {
          "output_type": "display_data",
          "data": {
            "image/png": "[encoded data removed]",
            "text/plain": [
              "<Figure size 432x288 with 1 Axes>"
            ]
          },
          "metadata": {
            "tags": []
          }
        }
      ]
    },
    {
      "cell_type": "code",
      "metadata": {
        "id": "Pc65Rvvly09t",
        "colab_type": "code",
        "colab": {}
      },
      "source": [
        "#Calculate AUC (area under curve) for random forest final\n",
        "auc_rf = auc(fpr, tpr)\n"
      ],
      "execution_count": 0,
      "outputs": []
    },
    {
      "cell_type": "code",
      "metadata": {
        "id": "wdRBlFx6D4qJ",
        "colab_type": "code",
        "outputId": "6eda7e45-9fee-40ee-a714-04fd963327e0",
        "colab": {
          "base_uri": "https://localhost:8080/",
          "height": 147
        }
      },
      "source": [
        "#Deep learning \n",
        "#training a network to predict if a flight will be delayed based on other parameters\n",
        "\n",
        "#creating the neural network\n",
        "classifier = Sequential()\n",
        "#First Hidden Layer\n",
        "classifier.add(Dense(10, activation='relu', kernel_initializer='random_normal', input_dim=37))\n",
        "#Second  Hidden Layer\n",
        "classifier.add(Dense(10, activation='relu', kernel_initializer='random_normal'))\n",
        "#Output Layer\n",
        "classifier.add(Dense(1, activation='sigmoid', kernel_initializer='random_normal'))"
      ],
      "execution_count": 0,
      "outputs": [
        {
          "output_type": "stream",
          "text": [
            "W0725 00:29:27.408888 140653739476864 deprecation_wrapper.py:119] From /usr/local/lib/python3.6/dist-packages/keras/backend/tensorflow_backend.py:74: The name tf.get_default_graph is deprecated. Please use tf.compat.v1.get_default_graph instead.\n",
            "\n",
            "W0725 00:29:27.454751 140653739476864 deprecation_wrapper.py:119] From /usr/local/lib/python3.6/dist-packages/keras/backend/tensorflow_backend.py:517: The name tf.placeholder is deprecated. Please use tf.compat.v1.placeholder instead.\n",
            "\n",
            "W0725 00:29:27.461579 140653739476864 deprecation_wrapper.py:119] From /usr/local/lib/python3.6/dist-packages/keras/backend/tensorflow_backend.py:4115: The name tf.random_normal is deprecated. Please use tf.random.normal instead.\n",
            "\n"
          ],
          "name": "stderr"
        }
      ]
    },
    {
      "cell_type": "code",
      "metadata": {
        "id": "BxgJgUjV3Dp0",
        "colab_type": "code",
        "outputId": "5e6152e0-a9fb-47cf-885b-6ed10e27d4a6",
        "colab": {
          "base_uri": "https://localhost:8080/",
          "height": 147
        }
      },
      "source": [
        "#Deep learning \n",
        "#training a network to predict if a flight will be delayed based on other parameters\n",
        "\n",
        "#creating the neural network\n",
        "classifierPCA = Sequential()\n",
        "#First Hidden Layer\n",
        "classifierPCA.add(Dense(10, activation='relu', kernel_initializer='random_normal', input_dim=25))\n",
        "#Second  Hidden Layer\n",
        "classifierPCA.add(Dense(10, activation='relu', kernel_initializer='random_normal'))\n",
        "#Output Layer\n",
        "classifierPCA.add(Dense(1, activation='sigmoid', kernel_initializer='random_normal'))"
      ],
      "execution_count": 0,
      "outputs": [
        {
          "output_type": "stream",
          "text": [
            "W0725 16:32:23.285855 140584119318400 deprecation_wrapper.py:119] From /usr/local/lib/python3.6/dist-packages/keras/backend/tensorflow_backend.py:74: The name tf.get_default_graph is deprecated. Please use tf.compat.v1.get_default_graph instead.\n",
            "\n",
            "W0725 16:32:23.327939 140584119318400 deprecation_wrapper.py:119] From /usr/local/lib/python3.6/dist-packages/keras/backend/tensorflow_backend.py:517: The name tf.placeholder is deprecated. Please use tf.compat.v1.placeholder instead.\n",
            "\n",
            "W0725 16:32:23.335078 140584119318400 deprecation_wrapper.py:119] From /usr/local/lib/python3.6/dist-packages/keras/backend/tensorflow_backend.py:4115: The name tf.random_normal is deprecated. Please use tf.random.normal instead.\n",
            "\n"
          ],
          "name": "stderr"
        }
      ]
    },
    {
      "cell_type": "code",
      "metadata": {
        "id": "pg3q5gaGD4nB",
        "colab_type": "code",
        "outputId": "2bc9519c-879a-463a-f1ee-ccdb9b1b502f",
        "colab": {
          "base_uri": "https://localhost:8080/",
          "height": 172
        }
      },
      "source": [
        "#Compiling the neural network\n",
        "classifier.compile(optimizer ='adam',loss='binary_crossentropy', metrics =['accuracy'])"
      ],
      "execution_count": 0,
      "outputs": [
        {
          "output_type": "error",
          "ename": "NameError",
          "evalue": "ignored",
          "traceback": [
            "\u001b[0;31m---------------------------------------------------------------------------\u001b[0m",
            "\u001b[0;31mNameError\u001b[0m                                 Traceback (most recent call last)",
            "\u001b[0;32m<ipython-input-63-9d5683986fa9>\u001b[0m in \u001b[0;36m<module>\u001b[0;34m()\u001b[0m\n\u001b[0;32m----> 1\u001b[0;31m \u001b[0mclassifier\u001b[0m\u001b[0;34m.\u001b[0m\u001b[0mcompile\u001b[0m\u001b[0;34m(\u001b[0m\u001b[0moptimizer\u001b[0m \u001b[0;34m=\u001b[0m\u001b[0;34m'adam'\u001b[0m\u001b[0;34m,\u001b[0m\u001b[0mloss\u001b[0m\u001b[0;34m=\u001b[0m\u001b[0;34m'binary_crossentropy'\u001b[0m\u001b[0;34m,\u001b[0m \u001b[0mmetrics\u001b[0m \u001b[0;34m=\u001b[0m\u001b[0;34m[\u001b[0m\u001b[0;34m'accuracy'\u001b[0m\u001b[0;34m]\u001b[0m\u001b[0;34m)\u001b[0m\u001b[0;34m\u001b[0m\u001b[0;34m\u001b[0m\u001b[0m\n\u001b[0m",
            "\u001b[0;31mNameError\u001b[0m: name 'classifier' is not defined"
          ]
        }
      ]
    },
    {
      "cell_type": "code",
      "metadata": {
        "id": "Rct-r7N830LV",
        "colab_type": "code",
        "outputId": "00da503b-f58b-4b2e-eb1b-5acd67640033",
        "colab": {
          "base_uri": "https://localhost:8080/",
          "height": 166
        }
      },
      "source": [
        "#Compiling the neural network\n",
        "classifierPCA.compile(optimizer ='adam',loss='binary_crossentropy', metrics =['accuracy'])"
      ],
      "execution_count": 0,
      "outputs": [
        {
          "output_type": "stream",
          "text": [
            "W0725 16:32:38.476077 140584119318400 deprecation_wrapper.py:119] From /usr/local/lib/python3.6/dist-packages/keras/optimizers.py:790: The name tf.train.Optimizer is deprecated. Please use tf.compat.v1.train.Optimizer instead.\n",
            "\n",
            "W0725 16:32:38.501376 140584119318400 deprecation_wrapper.py:119] From /usr/local/lib/python3.6/dist-packages/keras/backend/tensorflow_backend.py:3376: The name tf.log is deprecated. Please use tf.math.log instead.\n",
            "\n",
            "W0725 16:32:38.506554 140584119318400 deprecation.py:323] From /usr/local/lib/python3.6/dist-packages/tensorflow/python/ops/nn_impl.py:180: add_dispatch_support.<locals>.wrapper (from tensorflow.python.ops.array_ops) is deprecated and will be removed in a future version.\n",
            "Instructions for updating:\n",
            "Use tf.where in 2.0, which has the same broadcast rule as np.where\n"
          ],
          "name": "stderr"
        }
      ]
    },
    {
      "cell_type": "code",
      "metadata": {
        "id": "zc53VPUF-v5G",
        "colab_type": "code",
        "outputId": "8b88500a-1e2c-45af-c586-3c6daf917db3",
        "colab": {
          "base_uri": "https://localhost:8080/",
          "height": 201
        }
      },
      "source": [
        "#fitting \n",
        "\n",
        " classifier.fit(flights_df_prepared,flights_labels, batch_size=15,epochs=4)"
      ],
      "execution_count": 0,
      "outputs": [
        {
          "output_type": "stream",
          "text": [
            "Epoch 1/5\n",
            "3999805/3999805 [==============================] - 792s 198us/step - loss: 0.1553 - acc: 0.9446\n",
            "Epoch 2/5\n",
            "3999805/3999805 [==============================] - 798s 199us/step - loss: 0.1544 - acc: 0.9448\n",
            "Epoch 3/5\n",
            "3999805/3999805 [==============================] - 798s 199us/step - loss: 0.1542 - acc: 0.9449\n",
            "Epoch 4/5\n",
            "3999805/3999805 [==============================] - 794s 198us/step - loss: 0.1541 - acc: 0.9450\n",
            "Epoch 5/5\n",
            "3999805/3999805 [==============================] - 782s 195us/step - loss: 0.1540 - acc: 0.9450\n"
          ],
          "name": "stdout"
        }
      ]
    },
    {
      "cell_type": "code",
      "metadata": {
        "id": "z9RgLhHLlK-S",
        "colab_type": "code",
        "outputId": "f04408aa-a131-4866-bd5f-cc5ca2c027a6",
        "colab": {
          "base_uri": "https://localhost:8080/",
          "height": 257
        }
      },
      "source": [
        "classifierPCA.fit(flights_df_reduced,flights_labels, batch_size=15,epochs=4)"
      ],
      "execution_count": 0,
      "outputs": [
        {
          "output_type": "stream",
          "text": [
            "W0725 16:32:46.023408 140584119318400 deprecation_wrapper.py:119] From /usr/local/lib/python3.6/dist-packages/keras/backend/tensorflow_backend.py:986: The name tf.assign_add is deprecated. Please use tf.compat.v1.assign_add instead.\n",
            "\n"
          ],
          "name": "stderr"
        },
        {
          "output_type": "stream",
          "text": [
            "Epoch 1/5\n",
            "3999805/3999805 [==============================] - 738s 184us/step - loss: 0.1585 - acc: 0.9434\n",
            "Epoch 2/5\n",
            "3999805/3999805 [==============================] - 719s 180us/step - loss: 0.1567 - acc: 0.9440\n",
            "Epoch 3/5\n",
            "3999805/3999805 [==============================] - 716s 179us/step - loss: 0.1562 - acc: 0.9442\n",
            "Epoch 4/5\n",
            "3999805/3999805 [==============================] - 721s 180us/step - loss: 0.1559 - acc: 0.9442\n",
            "Epoch 5/5\n",
            " 368760/3999805 [=>............................] - ETA: 10:50 - loss: 0.1550 - acc: 0.9444Buffered data was truncated after reaching the output size limit."
          ],
          "name": "stdout"
        }
      ]
    },
    {
      "cell_type": "code",
      "metadata": {
        "id": "Z_iD7PCJ_ZWS",
        "colab_type": "code",
        "outputId": "434bc964-ca23-47e5-8db5-215d68204f42",
        "colab": {
          "base_uri": "https://localhost:8080/",
          "height": 227
        }
      },
      "source": [
        "#using the classifier on the test data\n",
        "\n",
        "evaluation_neural=classifier.evaluate(X_test_prepared, y_te)\n",
        "evaluation_neural\n",
        "classifier.metrics_names"
      ],
      "execution_count": 0,
      "outputs": [
        {
          "output_type": "error",
          "ename": "AttributeError",
          "evalue": "ignored",
          "traceback": [
            "\u001b[0;31m---------------------------------------------------------------------------\u001b[0m",
            "\u001b[0;31mAttributeError\u001b[0m                            Traceback (most recent call last)",
            "\u001b[0;32m<ipython-input-81-2142cf6879d9>\u001b[0m in \u001b[0;36m<module>\u001b[0;34m()\u001b[0m\n\u001b[1;32m      1\u001b[0m \u001b[0;34m\u001b[0m\u001b[0m\n\u001b[0;32m----> 2\u001b[0;31m \u001b[0mevaluation_neural\u001b[0m\u001b[0;34m=\u001b[0m\u001b[0mnn\u001b[0m\u001b[0;34m.\u001b[0m\u001b[0mevaluate\u001b[0m\u001b[0;34m(\u001b[0m\u001b[0mX_test_prepared\u001b[0m\u001b[0;34m,\u001b[0m \u001b[0my_te\u001b[0m\u001b[0;34m)\u001b[0m\u001b[0;34m\u001b[0m\u001b[0;34m\u001b[0m\u001b[0m\n\u001b[0m\u001b[1;32m      3\u001b[0m \u001b[0mevaluation_neural\u001b[0m\u001b[0;34m\u001b[0m\u001b[0;34m\u001b[0m\u001b[0m\n\u001b[1;32m      4\u001b[0m \u001b[0mclassifier\u001b[0m\u001b[0;34m.\u001b[0m\u001b[0mmetrics_names\u001b[0m\u001b[0;34m\u001b[0m\u001b[0;34m\u001b[0m\u001b[0m\n",
            "\u001b[0;31mAttributeError\u001b[0m: 'History' object has no attribute 'evaluate'"
          ]
        }
      ]
    },
    {
      "cell_type": "code",
      "metadata": {
        "id": "O9TWaSub4Frq",
        "colab_type": "code",
        "outputId": "838096af-ab8c-4d5d-e9d3-f2350438ea8a",
        "colab": {
          "base_uri": "https://localhost:8080/",
          "height": 54
        }
      },
      "source": [
        "#using the classifier on the test data\n",
        "\n",
        "evaluation_neural=classifierPCA.evaluate(X_test_reduced, y_te)\n",
        "evaluation_neural\n",
        "classifierPCA.metrics_names"
      ],
      "execution_count": 0,
      "outputs": [
        {
          "output_type": "stream",
          "text": [
            "1714203/1714203 [==============================] - 51s 29us/step\n"
          ],
          "name": "stdout"
        },
        {
          "output_type": "execute_result",
          "data": {
            "text/plain": [
              "['loss', 'acc']"
            ]
          },
          "metadata": {
            "tags": []
          },
          "execution_count": 69
        }
      ]
    },
    {
      "cell_type": "code",
      "metadata": {
        "id": "IyeKzlITfxd6",
        "colab_type": "code",
        "outputId": "a3d67adf-5d3d-4a81-a350-0e09747e024a",
        "colab": {
          "base_uri": "https://localhost:8080/",
          "height": 246
        }
      },
      "source": [
        "#prediction \n",
        "y_pred=classifier.predict(X_test_prepared)\n",
        "y_pred =(y_pred>0.5)\n",
        "cmNN = confusion_matrix(y_te, y_pred)\n",
        "#print(cmNN)\n",
        "ax= plt.subplot()\n",
        "sns.heatmap(cmNN, annot=True, ax = ax, cmap=\"YlGnBu\"); #annot=True to annotate cells\n",
        "\n",
        "# labels, title and ticks\n",
        "ax.set_xlabel('Predicted labels');ax.set_ylabel('True labels'); \n",
        "ax.set_title('Confusion Matrix (NN Classifier)'); \n",
        "ax.xaxis.set_ticklabels(['Not Delayed', 'Delayed']); ax.yaxis.set_ticklabels(['Not Delayed', 'Delayed']);"
      ],
      "execution_count": 0,
      "outputs": [
        {
          "output_type": "error",
          "ename": "NameError",
          "evalue": "ignored",
          "traceback": [
            "\u001b[0;31m---------------------------------------------------------------------------\u001b[0m",
            "\u001b[0;31mNameError\u001b[0m                                 Traceback (most recent call last)",
            "\u001b[0;32m<ipython-input-1-9acd82b14b70>\u001b[0m in \u001b[0;36m<module>\u001b[0;34m()\u001b[0m\n\u001b[0;32m----> 1\u001b[0;31m \u001b[0my_pred\u001b[0m\u001b[0;34m=\u001b[0m\u001b[0mclassifier\u001b[0m\u001b[0;34m.\u001b[0m\u001b[0mpredict\u001b[0m\u001b[0;34m(\u001b[0m\u001b[0mX_test_prepared\u001b[0m\u001b[0;34m)\u001b[0m\u001b[0;34m\u001b[0m\u001b[0;34m\u001b[0m\u001b[0m\n\u001b[0m\u001b[1;32m      2\u001b[0m \u001b[0my_pred\u001b[0m \u001b[0;34m=\u001b[0m\u001b[0;34m(\u001b[0m\u001b[0my_pred\u001b[0m\u001b[0;34m>\u001b[0m\u001b[0;36m0.5\u001b[0m\u001b[0;34m)\u001b[0m\u001b[0;34m\u001b[0m\u001b[0;34m\u001b[0m\u001b[0m\n\u001b[1;32m      3\u001b[0m \u001b[0mcmNN\u001b[0m \u001b[0;34m=\u001b[0m \u001b[0mconfusion_matrix\u001b[0m\u001b[0;34m(\u001b[0m\u001b[0my_te\u001b[0m\u001b[0;34m,\u001b[0m \u001b[0my_pred\u001b[0m\u001b[0;34m)\u001b[0m\u001b[0;34m\u001b[0m\u001b[0;34m\u001b[0m\u001b[0m\n\u001b[1;32m      4\u001b[0m \u001b[0;31m#print(cmNN)\u001b[0m\u001b[0;34m\u001b[0m\u001b[0;34m\u001b[0m\u001b[0;34m\u001b[0m\u001b[0m\n\u001b[1;32m      5\u001b[0m \u001b[0;34m\u001b[0m\u001b[0m\n",
            "\u001b[0;31mNameError\u001b[0m: name 'classifier' is not defined"
          ]
        }
      ]
    },
    {
      "cell_type": "code",
      "metadata": {
        "id": "P3-RiICq_4i5",
        "colab_type": "code",
        "outputId": "3a07e675-c654-44ef-94c6-2271ededcbb3",
        "colab": {
          "base_uri": "https://localhost:8080/",
          "height": 246
        }
      },
      "source": [
        "#prediction with pca\n",
        "y_pred=classifierPCA.predict(X_test_reduced)\n",
        "y_pred =(y_pred>0.5)\n",
        "cmNNPCA = confusion_matrix(y_te, y_pred)\n",
        "#print(cmNN)\n",
        "ax= plt.subplot()\n",
        "sns.heatmap(cmNNPCA, annot=True, ax = ax, cmap=\"YlGnBu\"); #annot=True to annotate cells\n",
        "\n",
        "# labels, title and ticks\n",
        "ax.set_xlabel('Predicted labels');ax.set_ylabel('True labels'); \n",
        "ax.set_title('Confusion Matrix (NN PCA)'); \n",
        "ax.xaxis.set_ticklabels(['Not Delayed', 'Delayed']); ax.yaxis.set_ticklabels(['Not Delayed', 'Delayed']);"
      ],
      "execution_count": 0,
      "outputs": [
        {
          "output_type": "error",
          "ename": "NameError",
          "evalue": "ignored",
          "traceback": [
            "\u001b[0;31m---------------------------------------------------------------------------\u001b[0m",
            "\u001b[0;31mNameError\u001b[0m                                 Traceback (most recent call last)",
            "\u001b[0;32m<ipython-input-2-17e67ad70c3e>\u001b[0m in \u001b[0;36m<module>\u001b[0;34m()\u001b[0m\n\u001b[0;32m----> 1\u001b[0;31m \u001b[0my_pred\u001b[0m\u001b[0;34m=\u001b[0m\u001b[0mclassifierPCA\u001b[0m\u001b[0;34m.\u001b[0m\u001b[0mpredict\u001b[0m\u001b[0;34m(\u001b[0m\u001b[0mX_test_reduced\u001b[0m\u001b[0;34m)\u001b[0m\u001b[0;34m\u001b[0m\u001b[0;34m\u001b[0m\u001b[0m\n\u001b[0m\u001b[1;32m      2\u001b[0m \u001b[0my_pred\u001b[0m \u001b[0;34m=\u001b[0m\u001b[0;34m(\u001b[0m\u001b[0my_pred\u001b[0m\u001b[0;34m>\u001b[0m\u001b[0;36m0.5\u001b[0m\u001b[0;34m)\u001b[0m\u001b[0;34m\u001b[0m\u001b[0;34m\u001b[0m\u001b[0m\n\u001b[1;32m      3\u001b[0m \u001b[0mcmNNPCA\u001b[0m \u001b[0;34m=\u001b[0m \u001b[0mconfusion_matrix\u001b[0m\u001b[0;34m(\u001b[0m\u001b[0my_te\u001b[0m\u001b[0;34m,\u001b[0m \u001b[0my_pred\u001b[0m\u001b[0;34m)\u001b[0m\u001b[0;34m\u001b[0m\u001b[0;34m\u001b[0m\u001b[0m\n\u001b[1;32m      4\u001b[0m \u001b[0;31m#print(cmNN)\u001b[0m\u001b[0;34m\u001b[0m\u001b[0;34m\u001b[0m\u001b[0;34m\u001b[0m\u001b[0m\n\u001b[1;32m      5\u001b[0m \u001b[0max\u001b[0m\u001b[0;34m=\u001b[0m \u001b[0mplt\u001b[0m\u001b[0;34m.\u001b[0m\u001b[0msubplot\u001b[0m\u001b[0;34m(\u001b[0m\u001b[0;34m)\u001b[0m\u001b[0;34m\u001b[0m\u001b[0;34m\u001b[0m\u001b[0m\n",
            "\u001b[0;31mNameError\u001b[0m: name 'classifierPCA' is not defined"
          ]
        }
      ]
    },
    {
      "cell_type": "code",
      "metadata": {
        "id": "a79BS91nsav-",
        "colab_type": "code",
        "outputId": "06d75e4d-21b8-406f-c8ee-f0c741bd9cb3",
        "colab": {
          "base_uri": "https://localhost:8080/",
          "height": 35
        }
      },
      "source": [
        "print(\"Error rate, accuracy\", myscorePredictions(cmNN))"
      ],
      "execution_count": 0,
      "outputs": [
        {
          "output_type": "stream",
          "text": [
            "Error rate, accuracy (0.054775309575353676, 0.9452246904246463)\n"
          ],
          "name": "stdout"
        }
      ]
    },
    {
      "cell_type": "code",
      "metadata": {
        "id": "8KfG72_i4ZSJ",
        "colab_type": "code",
        "outputId": "672e5a0d-836f-4e4d-fe65-8bbb28c999e9",
        "colab": {
          "base_uri": "https://localhost:8080/",
          "height": 35
        }
      },
      "source": [
        "print(\"Neural Net PCA: Error rate, accuracy\", myscorePredictions(cmNNPCA))"
      ],
      "execution_count": 0,
      "outputs": [
        {
          "output_type": "stream",
          "text": [
            "Neural Net PCA: Error rate, accuracy (0.055671352809439724, 0.9443286471905603)\n"
          ],
          "name": "stdout"
        }
      ]
    },
    {
      "cell_type": "code",
      "metadata": {
        "id": "3G7W09DylE-C",
        "colab_type": "code",
        "outputId": "5213a08d-d766-4527-bc99-8dd77f967c49",
        "colab": {
          "base_uri": "https://localhost:8080/",
          "height": 55
        }
      },
      "source": [
        "  print(\"precision, Sensitivity-recall (true positive),false positive, Specificity(true negative):\", myscores(cmNN))"
      ],
      "execution_count": 0,
      "outputs": [
        {
          "output_type": "stream",
          "text": [
            "precision, Sensitivity-recall (true positive),false positive, Specificity(true negative): (0.9817561628868965, 0.9523966500728155, 0.09209578714610905, 0.9079042128538909)\n"
          ],
          "name": "stdout"
        }
      ]
    },
    {
      "cell_type": "code",
      "metadata": {
        "id": "NNjEM7Vo4kYP",
        "colab_type": "code",
        "outputId": "958344da-0d1c-434b-808f-a95a2e7c1758",
        "colab": {
          "base_uri": "https://localhost:8080/",
          "height": 55
        }
      },
      "source": [
        "  print(\"Neural Net PCA: precision, Sensitivity-recall (true positive),false positive, Specificity(true negative):\", myscores(cmNNPCA))"
      ],
      "execution_count": 0,
      "outputs": [
        {
          "output_type": "stream",
          "text": [
            "Neural Net PCA: precision, Sensitivity-recall (true positive),false positive, Specificity(true negative): (0.981062914282355, 0.9519876395145963, 0.09545784713012118, 0.9045421528698788)\n"
          ],
          "name": "stdout"
        }
      ]
    },
    {
      "cell_type": "code",
      "metadata": {
        "id": "Jd4wbbItpiOF",
        "colab_type": "code",
        "colab": {}
      },
      "source": [
        "# ROC NN\n",
        "\n",
        "\n",
        "y_pred_keras = classifier.predict(X_test_prepared).ravel()\n",
        "fpr_keras, tpr_keras, thresholds_keras = roc_curve(y_te, y_pred_keras)\n",
        "#Calculate AUC (area under curve)\n",
        "from sklearn.metrics import auc\n",
        "auc_keras = auc(fpr_keras, tpr_keras)"
      ],
      "execution_count": 0,
      "outputs": []
    },
    {
      "cell_type": "code",
      "metadata": {
        "id": "5B4QxNTE5GNZ",
        "colab_type": "code",
        "colab": {}
      },
      "source": [
        "# ROC NN PCA \n",
        "\n",
        "\n",
        "y_pred_kerasPCA = classifierPCA.predict(X_test_reduced).ravel()\n",
        "fpr_kerasPCA, tpr_kerasPCA, thresholds_kerasPCA = roc_curve(y_te, y_pred_kerasPCA)\n",
        "#Calculate AUC (area under curve)\n",
        "from sklearn.metrics import auc\n",
        "auc_kerasPCA = auc(fpr_kerasPCA, tpr_kerasPCA)"
      ],
      "execution_count": 0,
      "outputs": []
    },
    {
      "cell_type": "code",
      "metadata": {
        "id": "IGG0czImxedG",
        "colab_type": "code",
        "outputId": "8ba54d47-0de7-46d3-d3ad-0a105a8dda74",
        "colab": {
          "base_uri": "https://localhost:8080/",
          "height": 35
        }
      },
      "source": [
        "auc_keras"
      ],
      "execution_count": 0,
      "outputs": [
        {
          "output_type": "execute_result",
          "data": {
            "text/plain": [
              "0.9643969755468303"
            ]
          },
          "metadata": {
            "tags": []
          },
          "execution_count": 127
        }
      ]
    },
    {
      "cell_type": "code",
      "metadata": {
        "id": "JBzQWtbGxXme",
        "colab_type": "code",
        "outputId": "85ce6d91-6fdc-4255-e1d2-7d54f648fb65",
        "colab": {
          "base_uri": "https://localhost:8080/",
          "height": 501
        }
      },
      "source": [
        "\n",
        "\n",
        "plt.figure(1)\n",
        "plt.plot([0, 1], [0, 1], 'k--')\n",
        "# plot the precision-recall curve for the Neural Network model\n",
        "plt.plot(fpr_keras, tpr_keras, label='Neural Net (area = {:.3f})'.format(auc_keras))\n",
        "# plot the precision-recall curve for the Neural Network model\n",
        "plt.plot(fpr_kerasPCA, tpr_kerasPCA, label='Neural Net PCA(area = {:.3f})'.format(auc_kerasPCA))\n",
        "# plot the precision-recall curve for the random Forest final model\n",
        "pyplot.plot(fpr, tpr, label='RF (area = {:.3f})'.format(auc_rf), marker='.')\n",
        "plt.xlabel('False positive rate')\n",
        "plt.ylabel('True positive rate')\n",
        "plt.title('ROC curve for Neural Network Model')\n",
        "plt.legend(loc='best')\n",
        "plt.show()"
      ],
      "execution_count": 0,
      "outputs": [
        {
          "output_type": "error",
          "ename": "NameError",
          "evalue": "ignored",
          "traceback": [
            "\u001b[0;31m---------------------------------------------------------------------------\u001b[0m",
            "\u001b[0;31mNameError\u001b[0m                                 Traceback (most recent call last)",
            "\u001b[0;32m<ipython-input-80-2a1e1e1cd272>\u001b[0m in \u001b[0;36m<module>\u001b[0;34m()\u001b[0m\n\u001b[1;32m      8\u001b[0m \u001b[0mplt\u001b[0m\u001b[0;34m.\u001b[0m\u001b[0mplot\u001b[0m\u001b[0;34m(\u001b[0m\u001b[0mfpr_kerasPCA\u001b[0m\u001b[0;34m,\u001b[0m \u001b[0mtpr_kerasPCA\u001b[0m\u001b[0;34m,\u001b[0m \u001b[0mlabel\u001b[0m\u001b[0;34m=\u001b[0m\u001b[0;34m'Neural Net PCA(area = {:.3f})'\u001b[0m\u001b[0;34m.\u001b[0m\u001b[0mformat\u001b[0m\u001b[0;34m(\u001b[0m\u001b[0mauc_kerasPCA\u001b[0m\u001b[0;34m)\u001b[0m\u001b[0;34m)\u001b[0m\u001b[0;34m\u001b[0m\u001b[0;34m\u001b[0m\u001b[0m\n\u001b[1;32m      9\u001b[0m \u001b[0;31m# plot the precision-recall curve for the random Forest final model\u001b[0m\u001b[0;34m\u001b[0m\u001b[0;34m\u001b[0m\u001b[0;34m\u001b[0m\u001b[0m\n\u001b[0;32m---> 10\u001b[0;31m \u001b[0mpyplot\u001b[0m\u001b[0;34m.\u001b[0m\u001b[0mplot\u001b[0m\u001b[0;34m(\u001b[0m\u001b[0mfpr\u001b[0m\u001b[0;34m,\u001b[0m \u001b[0mtpr\u001b[0m\u001b[0;34m,\u001b[0m \u001b[0mlabel\u001b[0m\u001b[0;34m=\u001b[0m\u001b[0;34m'RF (area = {:.3f})'\u001b[0m\u001b[0;34m.\u001b[0m\u001b[0mformat\u001b[0m\u001b[0;34m(\u001b[0m\u001b[0mauc_rf\u001b[0m\u001b[0;34m)\u001b[0m\u001b[0;34m,\u001b[0m \u001b[0mmarker\u001b[0m\u001b[0;34m=\u001b[0m\u001b[0;34m'.'\u001b[0m\u001b[0;34m)\u001b[0m\u001b[0;34m\u001b[0m\u001b[0;34m\u001b[0m\u001b[0m\n\u001b[0m\u001b[1;32m     11\u001b[0m \u001b[0mplt\u001b[0m\u001b[0;34m.\u001b[0m\u001b[0mxlabel\u001b[0m\u001b[0;34m(\u001b[0m\u001b[0;34m'False positive rate'\u001b[0m\u001b[0;34m)\u001b[0m\u001b[0;34m\u001b[0m\u001b[0;34m\u001b[0m\u001b[0m\n\u001b[1;32m     12\u001b[0m \u001b[0mplt\u001b[0m\u001b[0;34m.\u001b[0m\u001b[0mylabel\u001b[0m\u001b[0;34m(\u001b[0m\u001b[0;34m'True positive rate'\u001b[0m\u001b[0;34m)\u001b[0m\u001b[0;34m\u001b[0m\u001b[0;34m\u001b[0m\u001b[0m\n",
            "\u001b[0;31mNameError\u001b[0m: name 'fpr' is not defined"
          ]
        },
        {
          "output_type": "display_data",
          "data": {
            "image/png": "[encoded data removed]",
            "text/plain": [
              "<Figure size 432x288 with 1 Axes>"
            ]
          },
          "metadata": {
            "tags": []
          }
        }
      ]
    },
    {
      "cell_type": "code",
      "metadata": {
        "id": "dXH6nBg4x2Tj",
        "colab_type": "code",
        "outputId": "179f776c-c2cd-4cd7-f57d-532c7bf1170a",
        "colab": {
          "base_uri": "https://localhost:8080/",
          "height": 302
        }
      },
      "source": [
        "# Zoom in view of the upper left corner.\n",
        "plt.figure(2)\n",
        "plt.xlim(0, 0.2)\n",
        "plt.ylim(0.8, 1)\n",
        "plt.plot([0, 1], [0, 1], 'k--')\n",
        "plt.plot(fpr_keras, tpr_keras, label='Neural Net (area = {:.3f})'.format(auc_keras))\n",
        "# plot the precision-recall curve for the Neural Network model\n",
        "plt.plot(fpr_kerasPCA, tpr_kerasPCA, label='Neural Net PCA(area = {:.3f})'.format(auc_kerasPCA))\n",
        "# plot the precision-recall curve for the random Forest final model\n",
        "pyplot.plot(fpr, tpr, label='RF (area = {:.3f})'.format(auc_rf), marker='.')\n",
        "plt.xlabel('False positive rate')\n",
        "plt.ylabel('True positive rate')\n",
        "plt.title('ROC curve (zoomed in at top left)')\n",
        "plt.legend(loc='best')\n",
        "plt.show()"
      ],
      "execution_count": 0,
      "outputs": [
        {
          "output_type": "display_data",
          "data": {
            "image/png": "[encoded data removed]",
            "text/plain": [
              "<Figure size 432x288 with 1 Axes>"
            ]
          },
          "metadata": {
            "tags": []
          }
        }
      ]
    }
  ]
}