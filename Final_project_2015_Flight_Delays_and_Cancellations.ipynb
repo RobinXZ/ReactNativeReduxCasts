{
  "nbformat": 4,
  "nbformat_minor": 0,
  "metadata": {
    "colab": {
      "name": "Final_project_2015_Flight_Delays_and_Cancellations.ipynb",
      "version": "0.3.2",
      "provenance": [],
      "collapsed_sections": [],
      "include_colab_link": true
    },
    "kernelspec": {
      "name": "python3",
      "display_name": "Python 3"
    },
    "accelerator": "GPU"
  },
  "cells": [
    {
      "cell_type": "markdown",
      "metadata": {
        "id": "view-in-github",
        "colab_type": "text"
      },
      "source": [
        "<a href=\"https://colab.research.google.com/github/RobinXZ/ReactNativeReduxCasts/blob/master/Final_project_2015_Flight_Delays_and_Cancellations.ipynb\" target=\"_parent\"><img src=\"https://colab.research.google.com/assets/colab-badge.svg\" alt=\"Open In Colab\"/></a>"
      ]
    },
    {
      "cell_type": "markdown",
      "metadata": {
        "id": "X9Q9A7u-5DGY",
        "colab_type": "text"
      },
      "source": [
        "# Machine Learning 3253 Project - \"2015 Flight Delays and Cancellations\""
      ]
    },
    {
      "cell_type": "markdown",
      "metadata": {
        "id": "LYFlMyLm6OkZ",
        "colab_type": "text"
      },
      "source": [
        "##Team Members\n",
        "\n",
        "\n",
        "*   Asma-Ul-Hushna\n",
        "*   Xubin Zhao\n",
        "* \tYaxal Arenas\n",
        "\n",
        "\n",
        "\n",
        "\n",
        "\n"
      ]
    },
    {
      "cell_type": "markdown",
      "metadata": {
        "id": "o88lVEq17rXe",
        "colab_type": "text"
      },
      "source": [
        "## Project Overview\n",
        "\n",
        "In 2015 there are lots of flight delays in United States for some reason. Nearly one third of all flights in our data set have delays. The main reasons for flight delays are wheather related but in some cases there are also airline or airport related flight delays. This document examines and shows the delay and cancellation causes in several aspects."
      ]
    },
    {
      "cell_type": "markdown",
      "metadata": {
        "id": "NpddVZGZ7_hQ",
        "colab_type": "text"
      },
      "source": [
        "## Notebook Contents\n",
        "\n",
        "This notebook will explore the data, evaluate some models and draw conclusions. It is divided into the following main sections:\n",
        "\n",
        "\n",
        "\n",
        "\n",
        "\n",
        "\n",
        "\n",
        "\n",
        "\n",
        "1.   Setup the environment - seting up the notebook environment.\n",
        "2.   Get the data - loading the data set into the notebook.\n",
        "3.   Explore the data - exploring the raw flights data.\n",
        "4.   Prepare the data - data cleansing, feature selection\\reduction\\engineering and      standardization.\n",
        "5.   Model - training and testing various models.\n",
        "6.   Evaluate the model - analyzing model results.\n",
        "7.   Summary - summarizing the observations and conclusions.\n"
      ]
    },
    {
      "cell_type": "markdown",
      "metadata": {
        "id": "UyNvK7ky9s5Z",
        "colab_type": "text"
      },
      "source": [
        "## 1. Setup the environment"
      ]
    },
    {
      "cell_type": "code",
      "metadata": {
        "id": "LV-1idnh9xVp",
        "colab_type": "code",
        "colab": {}
      },
      "source": [
        "# import the basic libraries\n",
        "import numpy as np\n",
        "import pandas as pd\n",
        "\n",
        "# to make this notebook's output stable across runs\n",
        "np.random.seed(123)\n",
        "\n",
        "# To plot pretty figures\n",
        "%matplotlib inline\n",
        "import matplotlib\n",
        "import matplotlib.pyplot as plt\n",
        "plt.rcParams['axes.labelsize'] = 14\n",
        "plt.rcParams['xtick.labelsize'] = 12\n",
        "plt.rcParams['ytick.labelsize'] = 12\n",
        "\n",
        "# scatter matrix plotting\n",
        "from pandas.plotting import scatter_matrix\n",
        "\n",
        "# enable advanced plots\n",
        "import seaborn as sns\n",
        "\n",
        "# import sklearn libraries\n",
        "\n",
        "\n",
        "# feature extraction and decomposition\n",
        "from sklearn.feature_extraction.text import TfidfVectorizer\n",
        "from sklearn.feature_extraction.text import CountVectorizer\n",
        "from sklearn.decomposition import NMF\n",
        "\n",
        "# feature selection and reduction\n",
        "from sklearn.feature_selection import SelectKBest\n",
        "from sklearn.feature_selection import chi2\n",
        "from sklearn.decomposition import PCA\n",
        "# feature clustering\n",
        "from sklearn.cluster import KMeans\n",
        "\n",
        "# pipeline processing\n",
        "from sklearn.pipeline import Pipeline\n",
        "from sklearn.preprocessing import OrdinalEncoder\n",
        "from sklearn.preprocessing import OneHotEncoder\n",
        "from sklearn.preprocessing import StandardScaler\n",
        "from sklearn.impute import SimpleImputer\n",
        "from sklearn.pipeline import FeatureUnion\n",
        "from sklearn.base import BaseEstimator, TransformerMixin\n",
        "\n",
        "# data splitting\n",
        "from sklearn.model_selection import train_test_split\n",
        "\n",
        "# classifier models\n",
        "from sklearn.linear_model import LogisticRegression\n",
        "from sklearn.neighbors import KNeighborsClassifier\n",
        "from sklearn.ensemble import RandomForestClassifier\n",
        "from sklearn.model_selection import GridSearchCV\n",
        "from sklearn.tree import DecisionTreeClassifier\n",
        "from sklearn.ensemble import AdaBoostClassifier\n",
        "from sklearn.ensemble import VotingClassifier\n",
        "\n",
        "from sklearn.compose import ColumnTransformer\n",
        "\n",
        "# regression models\n",
        "from sklearn.linear_model import LinearRegression\n",
        "from sklearn.linear_model import LogisticRegression\n",
        "from sklearn.linear_model import Ridge\n",
        "from sklearn.linear_model import Lasso\n",
        "from sklearn.linear_model import ElasticNet\n",
        "\n",
        "# model evaluation\n",
        "from sklearn.model_selection import cross_val_predict\n",
        "from sklearn.model_selection import cross_val_score\n",
        "from sklearn.metrics import classification_report\n",
        "from sklearn.metrics import confusion_matrix\n",
        "from sklearn.metrics import classification_report \n",
        "from sklearn.metrics import precision_score, recall_score\n",
        "from sklearn.metrics import precision_recall_curve\n",
        "from sklearn.metrics import roc_curve\n",
        "from sklearn.metrics import roc_auc_score\n",
        "from sklearn.metrics import accuracy_score\n",
        "from sklearn.metrics import mean_squared_error"
      ],
      "execution_count": 0,
      "outputs": []
    },
    {
      "cell_type": "code",
      "metadata": {
        "id": "a02ynE3r-vO3",
        "colab_type": "code",
        "colab": {}
      },
      "source": [
        "# ensure full display for dataframe content\n",
        "pd.set_option('display.max_rows', 100)\n",
        "pd.set_option('display.max_columns', 100)\n",
        "pd.set_option('precision', 5)\n",
        "pd.set_option('large_repr', 'truncate')\n",
        "pd.set_option('display.max_colwidth', -1)\n",
        "pd.set_option('colheader_justify', 'left')"
      ],
      "execution_count": 0,
      "outputs": []
    },
    {
      "cell_type": "code",
      "metadata": {
        "id": "zFO7kIK__KCA",
        "colab_type": "code",
        "colab": {}
      },
      "source": [
        "# suppress warnings\n",
        "import warnings\n",
        "warnings.filterwarnings('ignore')"
      ],
      "execution_count": 0,
      "outputs": []
    },
    {
      "cell_type": "markdown",
      "metadata": {
        "id": "aCjJal9M-thu",
        "colab_type": "text"
      },
      "source": [
        "## 1. Get the data\n",
        "\n",
        "There are 3 seperate CSV files. We will load them one by one from google drive."
      ]
    },
    {
      "cell_type": "code",
      "metadata": {
        "id": "5XehaWmyZpqO",
        "colab_type": "code",
        "colab": {}
      },
      "source": [
        "# Code to read csv file into Colaboratory:\n",
        "!pip install -U -q PyDrive\n",
        "from pydrive.auth import GoogleAuth\n",
        "from pydrive.drive import GoogleDrive\n",
        "from google.colab import auth\n",
        "from oauth2client.client import GoogleCredentials\n",
        "\n",
        "# Authenticate and create the PyDrive client.\n",
        "auth.authenticate_user()\n",
        "gauth = GoogleAuth()\n",
        "gauth.credentials = GoogleCredentials.get_application_default()\n",
        "drive = GoogleDrive(gauth)"
      ],
      "execution_count": 0,
      "outputs": []
    },
    {
      "cell_type": "markdown",
      "metadata": {
        "id": "FtLf7o-PDEQU",
        "colab_type": "text"
      },
      "source": [
        "**Loading 'flights.csv'**"
      ]
    },
    {
      "cell_type": "code",
      "metadata": {
        "id": "omrsZ6yZIjOf",
        "colab_type": "code",
        "colab": {}
      },
      "source": [
        "link_flights = 'https://drive.google.com/open?id=1y6fJQfLJ5o7bwbDZkX09m-shhoq56QB8' # The shareable link"
      ],
      "execution_count": 0,
      "outputs": []
    },
    {
      "cell_type": "code",
      "metadata": {
        "id": "ICdaaDCkJ7GS",
        "colab_type": "code",
        "outputId": "7e9c655c-eb74-4f2b-d7a6-770c48b3981c",
        "colab": {
          "base_uri": "https://localhost:8080/",
          "height": 34
        }
      },
      "source": [
        "fluff, id = link_flights.split('=')\n",
        "print (id) # Verify that you have everything after '='"
      ],
      "execution_count": 0,
      "outputs": [
        {
          "output_type": "stream",
          "text": [
            "1y6fJQfLJ5o7bwbDZkX09m-shhoq56QB8\n"
          ],
          "name": "stdout"
        }
      ]
    },
    {
      "cell_type": "code",
      "metadata": {
        "id": "pE796QUAJ7MC",
        "colab_type": "code",
        "colab": {}
      },
      "source": [
        "downloaded = drive.CreateFile({'id':id}) \n",
        "downloaded.GetContentFile('flights.csv')  \n",
        "flights_df = pd.read_csv('flights.csv')  # flights.csv Dataset is now stored in a Pandas Dataframe"
      ],
      "execution_count": 0,
      "outputs": []
    },
    {
      "cell_type": "markdown",
      "metadata": {
        "id": "AdQfGpQ3C-Je",
        "colab_type": "text"
      },
      "source": [
        "**Loading 'airlines.csv'**"
      ]
    },
    {
      "cell_type": "code",
      "metadata": {
        "id": "JA9x-XwxaQcf",
        "colab_type": "code",
        "colab": {}
      },
      "source": [
        "link_airlines = 'https://drive.google.com/open?id=1lJlVAUqyYcH8eRnnBgc7MEtGJ-Tqq-bh' # The shareable link"
      ],
      "execution_count": 0,
      "outputs": []
    },
    {
      "cell_type": "code",
      "metadata": {
        "id": "Ij9h3OXNaQjC",
        "colab_type": "code",
        "outputId": "f6ea6518-5920-44a4-b0df-cc83396ab794",
        "colab": {
          "base_uri": "https://localhost:8080/",
          "height": 34
        }
      },
      "source": [
        "fluff, id = link_airlines.split('=')\n",
        "print (id) # Verify that you have everything after '='"
      ],
      "execution_count": 0,
      "outputs": [
        {
          "output_type": "stream",
          "text": [
            "1lJlVAUqyYcH8eRnnBgc7MEtGJ-Tqq-bh\n"
          ],
          "name": "stdout"
        }
      ]
    },
    {
      "cell_type": "code",
      "metadata": {
        "id": "sujbJWe0ZzQ9",
        "colab_type": "code",
        "colab": {}
      },
      "source": [
        "import pandas as pd\n",
        "downloaded = drive.CreateFile({'id':id}) \n",
        "downloaded.GetContentFile('airlines.csv')  \n",
        "airlines_df = pd.read_csv('airlines.csv')  # airlines.csv dataset is now stored in a Pandas Dataframe"
      ],
      "execution_count": 0,
      "outputs": []
    },
    {
      "cell_type": "markdown",
      "metadata": {
        "id": "Sd4G7X27DaXI",
        "colab_type": "text"
      },
      "source": [
        "**Loading 'airports.csv'**"
      ]
    },
    {
      "cell_type": "code",
      "metadata": {
        "id": "l5gkGutseW0v",
        "colab_type": "code",
        "colab": {}
      },
      "source": [
        "link_airports = 'https://drive.google.com/open?id=1xY7VJRQQbacbufZZG11GGNOJ1dmnuHLa' # The shareable link"
      ],
      "execution_count": 0,
      "outputs": []
    },
    {
      "cell_type": "code",
      "metadata": {
        "id": "zsp2bbZsIX6z",
        "colab_type": "code",
        "outputId": "ea8ba161-c032-4af5-9c18-c053c2e7c487",
        "colab": {
          "base_uri": "https://localhost:8080/",
          "height": 34
        }
      },
      "source": [
        "fluff, id = link_airports.split('=')\n",
        "print (id) # Verify that you have everything after '='"
      ],
      "execution_count": 0,
      "outputs": [
        {
          "output_type": "stream",
          "text": [
            "1xY7VJRQQbacbufZZG11GGNOJ1dmnuHLa\n"
          ],
          "name": "stdout"
        }
      ]
    },
    {
      "cell_type": "code",
      "metadata": {
        "id": "5SxT1ROxIe32",
        "colab_type": "code",
        "colab": {}
      },
      "source": [
        "downloaded = drive.CreateFile({'id':id}) \n",
        "downloaded.GetContentFile('airports.csv')  \n",
        "airports_df = pd.read_csv('airports.csv') # airports.csv dataset is now stored in a Pandas Dataframe"
      ],
      "execution_count": 0,
      "outputs": []
    },
    {
      "cell_type": "markdown",
      "metadata": {
        "id": "kOZR2GDKGj6S",
        "colab_type": "text"
      },
      "source": [
        "## 3. Explore the data"
      ]
    },
    {
      "cell_type": "code",
      "metadata": {
        "id": "MxrJBFt_G5U3",
        "colab_type": "code",
        "outputId": "05c315a6-c665-4a02-d34d-17ea07529f40",
        "colab": {
          "base_uri": "https://localhost:8080/",
          "height": 215
        }
      },
      "source": [
        "flights_df.head()"
      ],
      "execution_count": 0,
      "outputs": [
        {
          "output_type": "execute_result",
          "data": {
            "text/html": [
              "<div>\n",
              "<style scoped>\n",
              "    .dataframe tbody tr th:only-of-type {\n",
              "        vertical-align: middle;\n",
              "    }\n",
              "\n",
              "    .dataframe tbody tr th {\n",
              "        vertical-align: top;\n",
              "    }\n",
              "\n",
              "    .dataframe thead th {\n",
              "        text-align: right;\n",
              "    }\n",
              "</style>\n",
              "<table border=\"1\" class=\"dataframe\">\n",
              "  <thead>\n",
              "    <tr style=\"text-align: left;\">\n",
              "      <th></th>\n",
              "      <th>YEAR</th>\n",
              "      <th>MONTH</th>\n",
              "      <th>DAY</th>\n",
              "      <th>DAY_OF_WEEK</th>\n",
              "      <th>AIRLINE</th>\n",
              "      <th>FLIGHT_NUMBER</th>\n",
              "      <th>TAIL_NUMBER</th>\n",
              "      <th>ORIGIN_AIRPORT</th>\n",
              "      <th>DESTINATION_AIRPORT</th>\n",
              "      <th>SCHEDULED_DEPARTURE</th>\n",
              "      <th>DEPARTURE_TIME</th>\n",
              "      <th>DEPARTURE_DELAY</th>\n",
              "      <th>TAXI_OUT</th>\n",
              "      <th>WHEELS_OFF</th>\n",
              "      <th>SCHEDULED_TIME</th>\n",
              "      <th>ELAPSED_TIME</th>\n",
              "      <th>AIR_TIME</th>\n",
              "      <th>DISTANCE</th>\n",
              "      <th>WHEELS_ON</th>\n",
              "      <th>TAXI_IN</th>\n",
              "      <th>SCHEDULED_ARRIVAL</th>\n",
              "      <th>ARRIVAL_TIME</th>\n",
              "      <th>ARRIVAL_DELAY</th>\n",
              "      <th>DIVERTED</th>\n",
              "      <th>CANCELLED</th>\n",
              "      <th>CANCELLATION_REASON</th>\n",
              "      <th>AIR_SYSTEM_DELAY</th>\n",
              "      <th>SECURITY_DELAY</th>\n",
              "      <th>AIRLINE_DELAY</th>\n",
              "      <th>LATE_AIRCRAFT_DELAY</th>\n",
              "      <th>WEATHER_DELAY</th>\n",
              "    </tr>\n",
              "  </thead>\n",
              "  <tbody>\n",
              "    <tr>\n",
              "      <th>0</th>\n",
              "      <td>2015</td>\n",
              "      <td>1</td>\n",
              "      <td>1</td>\n",
              "      <td>4</td>\n",
              "      <td>AS</td>\n",
              "      <td>98</td>\n",
              "      <td>N407AS</td>\n",
              "      <td>ANC</td>\n",
              "      <td>SEA</td>\n",
              "      <td>5</td>\n",
              "      <td>2354.0</td>\n",
              "      <td>-11.0</td>\n",
              "      <td>21.0</td>\n",
              "      <td>15.0</td>\n",
              "      <td>205.0</td>\n",
              "      <td>194.0</td>\n",
              "      <td>169.0</td>\n",
              "      <td>1448</td>\n",
              "      <td>404.0</td>\n",
              "      <td>4.0</td>\n",
              "      <td>430</td>\n",
              "      <td>408.0</td>\n",
              "      <td>-22.0</td>\n",
              "      <td>0</td>\n",
              "      <td>0</td>\n",
              "      <td>NaN</td>\n",
              "      <td>NaN</td>\n",
              "      <td>NaN</td>\n",
              "      <td>NaN</td>\n",
              "      <td>NaN</td>\n",
              "      <td>NaN</td>\n",
              "    </tr>\n",
              "    <tr>\n",
              "      <th>1</th>\n",
              "      <td>2015</td>\n",
              "      <td>1</td>\n",
              "      <td>1</td>\n",
              "      <td>4</td>\n",
              "      <td>AA</td>\n",
              "      <td>2336</td>\n",
              "      <td>N3KUAA</td>\n",
              "      <td>LAX</td>\n",
              "      <td>PBI</td>\n",
              "      <td>10</td>\n",
              "      <td>2.0</td>\n",
              "      <td>-8.0</td>\n",
              "      <td>12.0</td>\n",
              "      <td>14.0</td>\n",
              "      <td>280.0</td>\n",
              "      <td>279.0</td>\n",
              "      <td>263.0</td>\n",
              "      <td>2330</td>\n",
              "      <td>737.0</td>\n",
              "      <td>4.0</td>\n",
              "      <td>750</td>\n",
              "      <td>741.0</td>\n",
              "      <td>-9.0</td>\n",
              "      <td>0</td>\n",
              "      <td>0</td>\n",
              "      <td>NaN</td>\n",
              "      <td>NaN</td>\n",
              "      <td>NaN</td>\n",
              "      <td>NaN</td>\n",
              "      <td>NaN</td>\n",
              "      <td>NaN</td>\n",
              "    </tr>\n",
              "    <tr>\n",
              "      <th>2</th>\n",
              "      <td>2015</td>\n",
              "      <td>1</td>\n",
              "      <td>1</td>\n",
              "      <td>4</td>\n",
              "      <td>US</td>\n",
              "      <td>840</td>\n",
              "      <td>N171US</td>\n",
              "      <td>SFO</td>\n",
              "      <td>CLT</td>\n",
              "      <td>20</td>\n",
              "      <td>18.0</td>\n",
              "      <td>-2.0</td>\n",
              "      <td>16.0</td>\n",
              "      <td>34.0</td>\n",
              "      <td>286.0</td>\n",
              "      <td>293.0</td>\n",
              "      <td>266.0</td>\n",
              "      <td>2296</td>\n",
              "      <td>800.0</td>\n",
              "      <td>11.0</td>\n",
              "      <td>806</td>\n",
              "      <td>811.0</td>\n",
              "      <td>5.0</td>\n",
              "      <td>0</td>\n",
              "      <td>0</td>\n",
              "      <td>NaN</td>\n",
              "      <td>NaN</td>\n",
              "      <td>NaN</td>\n",
              "      <td>NaN</td>\n",
              "      <td>NaN</td>\n",
              "      <td>NaN</td>\n",
              "    </tr>\n",
              "    <tr>\n",
              "      <th>3</th>\n",
              "      <td>2015</td>\n",
              "      <td>1</td>\n",
              "      <td>1</td>\n",
              "      <td>4</td>\n",
              "      <td>AA</td>\n",
              "      <td>258</td>\n",
              "      <td>N3HYAA</td>\n",
              "      <td>LAX</td>\n",
              "      <td>MIA</td>\n",
              "      <td>20</td>\n",
              "      <td>15.0</td>\n",
              "      <td>-5.0</td>\n",
              "      <td>15.0</td>\n",
              "      <td>30.0</td>\n",
              "      <td>285.0</td>\n",
              "      <td>281.0</td>\n",
              "      <td>258.0</td>\n",
              "      <td>2342</td>\n",
              "      <td>748.0</td>\n",
              "      <td>8.0</td>\n",
              "      <td>805</td>\n",
              "      <td>756.0</td>\n",
              "      <td>-9.0</td>\n",
              "      <td>0</td>\n",
              "      <td>0</td>\n",
              "      <td>NaN</td>\n",
              "      <td>NaN</td>\n",
              "      <td>NaN</td>\n",
              "      <td>NaN</td>\n",
              "      <td>NaN</td>\n",
              "      <td>NaN</td>\n",
              "    </tr>\n",
              "    <tr>\n",
              "      <th>4</th>\n",
              "      <td>2015</td>\n",
              "      <td>1</td>\n",
              "      <td>1</td>\n",
              "      <td>4</td>\n",
              "      <td>AS</td>\n",
              "      <td>135</td>\n",
              "      <td>N527AS</td>\n",
              "      <td>SEA</td>\n",
              "      <td>ANC</td>\n",
              "      <td>25</td>\n",
              "      <td>24.0</td>\n",
              "      <td>-1.0</td>\n",
              "      <td>11.0</td>\n",
              "      <td>35.0</td>\n",
              "      <td>235.0</td>\n",
              "      <td>215.0</td>\n",
              "      <td>199.0</td>\n",
              "      <td>1448</td>\n",
              "      <td>254.0</td>\n",
              "      <td>5.0</td>\n",
              "      <td>320</td>\n",
              "      <td>259.0</td>\n",
              "      <td>-21.0</td>\n",
              "      <td>0</td>\n",
              "      <td>0</td>\n",
              "      <td>NaN</td>\n",
              "      <td>NaN</td>\n",
              "      <td>NaN</td>\n",
              "      <td>NaN</td>\n",
              "      <td>NaN</td>\n",
              "      <td>NaN</td>\n",
              "    </tr>\n",
              "  </tbody>\n",
              "</table>\n",
              "</div>"
            ],
            "text/plain": [
              "   YEAR  MONTH  DAY  DAY_OF_WEEK AIRLINE  FLIGHT_NUMBER TAIL_NUMBER  \\\n",
              "0  2015  1      1    4            AS      98             N407AS       \n",
              "1  2015  1      1    4            AA      2336           N3KUAA       \n",
              "2  2015  1      1    4            US      840            N171US       \n",
              "3  2015  1      1    4            AA      258            N3HYAA       \n",
              "4  2015  1      1    4            AS      135            N527AS       \n",
              "\n",
              "  ORIGIN_AIRPORT DESTINATION_AIRPORT  SCHEDULED_DEPARTURE  DEPARTURE_TIME  \\\n",
              "0  ANC            SEA                 5                    2354.0           \n",
              "1  LAX            PBI                 10                   2.0              \n",
              "2  SFO            CLT                 20                   18.0             \n",
              "3  LAX            MIA                 20                   15.0             \n",
              "4  SEA            ANC                 25                   24.0             \n",
              "\n",
              "   DEPARTURE_DELAY  TAXI_OUT  WHEELS_OFF  SCHEDULED_TIME  ELAPSED_TIME  \\\n",
              "0 -11.0             21.0      15.0        205.0           194.0          \n",
              "1 -8.0              12.0      14.0        280.0           279.0          \n",
              "2 -2.0              16.0      34.0        286.0           293.0          \n",
              "3 -5.0              15.0      30.0        285.0           281.0          \n",
              "4 -1.0              11.0      35.0        235.0           215.0          \n",
              "\n",
              "   AIR_TIME  DISTANCE  WHEELS_ON  TAXI_IN  SCHEDULED_ARRIVAL  ARRIVAL_TIME  \\\n",
              "0  169.0     1448      404.0      4.0      430                408.0          \n",
              "1  263.0     2330      737.0      4.0      750                741.0          \n",
              "2  266.0     2296      800.0      11.0     806                811.0          \n",
              "3  258.0     2342      748.0      8.0      805                756.0          \n",
              "4  199.0     1448      254.0      5.0      320                259.0          \n",
              "\n",
              "   ARRIVAL_DELAY  DIVERTED  CANCELLED CANCELLATION_REASON  AIR_SYSTEM_DELAY  \\\n",
              "0 -22.0           0         0          NaN                NaN                 \n",
              "1 -9.0            0         0          NaN                NaN                 \n",
              "2  5.0            0         0          NaN                NaN                 \n",
              "3 -9.0            0         0          NaN                NaN                 \n",
              "4 -21.0           0         0          NaN                NaN                 \n",
              "\n",
              "   SECURITY_DELAY  AIRLINE_DELAY  LATE_AIRCRAFT_DELAY  WEATHER_DELAY  \n",
              "0 NaN             NaN            NaN                  NaN             \n",
              "1 NaN             NaN            NaN                  NaN             \n",
              "2 NaN             NaN            NaN                  NaN             \n",
              "3 NaN             NaN            NaN                  NaN             \n",
              "4 NaN             NaN            NaN                  NaN             "
            ]
          },
          "metadata": {
            "tags": []
          },
          "execution_count": 15
        }
      ]
    },
    {
      "cell_type": "code",
      "metadata": {
        "id": "4oIOfh0ZC-fw",
        "colab_type": "code",
        "outputId": "96d79048-0769-4676-80a7-a4e41dab326b",
        "colab": {
          "base_uri": "https://localhost:8080/",
          "height": 34
        }
      },
      "source": [
        "print (\"The shape of flights dataset is\", flights_df.shape)"
      ],
      "execution_count": 0,
      "outputs": [
        {
          "output_type": "stream",
          "text": [
            "The shape of flights dataset is (5819079, 31)\n"
          ],
          "name": "stdout"
        }
      ]
    },
    {
      "cell_type": "code",
      "metadata": {
        "id": "PymBeJiDDr2A",
        "colab_type": "code",
        "outputId": "24201197-0669-4b92-8005-20e84c48c684",
        "colab": {
          "base_uri": "https://localhost:8080/",
          "height": 650
        }
      },
      "source": [
        "flights_df.info()"
      ],
      "execution_count": 0,
      "outputs": [
        {
          "output_type": "stream",
          "text": [
            "<class 'pandas.core.frame.DataFrame'>\n",
            "RangeIndex: 5819079 entries, 0 to 5819078\n",
            "Data columns (total 31 columns):\n",
            "YEAR                   int64\n",
            "MONTH                  int64\n",
            "DAY                    int64\n",
            "DAY_OF_WEEK            int64\n",
            "AIRLINE                object\n",
            "FLIGHT_NUMBER          int64\n",
            "TAIL_NUMBER            object\n",
            "ORIGIN_AIRPORT         object\n",
            "DESTINATION_AIRPORT    object\n",
            "SCHEDULED_DEPARTURE    int64\n",
            "DEPARTURE_TIME         float64\n",
            "DEPARTURE_DELAY        float64\n",
            "TAXI_OUT               float64\n",
            "WHEELS_OFF             float64\n",
            "SCHEDULED_TIME         float64\n",
            "ELAPSED_TIME           float64\n",
            "AIR_TIME               float64\n",
            "DISTANCE               int64\n",
            "WHEELS_ON              float64\n",
            "TAXI_IN                float64\n",
            "SCHEDULED_ARRIVAL      int64\n",
            "ARRIVAL_TIME           float64\n",
            "ARRIVAL_DELAY          float64\n",
            "DIVERTED               int64\n",
            "CANCELLED              int64\n",
            "CANCELLATION_REASON    object\n",
            "AIR_SYSTEM_DELAY       float64\n",
            "SECURITY_DELAY         float64\n",
            "AIRLINE_DELAY          float64\n",
            "LATE_AIRCRAFT_DELAY    float64\n",
            "WEATHER_DELAY          float64\n",
            "dtypes: float64(16), int64(10), object(5)\n",
            "memory usage: 1.3+ GB\n"
          ],
          "name": "stdout"
        }
      ]
    },
    {
      "cell_type": "markdown",
      "metadata": {
        "id": "ppv1AgdGIz25",
        "colab_type": "text"
      },
      "source": [
        "Each entry of the 'flights.csv' file corresponds to a flight and we see that more than 5,800,000 flights have been recorded in 2015. These flights are described according to 31 variables. A description of these variables can be found here and we briefly recall the meaning of the variables that will be used in this notebook:\n",
        "\n",
        "YEAR, MONTH, DAY, DAY_OF_WEEK: dates of the flight \n",
        "AIRLINE: An identification number assigned by US DOT to identify a unique airline \n",
        "\n",
        "ORIGIN_AIRPORT and DESTINATION_AIRPORT: code attributed by IATA to identify the airports \n",
        "\n",
        "SCHEDULED_DEPARTURE and SCHEDULED_ARRIVAL : scheduled times of take-off and landing \n",
        "\n",
        "DEPARTURE_TIME and ARRIVAL_TIME: real times at which take-off and landing took place \n",
        "\n",
        "DEPARTURE_DELAY and ARRIVAL_DELAY: difference (in minutes) between planned and real times \n",
        "\n",
        "DISTANCE: distance (in miles) \n",
        "\n",
        "An additional file of this dataset, the airports.csv file, gives a more exhaustive description of the airports:"
      ]
    },
    {
      "cell_type": "code",
      "metadata": {
        "id": "y4nVxAgOG5YX",
        "colab_type": "code",
        "outputId": "15d59aba-1551-4702-cf7f-b412217cd0d6",
        "colab": {
          "base_uri": "https://localhost:8080/",
          "height": 195
        }
      },
      "source": [
        "airlines_df.head()"
      ],
      "execution_count": 0,
      "outputs": [
        {
          "output_type": "execute_result",
          "data": {
            "text/html": [
              "<div>\n",
              "<style scoped>\n",
              "    .dataframe tbody tr th:only-of-type {\n",
              "        vertical-align: middle;\n",
              "    }\n",
              "\n",
              "    .dataframe tbody tr th {\n",
              "        vertical-align: top;\n",
              "    }\n",
              "\n",
              "    .dataframe thead th {\n",
              "        text-align: right;\n",
              "    }\n",
              "</style>\n",
              "<table border=\"1\" class=\"dataframe\">\n",
              "  <thead>\n",
              "    <tr style=\"text-align: left;\">\n",
              "      <th></th>\n",
              "      <th>IATA_CODE</th>\n",
              "      <th>AIRLINE</th>\n",
              "    </tr>\n",
              "  </thead>\n",
              "  <tbody>\n",
              "    <tr>\n",
              "      <th>0</th>\n",
              "      <td>UA</td>\n",
              "      <td>United Air Lines Inc.</td>\n",
              "    </tr>\n",
              "    <tr>\n",
              "      <th>1</th>\n",
              "      <td>AA</td>\n",
              "      <td>American Airlines Inc.</td>\n",
              "    </tr>\n",
              "    <tr>\n",
              "      <th>2</th>\n",
              "      <td>US</td>\n",
              "      <td>US Airways Inc.</td>\n",
              "    </tr>\n",
              "    <tr>\n",
              "      <th>3</th>\n",
              "      <td>F9</td>\n",
              "      <td>Frontier Airlines Inc.</td>\n",
              "    </tr>\n",
              "    <tr>\n",
              "      <th>4</th>\n",
              "      <td>B6</td>\n",
              "      <td>JetBlue Airways</td>\n",
              "    </tr>\n",
              "  </tbody>\n",
              "</table>\n",
              "</div>"
            ],
            "text/plain": [
              "  IATA_CODE AIRLINE                \n",
              "0  UA        United Air Lines Inc. \n",
              "1  AA        American Airlines Inc.\n",
              "2  US        US Airways Inc.       \n",
              "3  F9        Frontier Airlines Inc.\n",
              "4  B6        JetBlue Airways       "
            ]
          },
          "metadata": {
            "tags": []
          },
          "execution_count": 18
        }
      ]
    },
    {
      "cell_type": "code",
      "metadata": {
        "id": "xM1xKqhUDlPf",
        "colab_type": "code",
        "outputId": "b6ad4776-6d32-4f1f-d454-4f2f16f66ed4",
        "colab": {
          "base_uri": "https://localhost:8080/",
          "height": 34
        }
      },
      "source": [
        "print (\"The shape of airlines dataset is\", airlines_df.shape)"
      ],
      "execution_count": 0,
      "outputs": [
        {
          "output_type": "stream",
          "text": [
            "The shape of airlines dataset is (14, 2)\n"
          ],
          "name": "stdout"
        }
      ]
    },
    {
      "cell_type": "code",
      "metadata": {
        "id": "JukRuIlcD1ee",
        "colab_type": "code",
        "outputId": "194e2fe4-6f0e-47bf-da25-df284c72bb0a",
        "colab": {
          "base_uri": "https://localhost:8080/",
          "height": 140
        }
      },
      "source": [
        "airlines_df.info()"
      ],
      "execution_count": 0,
      "outputs": [
        {
          "output_type": "stream",
          "text": [
            "<class 'pandas.core.frame.DataFrame'>\n",
            "RangeIndex: 14 entries, 0 to 13\n",
            "Data columns (total 2 columns):\n",
            "IATA_CODE    14 non-null object\n",
            "AIRLINE      14 non-null object\n",
            "dtypes: object(2)\n",
            "memory usage: 304.0+ bytes\n"
          ],
          "name": "stdout"
        }
      ]
    },
    {
      "cell_type": "code",
      "metadata": {
        "id": "FIZ39H6GG5b9",
        "colab_type": "code",
        "outputId": "7a91a1f6-e677-4fa7-8221-cf7edc16edfc",
        "colab": {
          "base_uri": "https://localhost:8080/",
          "height": 195
        }
      },
      "source": [
        "airports_df.head()"
      ],
      "execution_count": 0,
      "outputs": [
        {
          "output_type": "execute_result",
          "data": {
            "text/html": [
              "<div>\n",
              "<style scoped>\n",
              "    .dataframe tbody tr th:only-of-type {\n",
              "        vertical-align: middle;\n",
              "    }\n",
              "\n",
              "    .dataframe tbody tr th {\n",
              "        vertical-align: top;\n",
              "    }\n",
              "\n",
              "    .dataframe thead th {\n",
              "        text-align: right;\n",
              "    }\n",
              "</style>\n",
              "<table border=\"1\" class=\"dataframe\">\n",
              "  <thead>\n",
              "    <tr style=\"text-align: left;\">\n",
              "      <th></th>\n",
              "      <th>IATA_CODE</th>\n",
              "      <th>AIRPORT</th>\n",
              "      <th>CITY</th>\n",
              "      <th>STATE</th>\n",
              "      <th>COUNTRY</th>\n",
              "      <th>LATITUDE</th>\n",
              "      <th>LONGITUDE</th>\n",
              "    </tr>\n",
              "  </thead>\n",
              "  <tbody>\n",
              "    <tr>\n",
              "      <th>0</th>\n",
              "      <td>ABE</td>\n",
              "      <td>Lehigh Valley International Airport</td>\n",
              "      <td>Allentown</td>\n",
              "      <td>PA</td>\n",
              "      <td>USA</td>\n",
              "      <td>40.65236</td>\n",
              "      <td>-75.44040</td>\n",
              "    </tr>\n",
              "    <tr>\n",
              "      <th>1</th>\n",
              "      <td>ABI</td>\n",
              "      <td>Abilene Regional Airport</td>\n",
              "      <td>Abilene</td>\n",
              "      <td>TX</td>\n",
              "      <td>USA</td>\n",
              "      <td>32.41132</td>\n",
              "      <td>-99.68190</td>\n",
              "    </tr>\n",
              "    <tr>\n",
              "      <th>2</th>\n",
              "      <td>ABQ</td>\n",
              "      <td>Albuquerque International Sunport</td>\n",
              "      <td>Albuquerque</td>\n",
              "      <td>NM</td>\n",
              "      <td>USA</td>\n",
              "      <td>35.04022</td>\n",
              "      <td>-106.60919</td>\n",
              "    </tr>\n",
              "    <tr>\n",
              "      <th>3</th>\n",
              "      <td>ABR</td>\n",
              "      <td>Aberdeen Regional Airport</td>\n",
              "      <td>Aberdeen</td>\n",
              "      <td>SD</td>\n",
              "      <td>USA</td>\n",
              "      <td>45.44906</td>\n",
              "      <td>-98.42183</td>\n",
              "    </tr>\n",
              "    <tr>\n",
              "      <th>4</th>\n",
              "      <td>ABY</td>\n",
              "      <td>Southwest Georgia Regional Airport</td>\n",
              "      <td>Albany</td>\n",
              "      <td>GA</td>\n",
              "      <td>USA</td>\n",
              "      <td>31.53552</td>\n",
              "      <td>-84.19447</td>\n",
              "    </tr>\n",
              "  </tbody>\n",
              "</table>\n",
              "</div>"
            ],
            "text/plain": [
              "  IATA_CODE AIRPORT                              CITY         STATE COUNTRY  \\\n",
              "0  ABE       Lehigh Valley International Airport  Allentown    PA    USA      \n",
              "1  ABI       Abilene Regional Airport             Abilene      TX    USA      \n",
              "2  ABQ       Albuquerque International Sunport    Albuquerque  NM    USA      \n",
              "3  ABR       Aberdeen Regional Airport            Aberdeen     SD    USA      \n",
              "4  ABY       Southwest Georgia Regional Airport   Albany       GA    USA      \n",
              "\n",
              "   LATITUDE  LONGITUDE  \n",
              "0  40.65236 -75.44040   \n",
              "1  32.41132 -99.68190   \n",
              "2  35.04022 -106.60919  \n",
              "3  45.44906 -98.42183   \n",
              "4  31.53552 -84.19447   "
            ]
          },
          "metadata": {
            "tags": []
          },
          "execution_count": 21
        }
      ]
    },
    {
      "cell_type": "code",
      "metadata": {
        "id": "1saK9lILG5fK",
        "colab_type": "code",
        "outputId": "ae8347e8-4bb0-40df-db33-31a00b68e694",
        "colab": {
          "base_uri": "https://localhost:8080/",
          "height": 34
        }
      },
      "source": [
        "print (\"The shape of airports dataset is\", airports_df.shape)"
      ],
      "execution_count": 0,
      "outputs": [
        {
          "output_type": "stream",
          "text": [
            "The shape of airports dataset is (322, 7)\n"
          ],
          "name": "stdout"
        }
      ]
    },
    {
      "cell_type": "code",
      "metadata": {
        "id": "UCVGFqAIG5i5",
        "colab_type": "code",
        "outputId": "5e9f8b55-8574-4a62-975c-3a501f9eac42",
        "colab": {
          "base_uri": "https://localhost:8080/",
          "height": 228
        }
      },
      "source": [
        "airports_df.info()"
      ],
      "execution_count": 0,
      "outputs": [
        {
          "output_type": "stream",
          "text": [
            "<class 'pandas.core.frame.DataFrame'>\n",
            "RangeIndex: 322 entries, 0 to 321\n",
            "Data columns (total 7 columns):\n",
            "IATA_CODE    322 non-null object\n",
            "AIRPORT      322 non-null object\n",
            "CITY         322 non-null object\n",
            "STATE        322 non-null object\n",
            "COUNTRY      322 non-null object\n",
            "LATITUDE     319 non-null float64\n",
            "LONGITUDE    319 non-null float64\n",
            "dtypes: float64(2), object(5)\n",
            "memory usage: 17.7+ KB\n"
          ],
          "name": "stdout"
        }
      ]
    },
    {
      "cell_type": "code",
      "metadata": {
        "id": "jr_dvgjCNP99",
        "colab_type": "code",
        "outputId": "5f2eb234-c680-4679-f8dc-cf690fd8b585",
        "colab": {
          "base_uri": "https://localhost:8080/",
          "height": 965
        }
      },
      "source": [
        "missing_df = flights_df.isnull().sum(axis=0).reset_index()\n",
        "missing_df.columns = ['variable', 'missing values']\n",
        "missing_df['filling factor (%)']=(flights_df.shape[0]-missing_df['missing values'])/flights_df.shape[0]*100\n",
        "missing_df.sort_values('filling factor (%)').reset_index(drop = True)"
      ],
      "execution_count": 0,
      "outputs": [
        {
          "output_type": "execute_result",
          "data": {
            "text/html": [
              "<div>\n",
              "<style scoped>\n",
              "    .dataframe tbody tr th:only-of-type {\n",
              "        vertical-align: middle;\n",
              "    }\n",
              "\n",
              "    .dataframe tbody tr th {\n",
              "        vertical-align: top;\n",
              "    }\n",
              "\n",
              "    .dataframe thead th {\n",
              "        text-align: right;\n",
              "    }\n",
              "</style>\n",
              "<table border=\"1\" class=\"dataframe\">\n",
              "  <thead>\n",
              "    <tr style=\"text-align: left;\">\n",
              "      <th></th>\n",
              "      <th>variable</th>\n",
              "      <th>missing values</th>\n",
              "      <th>filling factor (%)</th>\n",
              "    </tr>\n",
              "  </thead>\n",
              "  <tbody>\n",
              "    <tr>\n",
              "      <th>0</th>\n",
              "      <td>CANCELLATION_REASON</td>\n",
              "      <td>5729195</td>\n",
              "      <td>1.54464</td>\n",
              "    </tr>\n",
              "    <tr>\n",
              "      <th>1</th>\n",
              "      <td>WEATHER_DELAY</td>\n",
              "      <td>4755640</td>\n",
              "      <td>18.27504</td>\n",
              "    </tr>\n",
              "    <tr>\n",
              "      <th>2</th>\n",
              "      <td>AIRLINE_DELAY</td>\n",
              "      <td>4755640</td>\n",
              "      <td>18.27504</td>\n",
              "    </tr>\n",
              "    <tr>\n",
              "      <th>3</th>\n",
              "      <td>SECURITY_DELAY</td>\n",
              "      <td>4755640</td>\n",
              "      <td>18.27504</td>\n",
              "    </tr>\n",
              "    <tr>\n",
              "      <th>4</th>\n",
              "      <td>AIR_SYSTEM_DELAY</td>\n",
              "      <td>4755640</td>\n",
              "      <td>18.27504</td>\n",
              "    </tr>\n",
              "    <tr>\n",
              "      <th>5</th>\n",
              "      <td>LATE_AIRCRAFT_DELAY</td>\n",
              "      <td>4755640</td>\n",
              "      <td>18.27504</td>\n",
              "    </tr>\n",
              "    <tr>\n",
              "      <th>6</th>\n",
              "      <td>ARRIVAL_DELAY</td>\n",
              "      <td>105071</td>\n",
              "      <td>98.19437</td>\n",
              "    </tr>\n",
              "    <tr>\n",
              "      <th>7</th>\n",
              "      <td>AIR_TIME</td>\n",
              "      <td>105071</td>\n",
              "      <td>98.19437</td>\n",
              "    </tr>\n",
              "    <tr>\n",
              "      <th>8</th>\n",
              "      <td>ELAPSED_TIME</td>\n",
              "      <td>105071</td>\n",
              "      <td>98.19437</td>\n",
              "    </tr>\n",
              "    <tr>\n",
              "      <th>9</th>\n",
              "      <td>TAXI_IN</td>\n",
              "      <td>92513</td>\n",
              "      <td>98.41018</td>\n",
              "    </tr>\n",
              "    <tr>\n",
              "      <th>10</th>\n",
              "      <td>WHEELS_ON</td>\n",
              "      <td>92513</td>\n",
              "      <td>98.41018</td>\n",
              "    </tr>\n",
              "    <tr>\n",
              "      <th>11</th>\n",
              "      <td>ARRIVAL_TIME</td>\n",
              "      <td>92513</td>\n",
              "      <td>98.41018</td>\n",
              "    </tr>\n",
              "    <tr>\n",
              "      <th>12</th>\n",
              "      <td>TAXI_OUT</td>\n",
              "      <td>89047</td>\n",
              "      <td>98.46974</td>\n",
              "    </tr>\n",
              "    <tr>\n",
              "      <th>13</th>\n",
              "      <td>WHEELS_OFF</td>\n",
              "      <td>89047</td>\n",
              "      <td>98.46974</td>\n",
              "    </tr>\n",
              "    <tr>\n",
              "      <th>14</th>\n",
              "      <td>DEPARTURE_TIME</td>\n",
              "      <td>86153</td>\n",
              "      <td>98.51947</td>\n",
              "    </tr>\n",
              "    <tr>\n",
              "      <th>15</th>\n",
              "      <td>DEPARTURE_DELAY</td>\n",
              "      <td>86153</td>\n",
              "      <td>98.51947</td>\n",
              "    </tr>\n",
              "    <tr>\n",
              "      <th>16</th>\n",
              "      <td>TAIL_NUMBER</td>\n",
              "      <td>14721</td>\n",
              "      <td>99.74702</td>\n",
              "    </tr>\n",
              "    <tr>\n",
              "      <th>17</th>\n",
              "      <td>SCHEDULED_TIME</td>\n",
              "      <td>6</td>\n",
              "      <td>99.99990</td>\n",
              "    </tr>\n",
              "    <tr>\n",
              "      <th>18</th>\n",
              "      <td>MONTH</td>\n",
              "      <td>0</td>\n",
              "      <td>100.00000</td>\n",
              "    </tr>\n",
              "    <tr>\n",
              "      <th>19</th>\n",
              "      <td>DAY</td>\n",
              "      <td>0</td>\n",
              "      <td>100.00000</td>\n",
              "    </tr>\n",
              "    <tr>\n",
              "      <th>20</th>\n",
              "      <td>DAY_OF_WEEK</td>\n",
              "      <td>0</td>\n",
              "      <td>100.00000</td>\n",
              "    </tr>\n",
              "    <tr>\n",
              "      <th>21</th>\n",
              "      <td>AIRLINE</td>\n",
              "      <td>0</td>\n",
              "      <td>100.00000</td>\n",
              "    </tr>\n",
              "    <tr>\n",
              "      <th>22</th>\n",
              "      <td>CANCELLED</td>\n",
              "      <td>0</td>\n",
              "      <td>100.00000</td>\n",
              "    </tr>\n",
              "    <tr>\n",
              "      <th>23</th>\n",
              "      <td>SCHEDULED_DEPARTURE</td>\n",
              "      <td>0</td>\n",
              "      <td>100.00000</td>\n",
              "    </tr>\n",
              "    <tr>\n",
              "      <th>24</th>\n",
              "      <td>FLIGHT_NUMBER</td>\n",
              "      <td>0</td>\n",
              "      <td>100.00000</td>\n",
              "    </tr>\n",
              "    <tr>\n",
              "      <th>25</th>\n",
              "      <td>SCHEDULED_ARRIVAL</td>\n",
              "      <td>0</td>\n",
              "      <td>100.00000</td>\n",
              "    </tr>\n",
              "    <tr>\n",
              "      <th>26</th>\n",
              "      <td>DESTINATION_AIRPORT</td>\n",
              "      <td>0</td>\n",
              "      <td>100.00000</td>\n",
              "    </tr>\n",
              "    <tr>\n",
              "      <th>27</th>\n",
              "      <td>DISTANCE</td>\n",
              "      <td>0</td>\n",
              "      <td>100.00000</td>\n",
              "    </tr>\n",
              "    <tr>\n",
              "      <th>28</th>\n",
              "      <td>ORIGIN_AIRPORT</td>\n",
              "      <td>0</td>\n",
              "      <td>100.00000</td>\n",
              "    </tr>\n",
              "    <tr>\n",
              "      <th>29</th>\n",
              "      <td>DIVERTED</td>\n",
              "      <td>0</td>\n",
              "      <td>100.00000</td>\n",
              "    </tr>\n",
              "    <tr>\n",
              "      <th>30</th>\n",
              "      <td>YEAR</td>\n",
              "      <td>0</td>\n",
              "      <td>100.00000</td>\n",
              "    </tr>\n",
              "  </tbody>\n",
              "</table>\n",
              "</div>"
            ],
            "text/plain": [
              "   variable              missing values  filling factor (%)\n",
              "0   CANCELLATION_REASON  5729195         1.54464           \n",
              "1   WEATHER_DELAY        4755640         18.27504          \n",
              "2   AIRLINE_DELAY        4755640         18.27504          \n",
              "3   SECURITY_DELAY       4755640         18.27504          \n",
              "4   AIR_SYSTEM_DELAY     4755640         18.27504          \n",
              "5   LATE_AIRCRAFT_DELAY  4755640         18.27504          \n",
              "6   ARRIVAL_DELAY        105071          98.19437          \n",
              "7   AIR_TIME             105071          98.19437          \n",
              "8   ELAPSED_TIME         105071          98.19437          \n",
              "9   TAXI_IN              92513           98.41018          \n",
              "10  WHEELS_ON            92513           98.41018          \n",
              "11  ARRIVAL_TIME         92513           98.41018          \n",
              "12  TAXI_OUT             89047           98.46974          \n",
              "13  WHEELS_OFF           89047           98.46974          \n",
              "14  DEPARTURE_TIME       86153           98.51947          \n",
              "15  DEPARTURE_DELAY      86153           98.51947          \n",
              "16  TAIL_NUMBER          14721           99.74702          \n",
              "17  SCHEDULED_TIME       6               99.99990          \n",
              "18  MONTH                0               100.00000         \n",
              "19  DAY                  0               100.00000         \n",
              "20  DAY_OF_WEEK          0               100.00000         \n",
              "21  AIRLINE              0               100.00000         \n",
              "22  CANCELLED            0               100.00000         \n",
              "23  SCHEDULED_DEPARTURE  0               100.00000         \n",
              "24  FLIGHT_NUMBER        0               100.00000         \n",
              "25  SCHEDULED_ARRIVAL    0               100.00000         \n",
              "26  DESTINATION_AIRPORT  0               100.00000         \n",
              "27  DISTANCE             0               100.00000         \n",
              "28  ORIGIN_AIRPORT       0               100.00000         \n",
              "29  DIVERTED             0               100.00000         \n",
              "30  YEAR                 0               100.00000         "
            ]
          },
          "metadata": {
            "tags": []
          },
          "execution_count": 24
        }
      ]
    },
    {
      "cell_type": "code",
      "metadata": {
        "id": "UBpm8zTlPeJf",
        "colab_type": "code",
        "outputId": "247aa25c-f490-45ba-8784-c17731a7e65e",
        "colab": {
          "base_uri": "https://localhost:8080/",
          "height": 34
        }
      },
      "source": [
        "flights_df['YEAR'].unique()"
      ],
      "execution_count": 0,
      "outputs": [
        {
          "output_type": "execute_result",
          "data": {
            "text/plain": [
              "array([2015])"
            ]
          },
          "metadata": {
            "tags": []
          },
          "execution_count": 25
        }
      ]
    },
    {
      "cell_type": "code",
      "metadata": {
        "id": "3lvGDYGURpEk",
        "colab_type": "code",
        "outputId": "4b308394-2108-4993-a3c7-45ee4da666a5",
        "colab": {
          "base_uri": "https://localhost:8080/",
          "height": 34
        }
      },
      "source": [
        "flights_df['CANCELLATION_REASON'].count()"
      ],
      "execution_count": 0,
      "outputs": [
        {
          "output_type": "execute_result",
          "data": {
            "text/plain": [
              "89884"
            ]
          },
          "metadata": {
            "tags": []
          },
          "execution_count": 26
        }
      ]
    },
    {
      "cell_type": "code",
      "metadata": {
        "id": "aSfg90eBTslZ",
        "colab_type": "code",
        "outputId": "426a0a1a-5f5b-4573-89dc-3bbba6a3b898",
        "colab": {
          "base_uri": "https://localhost:8080/",
          "height": 580
        }
      },
      "source": [
        "flights_df[flights_df['CANCELLED']== 1].count()"
      ],
      "execution_count": 0,
      "outputs": [
        {
          "output_type": "execute_result",
          "data": {
            "text/plain": [
              "YEAR                   89884\n",
              "MONTH                  89884\n",
              "DAY                    89884\n",
              "DAY_OF_WEEK            89884\n",
              "AIRLINE                89884\n",
              "FLIGHT_NUMBER          89884\n",
              "TAIL_NUMBER            75163\n",
              "ORIGIN_AIRPORT         89884\n",
              "DESTINATION_AIRPORT    89884\n",
              "SCHEDULED_DEPARTURE    89884\n",
              "DEPARTURE_TIME         3731 \n",
              "DEPARTURE_DELAY        3731 \n",
              "TAXI_OUT               837  \n",
              "WHEELS_OFF             837  \n",
              "SCHEDULED_TIME         89879\n",
              "ELAPSED_TIME           0    \n",
              "AIR_TIME               0    \n",
              "DISTANCE               89884\n",
              "WHEELS_ON              0    \n",
              "TAXI_IN                0    \n",
              "SCHEDULED_ARRIVAL      89884\n",
              "ARRIVAL_TIME           0    \n",
              "ARRIVAL_DELAY          0    \n",
              "DIVERTED               89884\n",
              "CANCELLED              89884\n",
              "CANCELLATION_REASON    89884\n",
              "AIR_SYSTEM_DELAY       0    \n",
              "SECURITY_DELAY         0    \n",
              "AIRLINE_DELAY          0    \n",
              "LATE_AIRCRAFT_DELAY    0    \n",
              "WEATHER_DELAY          0    \n",
              "dtype: int64"
            ]
          },
          "metadata": {
            "tags": []
          },
          "execution_count": 27
        }
      ]
    },
    {
      "cell_type": "markdown",
      "metadata": {
        "id": "pewo8tBxZ8n_",
        "colab_type": "text"
      },
      "source": [
        ""
      ]
    },
    {
      "cell_type": "code",
      "metadata": {
        "id": "lVYXu4e7SOU-",
        "colab_type": "code",
        "outputId": "b711f3a2-3cb3-4b13-d5e0-500675c9d694",
        "colab": {
          "base_uri": "https://localhost:8080/",
          "height": 580
        }
      },
      "source": [
        "flights_df[flights_df['ARRIVAL_DELAY'] > 15].count()"
      ],
      "execution_count": 0,
      "outputs": [
        {
          "output_type": "execute_result",
          "data": {
            "text/plain": [
              "YEAR                   1023498\n",
              "MONTH                  1023498\n",
              "DAY                    1023498\n",
              "DAY_OF_WEEK            1023498\n",
              "AIRLINE                1023498\n",
              "FLIGHT_NUMBER          1023498\n",
              "TAIL_NUMBER            1023498\n",
              "ORIGIN_AIRPORT         1023498\n",
              "DESTINATION_AIRPORT    1023498\n",
              "SCHEDULED_DEPARTURE    1023498\n",
              "DEPARTURE_TIME         1023498\n",
              "DEPARTURE_DELAY        1023498\n",
              "TAXI_OUT               1023498\n",
              "WHEELS_OFF             1023498\n",
              "SCHEDULED_TIME         1023498\n",
              "ELAPSED_TIME           1023498\n",
              "AIR_TIME               1023498\n",
              "DISTANCE               1023498\n",
              "WHEELS_ON              1023498\n",
              "TAXI_IN                1023498\n",
              "SCHEDULED_ARRIVAL      1023498\n",
              "ARRIVAL_TIME           1023498\n",
              "ARRIVAL_DELAY          1023498\n",
              "DIVERTED               1023498\n",
              "CANCELLED              1023498\n",
              "CANCELLATION_REASON    0      \n",
              "AIR_SYSTEM_DELAY       1023498\n",
              "SECURITY_DELAY         1023498\n",
              "AIRLINE_DELAY          1023498\n",
              "LATE_AIRCRAFT_DELAY    1023498\n",
              "WEATHER_DELAY          1023498\n",
              "dtype: int64"
            ]
          },
          "metadata": {
            "tags": []
          },
          "execution_count": 28
        }
      ]
    },
    {
      "cell_type": "code",
      "metadata": {
        "id": "8fvS_UxHTeD7",
        "colab_type": "code",
        "outputId": "9216cff9-9184-4b72-c3a6-8115282b0087",
        "colab": {
          "base_uri": "https://localhost:8080/",
          "height": 52
        }
      },
      "source": [
        "flights_df['AIRLINE'].unique()"
      ],
      "execution_count": 0,
      "outputs": [
        {
          "output_type": "execute_result",
          "data": {
            "text/plain": [
              "array(['AS', 'AA', 'US', 'DL', 'NK', 'UA', 'HA', 'B6', 'OO', 'EV', 'MQ',\n",
              "       'F9', 'WN', 'VX'], dtype=object)"
            ]
          },
          "metadata": {
            "tags": []
          },
          "execution_count": 29
        }
      ]
    },
    {
      "cell_type": "code",
      "metadata": {
        "id": "t0UGPuv_l-Ta",
        "colab_type": "code",
        "outputId": "97043d36-1aa2-49b6-8c3b-28d9ab414163",
        "colab": {
          "base_uri": "https://localhost:8080/",
          "height": 1000
        }
      },
      "source": [
        "flights_df['DESTINATION_AIRPORT'].unique()"
      ],
      "execution_count": 0,
      "outputs": [
        {
          "output_type": "execute_result",
          "data": {
            "text/plain": [
              "array(['SEA', 'PBI', 'CLT', 'MIA', 'ANC', 'MSP', 'DFW', 'ATL', 'IAH',\n",
              "       'PDX', 'MCI', 'FLL', 'ORD', 'HNL', 'PHX', 'EWR', 'JFK', 'MCO',\n",
              "       'BOS', 'BDL', 'ITO', 'SFO', 'KOA', 'OGG', 'MYR', 'DTW', 'LIH',\n",
              "       'DEN', 'SJU', 'LAX', 'BWI', 'IAD', 'BQN', 'BUF', 'LGA', 'HOU',\n",
              "       'SLC', 'PHL', 'SJC', 'OAK', 'LGB', 'TPA', 'DCA', 'TTN', 'BTR',\n",
              "       'LAS', 'RSW', 'BRD', 'STL', 'RKS', 'MBS', 'SNA', 'MEI', 'MDW',\n",
              "       'SAN', 'RIC', 'AUS', 'OTZ', 'PIT', 'JAX', 'MSY', 'ONT', 'PSP',\n",
              "       'BUR', 'DAL', 'CVG', 'SMF', 'RDU', 'JMS', 'BNA', 'DSM', 'MAF',\n",
              "       'BOI', 'ELP', 'TUS', 'SCC', 'HPN', 'STT', 'MDT', 'RHI', 'SBP',\n",
              "       'MKE', 'JNU', 'CMH', 'CLD', 'KTN', 'CAK', 'CRP', 'CLE', 'GPT',\n",
              "       'SHV', 'TYS', 'IND', 'LIT', 'SAT', 'SRQ', 'TUL', 'GRK', 'PNS',\n",
              "       'BTV', 'CHS', 'DAY', 'OKC', 'SAV', 'XNA', 'COS', 'GJT', 'BZN',\n",
              "       'PUB', 'HRL', 'HDN', 'MEM', 'GEG', 'ORH', 'SYR', 'GSO', 'VPS',\n",
              "       'LAW', 'ACY', 'LBB', 'JAC', 'BIL', 'EUG', 'ASE', 'TVC', 'MTJ',\n",
              "       'CAE', 'PVD', 'HSV', 'CDC', 'YUM', 'ABQ', 'TLH', 'MLI', 'AMA',\n",
              "       'EGE', 'MOB', 'JAN', 'FWA', 'MSN', 'BIS', 'MFR', 'APN', 'BHM',\n",
              "       'OMA', 'LFT', 'GRR', 'MMH', 'CEC', 'SBA', 'RNO', 'CLL', 'LEX',\n",
              "       'LAN', 'DLH', 'SDF', 'FAT', 'SPS', 'SGF', 'CID', 'FSM', 'MGM',\n",
              "       'MFE', 'AVP', 'SJT', 'ROA', 'LRD', 'MRY', 'AGS', 'ROC', 'AEX',\n",
              "       'ISN', 'MLB', 'ORF', 'ICT', 'ECP', 'PIA', 'BPT', 'ACT', 'EYW',\n",
              "       'FSD', 'MLU', 'CHA', 'WRG', 'FNT', 'DIK', 'MHK', 'CNY', 'BRW',\n",
              "       'GRB', 'ATW', 'SAF', 'TYR', 'MKG', 'FLG', 'FCA', 'BTM', 'EVV',\n",
              "       'DRO', 'LNK', 'DBQ', 'FAR', 'OME', 'GSP', 'GUC', 'MSO', 'TXK',\n",
              "       'MOT', 'RAP', 'ISP', 'PWM', 'GGG', 'SBN', 'BFL', 'MHT', 'ROW',\n",
              "       'SIT', 'CMX', 'FAY', 'ILM', 'CMI', 'ALB', 'ABI', 'GTF', 'BMI',\n",
              "       'COU', 'HOB', 'GNV', 'SUN', 'SPI', 'PSG', 'BRO', 'AVL', 'TOL',\n",
              "       'SGU', 'GCC', 'HLN', 'CPR', 'PIH', 'BET', 'VEL', 'RDM', 'HYS',\n",
              "       'PSC', 'COD', 'INL', 'FAI', 'EKO', 'BJI', 'IDA', 'IMT', 'RST',\n",
              "       'HIB', 'ABR', 'STC', 'ACV', 'ESC', 'CIU', 'SWF', 'DAB', 'TRI',\n",
              "       'AZO', 'CRW', 'STX', 'GRI', 'CHO', 'GCK', 'PLN', 'LSE', 'SMX',\n",
              "       'RDD', 'PHF', 'LCH', 'GTR', 'LAR', 'ERI', 'PAH', 'EAU', 'LBE',\n",
              "       'BLI', 'DVL', 'CWA', 'ILG', 'OAJ', 'ABE', 'ALO', 'ABY', 'DHN',\n",
              "       'TWF', 'ADK', 'ELM', 'VLD', 'PIB', 'SUX', 'GUM', 'SCE', 'UST',\n",
              "       'BQK', 'JLN', 'LWS', 'MQT', 'EWN', 'CSG', 'PBG', 'PSE', 'IAG',\n",
              "       'YAK', 'CDV', 'OTH', 'ADQ', 'PPG', 'GFK', 'BGM', 'BGR', 'ITH',\n",
              "       'ACK', 'MVY', 'WYS', 'DLG', 'AKN', 'GST', 'HYA', '11298', '13487',\n",
              "       '13303', '11057', '13930', '10693', '14747', '12266', '12478',\n",
              "       '14057', '10397', '13198', '12173', '11618', '13204', '12402',\n",
              "       '12758', '14771', '11292', '13830', '14107', '12982', '11697',\n",
              "       '12519', '13577', '14869', '12339', '13232', '11259', '15016',\n",
              "       '12892', '12889', '10140', '10721', '15304', '14679', '14100',\n",
              "       '10732', '10821', '14831', '14843', '14570', '12191', '11433',\n",
              "       '12264', '14893', '13796', '12953', '14122', '13495', '12451',\n",
              "       '11042', '11278', '14908', '13342', '13891', '10299', '12523',\n",
              "       '12954', '14520', '12129', '10713', '10431', '11066', '10994',\n",
              "       '10423', '10792', '14683', '10800', '10551', '11193', '14307',\n",
              "       '11540', '14635', '13851', '15376', '11884', '14492', '14027',\n",
              "       '13970', '13184', '13296', '10599', '11986', '14698', '11423',\n",
              "       '13244', '14574', '12992', '13241', '12217', '13871', '12197',\n",
              "       '11003', '15919', '14524', '14689', '10529', '14576', '11995',\n",
              "       '11267', '12819', '14633', '11996', '13256', '13158', '12448',\n",
              "       '10781', '13422', '16218', '15370', '10868', '14730', '13931',\n",
              "       '13485', '14986', '15024', '11823', '11721', '14685', '10257',\n",
              "       '12206', '12255', '12951', '14709', '14321', '12391', '14794',\n",
              "       '10874', '12278', '11638', '10372', '11122', '14457', '15096',\n",
              "       '12896', '11109', '10279', '11481', '15412', '14814', '11641',\n",
              "       '10980', '12945', '10990', '10157', '13076', '13230', '15295',\n",
              "       '10918', '13933', '11953', '10135', '14262', '11067', '13277',\n",
              "       '11603', '10561', '11612', '15624', '11977', '15380', '13367',\n",
              "       '14193', '10333', '11778', '11140', '14783', '10136', '14842',\n",
              "       '11049', '14696', '11695', '11637', '15401', '14674', '13061',\n",
              "       '10685', '11982', '10469', '11921', '14108', '11413', '12891',\n",
              "       '11905', '14960', '15411', '10155', '10747', '10728', '13290',\n",
              "       '13433', '10208', '11973', '15323', '10849', '13360', '13795',\n",
              "       '14952', '13377', '10408', '10627', '13344', '13476', '11775',\n",
              "       '10158', '11898', '13029', '15249', '11337', '12915', '15356',\n",
              "       '13264', '11252', '10185', '11624', '12323', '15841', '10785',\n",
              "       '11146', '14098', '10434', '12389', '15991', '11315', '11150',\n",
              "       '12884', '11537', '11274', '11076', '10754', '13873', 13930, 10599,\n",
              "       11697, 12266, 14492, 11298, 14869, 14683, 11278, 15016, 13244,\n",
              "       11433, 12951, 13931, 11259, 10423, 14893, 11721, 12191, 14107,\n",
              "       14122, 14679, 13796, 11292, 13232, 12339, 14771, 14908, 13204,\n",
              "       11540, 13303, 12889, 13487, 12953, 10721, 13198, 11057, 14100,\n",
              "       15304, 14828, 12982, 14057, 10136, 11193, 11042, 12173, 11618,\n",
              "       15412, 13495, 15370, 10397, 14814, 11308, 10685, 11982, 14747,\n",
              "       14831, 13851, 12892, 13296, 11638, 14321, 11884, 12992, 14027,\n",
              "       15919, 12007, 13830, 10731, 14685, 12884, 10135, 11996, 12478,\n",
              "       12217, 13485, 11973, 10792, 14730, 10800, 11986, 11481, 10821,\n",
              "       10140, 10299, 14842, 10980, 12197, 10990, 12945, 10781, 11995,\n",
              "       10257, 13891, 13158, 12264, 12758, 10279, 14588, 10185, 13377,\n",
              "       14524, 10693, 12206, 15376, 12451, 11066, 11603, 14689, 11003,\n",
              "       11267, 15607, 10994, 14635, 13342, 14576, 15096, 14986, 12278,\n",
              "       12448, 10146, 14262, 10713, 14307, 15024, 10157, 13422, 10874,\n",
              "       14570, 14843, 15070, 14193, 13486, 12003, 13127, 13264, 12177,\n",
              "       12441, 12523, 14794, 12094, 12156, 14113, 12280, 11641, 14489,\n",
              "       10849, 12896, 14256, 10561, 12954, 10620, 11097, 10779, 11122,\n",
              "       10631, 12888, 15389, 15041, 14252, 12343, 12129, 11648, 10154,\n",
              "       13577, 14457, 13076, 12898, 13029, 12389, 13871, 10529, 12402,\n",
              "       11637, 13256, 12335, 11865, 11775, 10551, 15249, 10747, 15624,\n",
              "       12391, 10208, 10926, 12819, 11423, 13367, 14952, 13277, 11980,\n",
              "       11977, 11778, 15411, 13964, 11953, 11630, 11049, 11013, 11587,\n",
              "       15380, 11823, 11252, 11111, 14698, 11624, 13795, 12915, 14108,\n",
              "       11695, 11612, 10627, 13360, 15027, 10469, 14696, 14574, 15323,\n",
              "       11203, 14633, 11337, 13241, 14098, 10408, 10155, 11146, 13061,\n",
              "       14905, 13433, 11471, 14783, 10785, 11140, 12511, 12323, 10868,\n",
              "       14960, 10431, 10268, 11447, 11067, 13290, 15048, 13541, 13476,\n",
              "       16218, 11150, 12891, 11921, 10141, 14150, 14006, 13184, 11537,\n",
              "       10434, 13230, 11617, 11525, 11898, 11109, 11867, 14711, 11577,\n",
              "       12016, 14520, 14487, 10739, 14109, 10165, 11413, 10158, 15356,\n",
              "       14709, 12255, 14543, 11274, 15841, 10577, 14674, 10170, 10333,\n",
              "       10728, 13970, 15295, 15401, 15991, 11905, 10918, 15497, 10754,\n",
              "       13344, 11503, 13459, 13873, 11315, 12519, 11076, 10581, 12265,\n",
              "       14254, 10732, 10372, 13933, 14222, 14025, 13502, '10146', '13486',\n",
              "       '12003', '13127', '12441', '12177', '12156', '14113', '14256',\n",
              "       '14489', '10620', '11097', '10779', '10631', '12888', '15389',\n",
              "       '15041', '14252', '12343', '12898', '11648', '12280', '12335',\n",
              "       '11865', '10731', '10926', '11980', '11630', '11013', '11587',\n",
              "       '11111', '13964', '15027', '11203', '15070', '14150', '11471',\n",
              "       '14905', '12511', '10268', '15048', '11447', '11577', '10141',\n",
              "       '11308', '11617', '11525', '11867', '12016', '10739', '14711',\n",
              "       '14006', '14109', '14487', '15607', '14543', '14588', '10577',\n",
              "       '10170', '12007', '14828', '14222', '13459', '13502', '14254',\n",
              "       '14025', '15497', '12265', '10581', '10666'], dtype=object)"
            ]
          },
          "metadata": {
            "tags": []
          },
          "execution_count": 30
        }
      ]
    },
    {
      "cell_type": "code",
      "metadata": {
        "id": "RovrU0qOmJmF",
        "colab_type": "code",
        "outputId": "5ef80da1-b26c-42fe-a541-1d723066d278",
        "colab": {
          "base_uri": "https://localhost:8080/",
          "height": 175
        }
      },
      "source": [
        "flights_df['ARRIVAL_DELAY'].describe()"
      ],
      "execution_count": 0,
      "outputs": [
        {
          "output_type": "execute_result",
          "data": {
            "text/plain": [
              "count    5.71401e+06\n",
              "mean     4.40706e+00\n",
              "std      3.92713e+01\n",
              "min     -8.70000e+01\n",
              "25%     -1.30000e+01\n",
              "50%     -5.00000e+00\n",
              "75%      8.00000e+00\n",
              "max      1.97100e+03\n",
              "Name: ARRIVAL_DELAY, dtype: float64"
            ]
          },
          "metadata": {
            "tags": []
          },
          "execution_count": 31
        }
      ]
    },
    {
      "cell_type": "code",
      "metadata": {
        "id": "8jJwElNWmsQy",
        "colab_type": "code",
        "colab": {}
      },
      "source": [
        ""
      ],
      "execution_count": 0,
      "outputs": []
    },
    {
      "cell_type": "markdown",
      "metadata": {
        "id": "1vMkrudUndbC",
        "colab_type": "text"
      },
      "source": [
        "**'ARRIVAL_DELAY' The Target**"
      ]
    },
    {
      "cell_type": "code",
      "metadata": {
        "id": "tRod2KbVnlDQ",
        "colab_type": "code",
        "outputId": "8a821ce7-f645-4bfa-cb10-a3b43ffa1abb",
        "colab": {
          "base_uri": "https://localhost:8080/",
          "height": 70
        }
      },
      "source": [
        "delayed_flights_df = flights_df[flights_df['ARRIVAL_DELAY']>0]\n",
        "print(\"The percentage of planes late in 2015 is %.2f\"%(delayed_flights_df.shape[0]*100/flights_df.shape[0]))\n",
        "ontime_flights_df = flights_df[flights_df['ARRIVAL_DELAY']==0]\n",
        "print(\"The percentage of planes right on time in 2015 is %.2f\"%(ontime_flights_df.shape[0]*100/flights_df.shape[0]))\n",
        "advance_flights_df = flights_df[flights_df['ARRIVAL_DELAY']<0]\n",
        "print(\"The percentage of planes that arrived ahead of time in 2015 is %.2f\"%(advance_flights_df.shape[0]*100/flights_df.shape[0]))"
      ],
      "execution_count": 0,
      "outputs": [
        {
          "output_type": "stream",
          "text": [
            "The percentage of planes late in 2015 is 35.86\n",
            "The percentage of planes right on time in 2015 is 2.17\n",
            "The percentage of planes that arrived ahead of time in 2015 is 60.16\n"
          ],
          "name": "stdout"
        }
      ]
    },
    {
      "cell_type": "code",
      "metadata": {
        "id": "4miX9N5rpbd5",
        "colab_type": "code",
        "outputId": "6b651a1d-b20e-4f10-9c6d-9934c61eed37",
        "colab": {
          "base_uri": "https://localhost:8080/",
          "height": 34
        }
      },
      "source": [
        "more_15min_flights_df = flights_df[flights_df['ARRIVAL_DELAY']>15]\n",
        "print(\"The percentage of planes that arrived more than 15 minutes late in 2015 is %.2f\"%(more_15min_flights_df.shape[0]*100/flights_df.shape[0]))"
      ],
      "execution_count": 0,
      "outputs": [
        {
          "output_type": "stream",
          "text": [
            "The percentage of planes that arrived more than 15 minutes late in 2015 is 17.59\n"
          ],
          "name": "stdout"
        }
      ]
    },
    {
      "cell_type": "code",
      "metadata": {
        "id": "gTw2z_ohqPYu",
        "colab_type": "code",
        "outputId": "f9c87634-d3c9-457e-eaf8-f53ac92f819a",
        "colab": {
          "base_uri": "https://localhost:8080/",
          "height": 34
        }
      },
      "source": [
        "more_15min_flights_df.shape"
      ],
      "execution_count": 0,
      "outputs": [
        {
          "output_type": "execute_result",
          "data": {
            "text/plain": [
              "(1023498, 31)"
            ]
          },
          "metadata": {
            "tags": []
          },
          "execution_count": 34
        }
      ]
    },
    {
      "cell_type": "code",
      "metadata": {
        "id": "09hlV8lXL0dy",
        "colab_type": "code",
        "outputId": "297565e4-4d4f-42d3-ee45-861d205a5a1a",
        "colab": {
          "base_uri": "https://localhost:8080/",
          "height": 284
        }
      },
      "source": [
        "flights_df.loc[:, ['ARRIVAL_DELAY']].describe()"
      ],
      "execution_count": 0,
      "outputs": [
        {
          "output_type": "execute_result",
          "data": {
            "text/html": [
              "<div>\n",
              "<style scoped>\n",
              "    .dataframe tbody tr th:only-of-type {\n",
              "        vertical-align: middle;\n",
              "    }\n",
              "\n",
              "    .dataframe tbody tr th {\n",
              "        vertical-align: top;\n",
              "    }\n",
              "\n",
              "    .dataframe thead th {\n",
              "        text-align: right;\n",
              "    }\n",
              "</style>\n",
              "<table border=\"1\" class=\"dataframe\">\n",
              "  <thead>\n",
              "    <tr style=\"text-align: left;\">\n",
              "      <th></th>\n",
              "      <th>ARRIVAL_DELAY</th>\n",
              "    </tr>\n",
              "  </thead>\n",
              "  <tbody>\n",
              "    <tr>\n",
              "      <th>count</th>\n",
              "      <td>5.71401e+06</td>\n",
              "    </tr>\n",
              "    <tr>\n",
              "      <th>mean</th>\n",
              "      <td>4.40706e+00</td>\n",
              "    </tr>\n",
              "    <tr>\n",
              "      <th>std</th>\n",
              "      <td>3.92713e+01</td>\n",
              "    </tr>\n",
              "    <tr>\n",
              "      <th>min</th>\n",
              "      <td>-8.70000e+01</td>\n",
              "    </tr>\n",
              "    <tr>\n",
              "      <th>25%</th>\n",
              "      <td>-1.30000e+01</td>\n",
              "    </tr>\n",
              "    <tr>\n",
              "      <th>50%</th>\n",
              "      <td>-5.00000e+00</td>\n",
              "    </tr>\n",
              "    <tr>\n",
              "      <th>75%</th>\n",
              "      <td>8.00000e+00</td>\n",
              "    </tr>\n",
              "    <tr>\n",
              "      <th>max</th>\n",
              "      <td>1.97100e+03</td>\n",
              "    </tr>\n",
              "  </tbody>\n",
              "</table>\n",
              "</div>"
            ],
            "text/plain": [
              "       ARRIVAL_DELAY\n",
              "count  5.71401e+06  \n",
              "mean   4.40706e+00  \n",
              "std    3.92713e+01  \n",
              "min   -8.70000e+01  \n",
              "25%   -1.30000e+01  \n",
              "50%   -5.00000e+00  \n",
              "75%    8.00000e+00  \n",
              "max    1.97100e+03  "
            ]
          },
          "metadata": {
            "tags": []
          },
          "execution_count": 35
        }
      ]
    },
    {
      "cell_type": "code",
      "metadata": {
        "id": "8Xq2mEfUK6NE",
        "colab_type": "code",
        "outputId": "0382ca93-bc81-48e7-aa67-fa0fac86a32d",
        "colab": {
          "base_uri": "https://localhost:8080/",
          "height": 302
        }
      },
      "source": [
        "plt.boxplot(flights_df.loc[:, ['ARRIVAL_DELAY']].dropna().T, showfliers=False)\n",
        "plt.ylabel('minutes of delays')\n",
        "plt.title('Distribution of delays')"
      ],
      "execution_count": 0,
      "outputs": [
        {
          "output_type": "execute_result",
          "data": {
            "text/plain": [
              "Text(0.5, 1.0, 'Distribution of delays')"
            ]
          },
          "metadata": {
            "tags": []
          },
          "execution_count": 36
        },
        {
          "output_type": "display_data",
          "data": {
            "image/png": "[encoded data removed]",
            "text/plain": [
              "<Figure size 432x288 with 1 Axes>"
            ]
          },
          "metadata": {
            "tags": []
          }
        }
      ]
    },
    {
      "cell_type": "code",
      "metadata": {
        "id": "Ou3DWfzJfLUx",
        "colab_type": "code",
        "outputId": "ed5edd80-dfaa-473d-f966-cbf7da588b88",
        "colab": {
          "base_uri": "https://localhost:8080/",
          "height": 307
        }
      },
      "source": [
        "sns.boxplot(x=\"AIRLINE\", y=\"ARRIVAL_DELAY\", data=flights_df, palette=\"Set1\", showfliers=False)\n"
      ],
      "execution_count": 0,
      "outputs": [
        {
          "output_type": "execute_result",
          "data": {
            "text/plain": [
              "<matplotlib.axes._subplots.AxesSubplot at 0x7f6b89ea4ac8>"
            ]
          },
          "metadata": {
            "tags": []
          },
          "execution_count": 37
        },
        {
          "output_type": "display_data",
          "data": {
            "image/png": "[encoded data removed]",
            "text/plain": [
              "<Figure size 432x288 with 1 Axes>"
            ]
          },
          "metadata": {
            "tags": []
          }
        }
      ]
    },
    {
      "cell_type": "code",
      "metadata": {
        "id": "JKhicWK1RRo9",
        "colab_type": "code",
        "outputId": "eb2df1d0-c949-4533-8857-5abb1301af15",
        "colab": {
          "base_uri": "https://localhost:8080/",
          "height": 175
        }
      },
      "source": [
        "flights_df.columns"
      ],
      "execution_count": 0,
      "outputs": [
        {
          "output_type": "execute_result",
          "data": {
            "text/plain": [
              "Index(['YEAR', 'MONTH', 'DAY', 'DAY_OF_WEEK', 'AIRLINE', 'FLIGHT_NUMBER',\n",
              "       'TAIL_NUMBER', 'ORIGIN_AIRPORT', 'DESTINATION_AIRPORT',\n",
              "       'SCHEDULED_DEPARTURE', 'DEPARTURE_TIME', 'DEPARTURE_DELAY', 'TAXI_OUT',\n",
              "       'WHEELS_OFF', 'SCHEDULED_TIME', 'ELAPSED_TIME', 'AIR_TIME', 'DISTANCE',\n",
              "       'WHEELS_ON', 'TAXI_IN', 'SCHEDULED_ARRIVAL', 'ARRIVAL_TIME',\n",
              "       'ARRIVAL_DELAY', 'DIVERTED', 'CANCELLED', 'CANCELLATION_REASON',\n",
              "       'AIR_SYSTEM_DELAY', 'SECURITY_DELAY', 'AIRLINE_DELAY',\n",
              "       'LATE_AIRCRAFT_DELAY', 'WEATHER_DELAY'],\n",
              "      dtype='object')"
            ]
          },
          "metadata": {
            "tags": []
          },
          "execution_count": 38
        }
      ]
    },
    {
      "cell_type": "markdown",
      "metadata": {
        "id": "7BQJtqnniB_z",
        "colab_type": "text"
      },
      "source": [
        "1. Categorical Features\n",
        "MONTH - Month of the Flight Trip\n",
        "DAY_OF_WEEK - Day of week of the Flight Trip\n",
        "AIRLINE - Airline Identifier\n",
        "   map to full airline name\n",
        "SCHEDULED_ARRIVAL - Planned Arrival Time\n",
        "  map into 4 categories: early morning, morning, afternoon, evening\n",
        "\n",
        "2. Numerical Features\n",
        "DEPARTURE_DELAY - Total Delay on Departure\n",
        "TAXI_OUT - The time duration elapsed between departure from the origin airport gate and wheels off\n",
        "WHEELS_OFF - The time point that the aircraft's wheels leave the ground\n",
        "SCHEDULED_TIME - Planned time amount needed for the flight trip\n",
        "DISTANCE - Distance between two airports\n",
        "\n",
        " 3. Target Feature\n",
        "ARRIVAL_DELAY - ARRIVAL_TIME-SCHEDULED_ARRIVAL\n",
        "   map to binary data\n",
        "               >= 15 min delay = 1\n",
        "               < 15 min delay = 0\n",
        "\n",
        "\n",
        "4. Filter out record if following columns == 1\n",
        "\n",
        "DIVERTED - Aircraft landed on airport that out of schedule\n",
        "CANCELLED - Flight Cancelled (1 = cancelled)"
      ]
    },
    {
      "cell_type": "code",
      "metadata": {
        "id": "R92svpVSjEXy",
        "colab_type": "code",
        "outputId": "c79d5579-82c5-4da6-bfd1-ee60e866f5bf",
        "colab": {
          "base_uri": "https://localhost:8080/",
          "height": 492
        }
      },
      "source": [
        "corr_matrix = flights_df.corr()\n",
        "corr_matrix['ARRIVAL_DELAY'].sort_values(ascending=False)"
      ],
      "execution_count": 0,
      "outputs": [
        {
          "output_type": "execute_result",
          "data": {
            "text/plain": [
              "ARRIVAL_DELAY          1.00000\n",
              "DEPARTURE_DELAY        0.94467\n",
              "AIRLINE_DELAY          0.60935\n",
              "LATE_AIRCRAFT_DELAY    0.52201\n",
              "WEATHER_DELAY          0.26480\n",
              "AIR_SYSTEM_DELAY       0.24719\n",
              "TAXI_OUT               0.22732\n",
              "DEPARTURE_TIME         0.15979\n",
              "WHEELS_OFF             0.15577\n",
              "TAXI_IN                0.11663\n",
              "SCHEDULED_DEPARTURE    0.10022\n",
              "SCHEDULED_ARRIVAL      0.08882\n",
              "WHEELS_ON              0.05888\n",
              "ARRIVAL_TIME           0.04988\n",
              "ELAPSED_TIME           0.02912\n",
              "FLIGHT_NUMBER          0.01842\n",
              "SECURITY_DELAY         0.00965\n",
              "DAY                   -0.00310\n",
              "AIR_TIME              -0.00711\n",
              "DAY_OF_WEEK           -0.01703\n",
              "DISTANCE              -0.02544\n",
              "SCHEDULED_TIME        -0.03003\n",
              "MONTH                 -0.03679\n",
              "YEAR                  NaN     \n",
              "DIVERTED              NaN     \n",
              "CANCELLED             NaN     \n",
              "Name: ARRIVAL_DELAY, dtype: float64"
            ]
          },
          "metadata": {
            "tags": []
          },
          "execution_count": 39
        }
      ]
    },
    {
      "cell_type": "markdown",
      "metadata": {
        "id": "oydVBqtZ1X7r",
        "colab_type": "text"
      },
      "source": [
        "### Feature removal\n",
        "\n",
        "Drop features that don't provide any added value"
      ]
    },
    {
      "cell_type": "code",
      "metadata": {
        "id": "OSM6Bx-H18Ip",
        "colab_type": "code",
        "colab": {}
      },
      "source": [
        " final_flights_df = flights_df.drop(columns = ['YEAR', 'DAY', 'FLIGHT_NUMBER',\n",
        "       'TAIL_NUMBER', 'ORIGIN_AIRPORT', 'DESTINATION_AIRPORT',\n",
        "       'SCHEDULED_DEPARTURE', 'DEPARTURE_TIME',\n",
        "       'ELAPSED_TIME', 'AIR_TIME',\n",
        "       'WHEELS_ON', 'TAXI_IN', 'ARRIVAL_TIME',\n",
        "       'CANCELLATION_REASON',\n",
        "       'AIR_SYSTEM_DELAY', 'SECURITY_DELAY', 'AIRLINE_DELAY',\n",
        "       'LATE_AIRCRAFT_DELAY', 'WEATHER_DELAY'])"
      ],
      "execution_count": 0,
      "outputs": []
    },
    {
      "cell_type": "code",
      "metadata": {
        "id": "abWJHiCI1adI",
        "colab_type": "code",
        "outputId": "a3a76359-6a81-4a02-8dd8-101f973b16f7",
        "colab": {
          "base_uri": "https://localhost:8080/",
          "height": 195
        }
      },
      "source": [
        "final_flights_df.head()"
      ],
      "execution_count": 0,
      "outputs": [
        {
          "output_type": "execute_result",
          "data": {
            "text/html": [
              "<div>\n",
              "<style scoped>\n",
              "    .dataframe tbody tr th:only-of-type {\n",
              "        vertical-align: middle;\n",
              "    }\n",
              "\n",
              "    .dataframe tbody tr th {\n",
              "        vertical-align: top;\n",
              "    }\n",
              "\n",
              "    .dataframe thead th {\n",
              "        text-align: right;\n",
              "    }\n",
              "</style>\n",
              "<table border=\"1\" class=\"dataframe\">\n",
              "  <thead>\n",
              "    <tr style=\"text-align: left;\">\n",
              "      <th></th>\n",
              "      <th>MONTH</th>\n",
              "      <th>DAY_OF_WEEK</th>\n",
              "      <th>AIRLINE</th>\n",
              "      <th>DEPARTURE_DELAY</th>\n",
              "      <th>TAXI_OUT</th>\n",
              "      <th>WHEELS_OFF</th>\n",
              "      <th>SCHEDULED_TIME</th>\n",
              "      <th>DISTANCE</th>\n",
              "      <th>SCHEDULED_ARRIVAL</th>\n",
              "      <th>ARRIVAL_DELAY</th>\n",
              "      <th>DIVERTED</th>\n",
              "      <th>CANCELLED</th>\n",
              "    </tr>\n",
              "  </thead>\n",
              "  <tbody>\n",
              "    <tr>\n",
              "      <th>0</th>\n",
              "      <td>1</td>\n",
              "      <td>4</td>\n",
              "      <td>AS</td>\n",
              "      <td>-11.0</td>\n",
              "      <td>21.0</td>\n",
              "      <td>15.0</td>\n",
              "      <td>205.0</td>\n",
              "      <td>1448</td>\n",
              "      <td>430</td>\n",
              "      <td>-22.0</td>\n",
              "      <td>0</td>\n",
              "      <td>0</td>\n",
              "    </tr>\n",
              "    <tr>\n",
              "      <th>1</th>\n",
              "      <td>1</td>\n",
              "      <td>4</td>\n",
              "      <td>AA</td>\n",
              "      <td>-8.0</td>\n",
              "      <td>12.0</td>\n",
              "      <td>14.0</td>\n",
              "      <td>280.0</td>\n",
              "      <td>2330</td>\n",
              "      <td>750</td>\n",
              "      <td>-9.0</td>\n",
              "      <td>0</td>\n",
              "      <td>0</td>\n",
              "    </tr>\n",
              "    <tr>\n",
              "      <th>2</th>\n",
              "      <td>1</td>\n",
              "      <td>4</td>\n",
              "      <td>US</td>\n",
              "      <td>-2.0</td>\n",
              "      <td>16.0</td>\n",
              "      <td>34.0</td>\n",
              "      <td>286.0</td>\n",
              "      <td>2296</td>\n",
              "      <td>806</td>\n",
              "      <td>5.0</td>\n",
              "      <td>0</td>\n",
              "      <td>0</td>\n",
              "    </tr>\n",
              "    <tr>\n",
              "      <th>3</th>\n",
              "      <td>1</td>\n",
              "      <td>4</td>\n",
              "      <td>AA</td>\n",
              "      <td>-5.0</td>\n",
              "      <td>15.0</td>\n",
              "      <td>30.0</td>\n",
              "      <td>285.0</td>\n",
              "      <td>2342</td>\n",
              "      <td>805</td>\n",
              "      <td>-9.0</td>\n",
              "      <td>0</td>\n",
              "      <td>0</td>\n",
              "    </tr>\n",
              "    <tr>\n",
              "      <th>4</th>\n",
              "      <td>1</td>\n",
              "      <td>4</td>\n",
              "      <td>AS</td>\n",
              "      <td>-1.0</td>\n",
              "      <td>11.0</td>\n",
              "      <td>35.0</td>\n",
              "      <td>235.0</td>\n",
              "      <td>1448</td>\n",
              "      <td>320</td>\n",
              "      <td>-21.0</td>\n",
              "      <td>0</td>\n",
              "      <td>0</td>\n",
              "    </tr>\n",
              "  </tbody>\n",
              "</table>\n",
              "</div>"
            ],
            "text/plain": [
              "   MONTH  DAY_OF_WEEK AIRLINE  DEPARTURE_DELAY  TAXI_OUT  WHEELS_OFF  \\\n",
              "0  1      4            AS     -11.0             21.0      15.0         \n",
              "1  1      4            AA     -8.0              12.0      14.0         \n",
              "2  1      4            US     -2.0              16.0      34.0         \n",
              "3  1      4            AA     -5.0              15.0      30.0         \n",
              "4  1      4            AS     -1.0              11.0      35.0         \n",
              "\n",
              "   SCHEDULED_TIME  DISTANCE  SCHEDULED_ARRIVAL  ARRIVAL_DELAY  DIVERTED  \\\n",
              "0  205.0           1448      430               -22.0           0          \n",
              "1  280.0           2330      750               -9.0            0          \n",
              "2  286.0           2296      806                5.0            0          \n",
              "3  285.0           2342      805               -9.0            0          \n",
              "4  235.0           1448      320               -21.0           0          \n",
              "\n",
              "   CANCELLED  \n",
              "0  0          \n",
              "1  0          \n",
              "2  0          \n",
              "3  0          \n",
              "4  0          "
            ]
          },
          "metadata": {
            "tags": []
          },
          "execution_count": 41
        }
      ]
    },
    {
      "cell_type": "code",
      "metadata": {
        "id": "F-RwV4LS7ANg",
        "colab_type": "code",
        "colab": {}
      },
      "source": [
        "# We have to filtered out the diverted and cancelled flights\n",
        "\n",
        "final_flights_df = final_flights_df[final_flights_df['CANCELLED'] == 0]"
      ],
      "execution_count": 0,
      "outputs": []
    },
    {
      "cell_type": "code",
      "metadata": {
        "id": "HXvsK-7S9AEn",
        "colab_type": "code",
        "colab": {}
      },
      "source": [
        "final_flights_df = final_flights_df[final_flights_df['DIVERTED'] == 0]"
      ],
      "execution_count": 0,
      "outputs": []
    },
    {
      "cell_type": "code",
      "metadata": {
        "id": "i95xPO4B--rt",
        "colab_type": "code",
        "colab": {}
      },
      "source": [
        "final_flights_df.drop(columns = ['CANCELLED','DIVERTED'], inplace = True)"
      ],
      "execution_count": 0,
      "outputs": []
    },
    {
      "cell_type": "code",
      "metadata": {
        "id": "0JNKjF0r_rVE",
        "colab_type": "code",
        "outputId": "066b1bfd-1dc0-431b-8c36-404902f17be6",
        "colab": {
          "base_uri": "https://localhost:8080/",
          "height": 281
        }
      },
      "source": [
        "final_flights_df.info()"
      ],
      "execution_count": 0,
      "outputs": [
        {
          "output_type": "stream",
          "text": [
            "<class 'pandas.core.frame.DataFrame'>\n",
            "Int64Index: 5714008 entries, 0 to 5819078\n",
            "Data columns (total 10 columns):\n",
            "MONTH                int64\n",
            "DAY_OF_WEEK          int64\n",
            "AIRLINE              object\n",
            "DEPARTURE_DELAY      float64\n",
            "TAXI_OUT             float64\n",
            "WHEELS_OFF           float64\n",
            "SCHEDULED_TIME       float64\n",
            "DISTANCE             int64\n",
            "SCHEDULED_ARRIVAL    int64\n",
            "ARRIVAL_DELAY        float64\n",
            "dtypes: float64(5), int64(4), object(1)\n",
            "memory usage: 479.5+ MB\n"
          ],
          "name": "stdout"
        }
      ]
    },
    {
      "cell_type": "code",
      "metadata": {
        "id": "_tF70sXk39t0",
        "colab_type": "code",
        "outputId": "8690502c-30a1-4ffc-9124-1581ea647cde",
        "colab": {
          "base_uri": "https://localhost:8080/",
          "height": 34
        }
      },
      "source": [
        "len(final_flights_df)"
      ],
      "execution_count": 0,
      "outputs": [
        {
          "output_type": "execute_result",
          "data": {
            "text/plain": [
              "5714008"
            ]
          },
          "metadata": {
            "tags": []
          },
          "execution_count": 46
        }
      ]
    },
    {
      "cell_type": "code",
      "metadata": {
        "id": "zliZWxbp_BYJ",
        "colab_type": "code",
        "outputId": "319e5643-913c-4dc6-9910-bbb0f76b68f4",
        "colab": {
          "base_uri": "https://localhost:8080/",
          "height": 343
        }
      },
      "source": [
        "missing = final_flights_df.isnull().sum(axis=0).reset_index()\n",
        "missing.columns = ['variable', 'missing values']\n",
        "missing"
      ],
      "execution_count": 0,
      "outputs": [
        {
          "output_type": "execute_result",
          "data": {
            "text/html": [
              "<div>\n",
              "<style scoped>\n",
              "    .dataframe tbody tr th:only-of-type {\n",
              "        vertical-align: middle;\n",
              "    }\n",
              "\n",
              "    .dataframe tbody tr th {\n",
              "        vertical-align: top;\n",
              "    }\n",
              "\n",
              "    .dataframe thead th {\n",
              "        text-align: right;\n",
              "    }\n",
              "</style>\n",
              "<table border=\"1\" class=\"dataframe\">\n",
              "  <thead>\n",
              "    <tr style=\"text-align: left;\">\n",
              "      <th></th>\n",
              "      <th>variable</th>\n",
              "      <th>missing values</th>\n",
              "    </tr>\n",
              "  </thead>\n",
              "  <tbody>\n",
              "    <tr>\n",
              "      <th>0</th>\n",
              "      <td>MONTH</td>\n",
              "      <td>0</td>\n",
              "    </tr>\n",
              "    <tr>\n",
              "      <th>1</th>\n",
              "      <td>DAY_OF_WEEK</td>\n",
              "      <td>0</td>\n",
              "    </tr>\n",
              "    <tr>\n",
              "      <th>2</th>\n",
              "      <td>AIRLINE</td>\n",
              "      <td>0</td>\n",
              "    </tr>\n",
              "    <tr>\n",
              "      <th>3</th>\n",
              "      <td>DEPARTURE_DELAY</td>\n",
              "      <td>0</td>\n",
              "    </tr>\n",
              "    <tr>\n",
              "      <th>4</th>\n",
              "      <td>TAXI_OUT</td>\n",
              "      <td>0</td>\n",
              "    </tr>\n",
              "    <tr>\n",
              "      <th>5</th>\n",
              "      <td>WHEELS_OFF</td>\n",
              "      <td>0</td>\n",
              "    </tr>\n",
              "    <tr>\n",
              "      <th>6</th>\n",
              "      <td>SCHEDULED_TIME</td>\n",
              "      <td>0</td>\n",
              "    </tr>\n",
              "    <tr>\n",
              "      <th>7</th>\n",
              "      <td>DISTANCE</td>\n",
              "      <td>0</td>\n",
              "    </tr>\n",
              "    <tr>\n",
              "      <th>8</th>\n",
              "      <td>SCHEDULED_ARRIVAL</td>\n",
              "      <td>0</td>\n",
              "    </tr>\n",
              "    <tr>\n",
              "      <th>9</th>\n",
              "      <td>ARRIVAL_DELAY</td>\n",
              "      <td>0</td>\n",
              "    </tr>\n",
              "  </tbody>\n",
              "</table>\n",
              "</div>"
            ],
            "text/plain": [
              "  variable            missing values\n",
              "0  MONTH              0             \n",
              "1  DAY_OF_WEEK        0             \n",
              "2  AIRLINE            0             \n",
              "3  DEPARTURE_DELAY    0             \n",
              "4  TAXI_OUT           0             \n",
              "5  WHEELS_OFF         0             \n",
              "6  SCHEDULED_TIME     0             \n",
              "7  DISTANCE           0             \n",
              "8  SCHEDULED_ARRIVAL  0             \n",
              "9  ARRIVAL_DELAY      0             "
            ]
          },
          "metadata": {
            "tags": []
          },
          "execution_count": 47
        }
      ]
    },
    {
      "cell_type": "markdown",
      "metadata": {
        "id": "XuZDX2U5WNIM",
        "colab_type": "text"
      },
      "source": [
        ""
      ]
    },
    {
      "cell_type": "markdown",
      "metadata": {
        "id": "SWOT_lDqEf93",
        "colab_type": "text"
      },
      "source": [
        "### Feature Conversion"
      ]
    },
    {
      "cell_type": "markdown",
      "metadata": {
        "id": "QWwhf3YzEdGY",
        "colab_type": "text"
      },
      "source": [
        "For further use, I put the content of this this dataframe in a dictionary:\n",
        "\n",
        "Categorical Features MONTH - Month of the Flight Trip DAY_OF_WEEK - Day of week of the Flight Trip AIRLINE - Airline Identifier map to full airline name SCHEDULED_ARRIVAL - Planned Arrival Time map into 4 categories: early morning, morning, afternoon, evening"
      ]
    },
    {
      "cell_type": "code",
      "metadata": {
        "id": "oP_NCACXE5_d",
        "colab_type": "code",
        "colab": {}
      },
      "source": [
        "airlines_names = airlines_df.set_index('IATA_CODE')['AIRLINE'].to_dict()"
      ],
      "execution_count": 0,
      "outputs": []
    },
    {
      "cell_type": "code",
      "metadata": {
        "id": "2DNnIY5aFFE4",
        "colab_type": "code",
        "outputId": "09ec95f8-d000-45ed-c2b1-3e279c293a3e",
        "colab": {
          "base_uri": "https://localhost:8080/",
          "height": 263
        }
      },
      "source": [
        "airlines_names"
      ],
      "execution_count": 0,
      "outputs": [
        {
          "output_type": "execute_result",
          "data": {
            "text/plain": [
              "{'AA': 'American Airlines Inc.',\n",
              " 'AS': 'Alaska Airlines Inc.',\n",
              " 'B6': 'JetBlue Airways',\n",
              " 'DL': 'Delta Air Lines Inc.',\n",
              " 'EV': 'Atlantic Southeast Airlines',\n",
              " 'F9': 'Frontier Airlines Inc.',\n",
              " 'HA': 'Hawaiian Airlines Inc.',\n",
              " 'MQ': 'American Eagle Airlines Inc.',\n",
              " 'NK': 'Spirit Air Lines',\n",
              " 'OO': 'Skywest Airlines Inc.',\n",
              " 'UA': 'United Air Lines Inc.',\n",
              " 'US': 'US Airways Inc.',\n",
              " 'VX': 'Virgin America',\n",
              " 'WN': 'Southwest Airlines Co.'}"
            ]
          },
          "metadata": {
            "tags": []
          },
          "execution_count": 49
        }
      ]
    },
    {
      "cell_type": "code",
      "metadata": {
        "id": "Lak14aR1FK6C",
        "colab_type": "code",
        "outputId": "01e128b5-af4f-479e-b47c-950eb5c135b4",
        "colab": {
          "base_uri": "https://localhost:8080/",
          "height": 272
        }
      },
      "source": [
        "final_flights_df[\"AIRLINE\"].replace(airlines_names, inplace = True)  \n",
        "final_flights_df[\"AIRLINE\"].value_counts()"
      ],
      "execution_count": 0,
      "outputs": [
        {
          "output_type": "execute_result",
          "data": {
            "text/plain": [
              "Southwest Airlines Co.          1242403\n",
              "Delta Air Lines Inc.            870275 \n",
              "American Airlines Inc.          712935 \n",
              "Skywest Airlines Inc.           576814 \n",
              "Atlantic Southeast Airlines     554752 \n",
              "United Air Lines Inc.           507762 \n",
              "American Eagle Airlines Inc.    278791 \n",
              "JetBlue Airways                 262042 \n",
              "US Airways Inc.                 194223 \n",
              "Alaska Airlines Inc.            171439 \n",
              "Spirit Air Lines                115193 \n",
              "Frontier Airlines Inc.          90090  \n",
              "Hawaiian Airlines Inc.          76041  \n",
              "Virgin America                  61248  \n",
              "Name: AIRLINE, dtype: int64"
            ]
          },
          "metadata": {
            "tags": []
          },
          "execution_count": 50
        }
      ]
    },
    {
      "cell_type": "code",
      "metadata": {
        "id": "DAEEwvGSgg5e",
        "colab_type": "code",
        "colab": {}
      },
      "source": [
        "month = {1 : 'January', 2 : 'February', 3 : 'March', 4 : 'April', 5 : 'May', 6 : 'June' , 7 : 'July', 8 : 'August', 9 :  'September', 10 : 'October', 11 : 'November', 12 : 'December'}\n",
        "final_flights_df[\"MONTH\"].replace(month, inplace = True)"
      ],
      "execution_count": 0,
      "outputs": []
    },
    {
      "cell_type": "code",
      "metadata": {
        "id": "oML773VJgP_d",
        "colab_type": "code",
        "outputId": "56a9d223-a64a-48fb-bd2e-ea5f3a530554",
        "colab": {
          "base_uri": "https://localhost:8080/",
          "height": 246
        }
      },
      "source": [
        "final_flights_df['MONTH'].value_counts()"
      ],
      "execution_count": 0,
      "outputs": [
        {
          "output_type": "execute_result",
          "data": {
            "text/plain": [
              "July         514384\n",
              "August       503956\n",
              "June         492847\n",
              "March        492138\n",
              "May          489641\n",
              "October      482878\n",
              "April        479251\n",
              "December     469717\n",
              "November     462367\n",
              "September    462153\n",
              "January      457013\n",
              "February     407663\n",
              "Name: MONTH, dtype: int64"
            ]
          },
          "metadata": {
            "tags": []
          },
          "execution_count": 52
        }
      ]
    },
    {
      "cell_type": "code",
      "metadata": {
        "id": "VAqOaswZIaEC",
        "colab_type": "code",
        "colab": {}
      },
      "source": [
        "week_day = {1 : 'Monday', 2 : 'Tuesday', 3 : 'Wednesday', 4 : 'Thursday', 5 : 'Friday', 6 : 'Saturday' , 7 : 'Sunday'}\n",
        "final_flights_df[\"DAY_OF_WEEK\"].replace(week_day, inplace = True)"
      ],
      "execution_count": 0,
      "outputs": []
    },
    {
      "cell_type": "code",
      "metadata": {
        "id": "RDVooGqZJ5k4",
        "colab_type": "code",
        "outputId": "d024e18b-af1b-42aa-a4df-9e19bbbd2b6d",
        "colab": {
          "base_uri": "https://localhost:8080/",
          "height": 158
        }
      },
      "source": [
        "final_flights_df[\"DAY_OF_WEEK\"].value_counts()"
      ],
      "execution_count": 0,
      "outputs": [
        {
          "output_type": "execute_result",
          "data": {
            "text/plain": [
              "Thursday     857886\n",
              "Friday       851387\n",
              "Wednesday    843242\n",
              "Monday       841794\n",
              "Tuesday      827399\n",
              "Sunday       802555\n",
              "Saturday     689745\n",
              "Name: DAY_OF_WEEK, dtype: int64"
            ]
          },
          "metadata": {
            "tags": []
          },
          "execution_count": 54
        }
      ]
    },
    {
      "cell_type": "code",
      "metadata": {
        "id": "22LSigCdpupX",
        "colab_type": "code",
        "colab": {}
      },
      "source": [
        "day_period = {range(0, 600) : 'Early Morning', range(600, 1200) : 'Morning', range(1200, 1800) : 'Afternoon', range(1800, 2400) : 'Evening'}\n",
        "\n",
        "final_flights_df.loc[final_flights_df['SCHEDULED_ARRIVAL'] == 2400, 'SCHEDULED_ARRIVAL'] = 0\n",
        "final_flights_df['SCHEDULED_ARRIVAL'] = final_flights_df['SCHEDULED_ARRIVAL'].apply(lambda x: next((v for k, v in day_period.items() if x in k), 0))"
      ],
      "execution_count": 0,
      "outputs": []
    },
    {
      "cell_type": "code",
      "metadata": {
        "id": "h6M9QS2uzScX",
        "colab_type": "code",
        "outputId": "0053d11f-cc87-40d1-d282-a361bcf3c096",
        "colab": {
          "base_uri": "https://localhost:8080/",
          "height": 105
        }
      },
      "source": [
        "final_flights_df['SCHEDULED_ARRIVAL'].value_counts()"
      ],
      "execution_count": 0,
      "outputs": [
        {
          "output_type": "execute_result",
          "data": {
            "text/plain": [
              "Afternoon        2092593\n",
              "Evening          1908971\n",
              "Morning          1579664\n",
              "Early Morning    132780 \n",
              "Name: SCHEDULED_ARRIVAL, dtype: int64"
            ]
          },
          "metadata": {
            "tags": []
          },
          "execution_count": 56
        }
      ]
    },
    {
      "cell_type": "code",
      "metadata": {
        "id": "Z0_SE01YKA3n",
        "colab_type": "code",
        "outputId": "cc14cb16-d7e8-4b9b-9de9-e187204ffcb0",
        "colab": {
          "base_uri": "https://localhost:8080/",
          "height": 195
        }
      },
      "source": [
        "final_flights_df['ARRIVAL_DELAY'] = 1*np.ravel(final_flights_df['ARRIVAL_DELAY']>=15)\n",
        "final_flights_df.head()"
      ],
      "execution_count": 0,
      "outputs": [
        {
          "output_type": "execute_result",
          "data": {
            "text/html": [
              "<div>\n",
              "<style scoped>\n",
              "    .dataframe tbody tr th:only-of-type {\n",
              "        vertical-align: middle;\n",
              "    }\n",
              "\n",
              "    .dataframe tbody tr th {\n",
              "        vertical-align: top;\n",
              "    }\n",
              "\n",
              "    .dataframe thead th {\n",
              "        text-align: right;\n",
              "    }\n",
              "</style>\n",
              "<table border=\"1\" class=\"dataframe\">\n",
              "  <thead>\n",
              "    <tr style=\"text-align: left;\">\n",
              "      <th></th>\n",
              "      <th>MONTH</th>\n",
              "      <th>DAY_OF_WEEK</th>\n",
              "      <th>AIRLINE</th>\n",
              "      <th>DEPARTURE_DELAY</th>\n",
              "      <th>TAXI_OUT</th>\n",
              "      <th>WHEELS_OFF</th>\n",
              "      <th>SCHEDULED_TIME</th>\n",
              "      <th>DISTANCE</th>\n",
              "      <th>SCHEDULED_ARRIVAL</th>\n",
              "      <th>ARRIVAL_DELAY</th>\n",
              "    </tr>\n",
              "  </thead>\n",
              "  <tbody>\n",
              "    <tr>\n",
              "      <th>0</th>\n",
              "      <td>January</td>\n",
              "      <td>Thursday</td>\n",
              "      <td>Alaska Airlines Inc.</td>\n",
              "      <td>-11.0</td>\n",
              "      <td>21.0</td>\n",
              "      <td>15.0</td>\n",
              "      <td>205.0</td>\n",
              "      <td>1448</td>\n",
              "      <td>Early Morning</td>\n",
              "      <td>0</td>\n",
              "    </tr>\n",
              "    <tr>\n",
              "      <th>1</th>\n",
              "      <td>January</td>\n",
              "      <td>Thursday</td>\n",
              "      <td>American Airlines Inc.</td>\n",
              "      <td>-8.0</td>\n",
              "      <td>12.0</td>\n",
              "      <td>14.0</td>\n",
              "      <td>280.0</td>\n",
              "      <td>2330</td>\n",
              "      <td>Morning</td>\n",
              "      <td>0</td>\n",
              "    </tr>\n",
              "    <tr>\n",
              "      <th>2</th>\n",
              "      <td>January</td>\n",
              "      <td>Thursday</td>\n",
              "      <td>US Airways Inc.</td>\n",
              "      <td>-2.0</td>\n",
              "      <td>16.0</td>\n",
              "      <td>34.0</td>\n",
              "      <td>286.0</td>\n",
              "      <td>2296</td>\n",
              "      <td>Morning</td>\n",
              "      <td>0</td>\n",
              "    </tr>\n",
              "    <tr>\n",
              "      <th>3</th>\n",
              "      <td>January</td>\n",
              "      <td>Thursday</td>\n",
              "      <td>American Airlines Inc.</td>\n",
              "      <td>-5.0</td>\n",
              "      <td>15.0</td>\n",
              "      <td>30.0</td>\n",
              "      <td>285.0</td>\n",
              "      <td>2342</td>\n",
              "      <td>Morning</td>\n",
              "      <td>0</td>\n",
              "    </tr>\n",
              "    <tr>\n",
              "      <th>4</th>\n",
              "      <td>January</td>\n",
              "      <td>Thursday</td>\n",
              "      <td>Alaska Airlines Inc.</td>\n",
              "      <td>-1.0</td>\n",
              "      <td>11.0</td>\n",
              "      <td>35.0</td>\n",
              "      <td>235.0</td>\n",
              "      <td>1448</td>\n",
              "      <td>Early Morning</td>\n",
              "      <td>0</td>\n",
              "    </tr>\n",
              "  </tbody>\n",
              "</table>\n",
              "</div>"
            ],
            "text/plain": [
              "  MONTH    DAY_OF_WEEK AIRLINE                  DEPARTURE_DELAY  TAXI_OUT  \\\n",
              "0  January  Thursday    Alaska Airlines Inc.   -11.0             21.0       \n",
              "1  January  Thursday    American Airlines Inc. -8.0              12.0       \n",
              "2  January  Thursday    US Airways Inc.        -2.0              16.0       \n",
              "3  January  Thursday    American Airlines Inc. -5.0              15.0       \n",
              "4  January  Thursday    Alaska Airlines Inc.   -1.0              11.0       \n",
              "\n",
              "   WHEELS_OFF  SCHEDULED_TIME  DISTANCE SCHEDULED_ARRIVAL  ARRIVAL_DELAY  \n",
              "0  15.0        205.0           1448      Early Morning     0              \n",
              "1  14.0        280.0           2330      Morning           0              \n",
              "2  34.0        286.0           2296      Morning           0              \n",
              "3  30.0        285.0           2342      Morning           0              \n",
              "4  35.0        235.0           1448      Early Morning     0              "
            ]
          },
          "metadata": {
            "tags": []
          },
          "execution_count": 57
        }
      ]
    },
    {
      "cell_type": "code",
      "metadata": {
        "id": "1uz_-ImqtT_r",
        "colab_type": "code",
        "colab": {}
      },
      "source": [
        ""
      ],
      "execution_count": 0,
      "outputs": []
    },
    {
      "cell_type": "markdown",
      "metadata": {
        "colab_type": "text",
        "id": "WHfznK5AtVWd"
      },
      "source": [
        "## Get Dummies for Categorical Features"
      ]
    },
    {
      "cell_type": "code",
      "metadata": {
        "id": "CEfnLRSItfol",
        "colab_type": "code",
        "colab": {}
      },
      "source": [
        "final_flights_df = pd.get_dummies(final_flights_df)"
      ],
      "execution_count": 0,
      "outputs": []
    },
    {
      "cell_type": "code",
      "metadata": {
        "id": "554QBfoDtfys",
        "colab_type": "code",
        "outputId": "e952c6fa-9d4f-423a-bc98-6bbfae76985a",
        "colab": {
          "base_uri": "https://localhost:8080/",
          "height": 249
        }
      },
      "source": [
        "final_flights_df.head()"
      ],
      "execution_count": 0,
      "outputs": [
        {
          "output_type": "execute_result",
          "data": {
            "text/html": [
              "<div>\n",
              "<style scoped>\n",
              "    .dataframe tbody tr th:only-of-type {\n",
              "        vertical-align: middle;\n",
              "    }\n",
              "\n",
              "    .dataframe tbody tr th {\n",
              "        vertical-align: top;\n",
              "    }\n",
              "\n",
              "    .dataframe thead th {\n",
              "        text-align: right;\n",
              "    }\n",
              "</style>\n",
              "<table border=\"1\" class=\"dataframe\">\n",
              "  <thead>\n",
              "    <tr style=\"text-align: left;\">\n",
              "      <th></th>\n",
              "      <th>DEPARTURE_DELAY</th>\n",
              "      <th>TAXI_OUT</th>\n",
              "      <th>WHEELS_OFF</th>\n",
              "      <th>SCHEDULED_TIME</th>\n",
              "      <th>DISTANCE</th>\n",
              "      <th>ARRIVAL_DELAY</th>\n",
              "      <th>MONTH_April</th>\n",
              "      <th>MONTH_August</th>\n",
              "      <th>MONTH_December</th>\n",
              "      <th>MONTH_February</th>\n",
              "      <th>MONTH_January</th>\n",
              "      <th>MONTH_July</th>\n",
              "      <th>MONTH_June</th>\n",
              "      <th>MONTH_March</th>\n",
              "      <th>MONTH_May</th>\n",
              "      <th>MONTH_November</th>\n",
              "      <th>MONTH_October</th>\n",
              "      <th>MONTH_September</th>\n",
              "      <th>DAY_OF_WEEK_Friday</th>\n",
              "      <th>DAY_OF_WEEK_Monday</th>\n",
              "      <th>DAY_OF_WEEK_Saturday</th>\n",
              "      <th>DAY_OF_WEEK_Sunday</th>\n",
              "      <th>DAY_OF_WEEK_Thursday</th>\n",
              "      <th>DAY_OF_WEEK_Tuesday</th>\n",
              "      <th>DAY_OF_WEEK_Wednesday</th>\n",
              "      <th>AIRLINE_Alaska Airlines Inc.</th>\n",
              "      <th>AIRLINE_American Airlines Inc.</th>\n",
              "      <th>AIRLINE_American Eagle Airlines Inc.</th>\n",
              "      <th>AIRLINE_Atlantic Southeast Airlines</th>\n",
              "      <th>AIRLINE_Delta Air Lines Inc.</th>\n",
              "      <th>AIRLINE_Frontier Airlines Inc.</th>\n",
              "      <th>AIRLINE_Hawaiian Airlines Inc.</th>\n",
              "      <th>AIRLINE_JetBlue Airways</th>\n",
              "      <th>AIRLINE_Skywest Airlines Inc.</th>\n",
              "      <th>AIRLINE_Southwest Airlines Co.</th>\n",
              "      <th>AIRLINE_Spirit Air Lines</th>\n",
              "      <th>AIRLINE_US Airways Inc.</th>\n",
              "      <th>AIRLINE_United Air Lines Inc.</th>\n",
              "      <th>AIRLINE_Virgin America</th>\n",
              "      <th>SCHEDULED_ARRIVAL_Afternoon</th>\n",
              "      <th>SCHEDULED_ARRIVAL_Early Morning</th>\n",
              "      <th>SCHEDULED_ARRIVAL_Evening</th>\n",
              "      <th>SCHEDULED_ARRIVAL_Morning</th>\n",
              "    </tr>\n",
              "  </thead>\n",
              "  <tbody>\n",
              "    <tr>\n",
              "      <th>0</th>\n",
              "      <td>-11.0</td>\n",
              "      <td>21.0</td>\n",
              "      <td>15.0</td>\n",
              "      <td>205.0</td>\n",
              "      <td>1448</td>\n",
              "      <td>0</td>\n",
              "      <td>0</td>\n",
              "      <td>0</td>\n",
              "      <td>0</td>\n",
              "      <td>0</td>\n",
              "      <td>1</td>\n",
              "      <td>0</td>\n",
              "      <td>0</td>\n",
              "      <td>0</td>\n",
              "      <td>0</td>\n",
              "      <td>0</td>\n",
              "      <td>0</td>\n",
              "      <td>0</td>\n",
              "      <td>0</td>\n",
              "      <td>0</td>\n",
              "      <td>0</td>\n",
              "      <td>0</td>\n",
              "      <td>1</td>\n",
              "      <td>0</td>\n",
              "      <td>0</td>\n",
              "      <td>1</td>\n",
              "      <td>0</td>\n",
              "      <td>0</td>\n",
              "      <td>0</td>\n",
              "      <td>0</td>\n",
              "      <td>0</td>\n",
              "      <td>0</td>\n",
              "      <td>0</td>\n",
              "      <td>0</td>\n",
              "      <td>0</td>\n",
              "      <td>0</td>\n",
              "      <td>0</td>\n",
              "      <td>0</td>\n",
              "      <td>0</td>\n",
              "      <td>0</td>\n",
              "      <td>1</td>\n",
              "      <td>0</td>\n",
              "      <td>0</td>\n",
              "    </tr>\n",
              "    <tr>\n",
              "      <th>1</th>\n",
              "      <td>-8.0</td>\n",
              "      <td>12.0</td>\n",
              "      <td>14.0</td>\n",
              "      <td>280.0</td>\n",
              "      <td>2330</td>\n",
              "      <td>0</td>\n",
              "      <td>0</td>\n",
              "      <td>0</td>\n",
              "      <td>0</td>\n",
              "      <td>0</td>\n",
              "      <td>1</td>\n",
              "      <td>0</td>\n",
              "      <td>0</td>\n",
              "      <td>0</td>\n",
              "      <td>0</td>\n",
              "      <td>0</td>\n",
              "      <td>0</td>\n",
              "      <td>0</td>\n",
              "      <td>0</td>\n",
              "      <td>0</td>\n",
              "      <td>0</td>\n",
              "      <td>0</td>\n",
              "      <td>1</td>\n",
              "      <td>0</td>\n",
              "      <td>0</td>\n",
              "      <td>0</td>\n",
              "      <td>1</td>\n",
              "      <td>0</td>\n",
              "      <td>0</td>\n",
              "      <td>0</td>\n",
              "      <td>0</td>\n",
              "      <td>0</td>\n",
              "      <td>0</td>\n",
              "      <td>0</td>\n",
              "      <td>0</td>\n",
              "      <td>0</td>\n",
              "      <td>0</td>\n",
              "      <td>0</td>\n",
              "      <td>0</td>\n",
              "      <td>0</td>\n",
              "      <td>0</td>\n",
              "      <td>0</td>\n",
              "      <td>1</td>\n",
              "    </tr>\n",
              "    <tr>\n",
              "      <th>2</th>\n",
              "      <td>-2.0</td>\n",
              "      <td>16.0</td>\n",
              "      <td>34.0</td>\n",
              "      <td>286.0</td>\n",
              "      <td>2296</td>\n",
              "      <td>0</td>\n",
              "      <td>0</td>\n",
              "      <td>0</td>\n",
              "      <td>0</td>\n",
              "      <td>0</td>\n",
              "      <td>1</td>\n",
              "      <td>0</td>\n",
              "      <td>0</td>\n",
              "      <td>0</td>\n",
              "      <td>0</td>\n",
              "      <td>0</td>\n",
              "      <td>0</td>\n",
              "      <td>0</td>\n",
              "      <td>0</td>\n",
              "      <td>0</td>\n",
              "      <td>0</td>\n",
              "      <td>0</td>\n",
              "      <td>1</td>\n",
              "      <td>0</td>\n",
              "      <td>0</td>\n",
              "      <td>0</td>\n",
              "      <td>0</td>\n",
              "      <td>0</td>\n",
              "      <td>0</td>\n",
              "      <td>0</td>\n",
              "      <td>0</td>\n",
              "      <td>0</td>\n",
              "      <td>0</td>\n",
              "      <td>0</td>\n",
              "      <td>0</td>\n",
              "      <td>0</td>\n",
              "      <td>1</td>\n",
              "      <td>0</td>\n",
              "      <td>0</td>\n",
              "      <td>0</td>\n",
              "      <td>0</td>\n",
              "      <td>0</td>\n",
              "      <td>1</td>\n",
              "    </tr>\n",
              "    <tr>\n",
              "      <th>3</th>\n",
              "      <td>-5.0</td>\n",
              "      <td>15.0</td>\n",
              "      <td>30.0</td>\n",
              "      <td>285.0</td>\n",
              "      <td>2342</td>\n",
              "      <td>0</td>\n",
              "      <td>0</td>\n",
              "      <td>0</td>\n",
              "      <td>0</td>\n",
              "      <td>0</td>\n",
              "      <td>1</td>\n",
              "      <td>0</td>\n",
              "      <td>0</td>\n",
              "      <td>0</td>\n",
              "      <td>0</td>\n",
              "      <td>0</td>\n",
              "      <td>0</td>\n",
              "      <td>0</td>\n",
              "      <td>0</td>\n",
              "      <td>0</td>\n",
              "      <td>0</td>\n",
              "      <td>0</td>\n",
              "      <td>1</td>\n",
              "      <td>0</td>\n",
              "      <td>0</td>\n",
              "      <td>0</td>\n",
              "      <td>1</td>\n",
              "      <td>0</td>\n",
              "      <td>0</td>\n",
              "      <td>0</td>\n",
              "      <td>0</td>\n",
              "      <td>0</td>\n",
              "      <td>0</td>\n",
              "      <td>0</td>\n",
              "      <td>0</td>\n",
              "      <td>0</td>\n",
              "      <td>0</td>\n",
              "      <td>0</td>\n",
              "      <td>0</td>\n",
              "      <td>0</td>\n",
              "      <td>0</td>\n",
              "      <td>0</td>\n",
              "      <td>1</td>\n",
              "    </tr>\n",
              "    <tr>\n",
              "      <th>4</th>\n",
              "      <td>-1.0</td>\n",
              "      <td>11.0</td>\n",
              "      <td>35.0</td>\n",
              "      <td>235.0</td>\n",
              "      <td>1448</td>\n",
              "      <td>0</td>\n",
              "      <td>0</td>\n",
              "      <td>0</td>\n",
              "      <td>0</td>\n",
              "      <td>0</td>\n",
              "      <td>1</td>\n",
              "      <td>0</td>\n",
              "      <td>0</td>\n",
              "      <td>0</td>\n",
              "      <td>0</td>\n",
              "      <td>0</td>\n",
              "      <td>0</td>\n",
              "      <td>0</td>\n",
              "      <td>0</td>\n",
              "      <td>0</td>\n",
              "      <td>0</td>\n",
              "      <td>0</td>\n",
              "      <td>1</td>\n",
              "      <td>0</td>\n",
              "      <td>0</td>\n",
              "      <td>1</td>\n",
              "      <td>0</td>\n",
              "      <td>0</td>\n",
              "      <td>0</td>\n",
              "      <td>0</td>\n",
              "      <td>0</td>\n",
              "      <td>0</td>\n",
              "      <td>0</td>\n",
              "      <td>0</td>\n",
              "      <td>0</td>\n",
              "      <td>0</td>\n",
              "      <td>0</td>\n",
              "      <td>0</td>\n",
              "      <td>0</td>\n",
              "      <td>0</td>\n",
              "      <td>1</td>\n",
              "      <td>0</td>\n",
              "      <td>0</td>\n",
              "    </tr>\n",
              "  </tbody>\n",
              "</table>\n",
              "</div>"
            ],
            "text/plain": [
              "   DEPARTURE_DELAY  TAXI_OUT  WHEELS_OFF  SCHEDULED_TIME  DISTANCE  \\\n",
              "0 -11.0             21.0      15.0        205.0           1448       \n",
              "1 -8.0              12.0      14.0        280.0           2330       \n",
              "2 -2.0              16.0      34.0        286.0           2296       \n",
              "3 -5.0              15.0      30.0        285.0           2342       \n",
              "4 -1.0              11.0      35.0        235.0           1448       \n",
              "\n",
              "   ARRIVAL_DELAY  MONTH_April  MONTH_August  MONTH_December  MONTH_February  \\\n",
              "0  0              0            0             0               0                \n",
              "1  0              0            0             0               0                \n",
              "2  0              0            0             0               0                \n",
              "3  0              0            0             0               0                \n",
              "4  0              0            0             0               0                \n",
              "\n",
              "   MONTH_January  MONTH_July  MONTH_June  MONTH_March  MONTH_May  \\\n",
              "0  1              0           0           0            0           \n",
              "1  1              0           0           0            0           \n",
              "2  1              0           0           0            0           \n",
              "3  1              0           0           0            0           \n",
              "4  1              0           0           0            0           \n",
              "\n",
              "   MONTH_November  MONTH_October  MONTH_September  DAY_OF_WEEK_Friday  \\\n",
              "0  0               0              0                0                    \n",
              "1  0               0              0                0                    \n",
              "2  0               0              0                0                    \n",
              "3  0               0              0                0                    \n",
              "4  0               0              0                0                    \n",
              "\n",
              "   DAY_OF_WEEK_Monday  DAY_OF_WEEK_Saturday  DAY_OF_WEEK_Sunday  \\\n",
              "0  0                   0                     0                    \n",
              "1  0                   0                     0                    \n",
              "2  0                   0                     0                    \n",
              "3  0                   0                     0                    \n",
              "4  0                   0                     0                    \n",
              "\n",
              "   DAY_OF_WEEK_Thursday  DAY_OF_WEEK_Tuesday  DAY_OF_WEEK_Wednesday  \\\n",
              "0  1                     0                    0                       \n",
              "1  1                     0                    0                       \n",
              "2  1                     0                    0                       \n",
              "3  1                     0                    0                       \n",
              "4  1                     0                    0                       \n",
              "\n",
              "   AIRLINE_Alaska Airlines Inc.  AIRLINE_American Airlines Inc.  \\\n",
              "0  1                             0                                \n",
              "1  0                             1                                \n",
              "2  0                             0                                \n",
              "3  0                             1                                \n",
              "4  1                             0                                \n",
              "\n",
              "   AIRLINE_American Eagle Airlines Inc.  AIRLINE_Atlantic Southeast Airlines  \\\n",
              "0  0                                     0                                     \n",
              "1  0                                     0                                     \n",
              "2  0                                     0                                     \n",
              "3  0                                     0                                     \n",
              "4  0                                     0                                     \n",
              "\n",
              "   AIRLINE_Delta Air Lines Inc.  AIRLINE_Frontier Airlines Inc.  \\\n",
              "0  0                             0                                \n",
              "1  0                             0                                \n",
              "2  0                             0                                \n",
              "3  0                             0                                \n",
              "4  0                             0                                \n",
              "\n",
              "   AIRLINE_Hawaiian Airlines Inc.  AIRLINE_JetBlue Airways  \\\n",
              "0  0                               0                         \n",
              "1  0                               0                         \n",
              "2  0                               0                         \n",
              "3  0                               0                         \n",
              "4  0                               0                         \n",
              "\n",
              "   AIRLINE_Skywest Airlines Inc.  AIRLINE_Southwest Airlines Co.  \\\n",
              "0  0                              0                                \n",
              "1  0                              0                                \n",
              "2  0                              0                                \n",
              "3  0                              0                                \n",
              "4  0                              0                                \n",
              "\n",
              "   AIRLINE_Spirit Air Lines  AIRLINE_US Airways Inc.  \\\n",
              "0  0                         0                         \n",
              "1  0                         0                         \n",
              "2  0                         1                         \n",
              "3  0                         0                         \n",
              "4  0                         0                         \n",
              "\n",
              "   AIRLINE_United Air Lines Inc.  AIRLINE_Virgin America  \\\n",
              "0  0                              0                        \n",
              "1  0                              0                        \n",
              "2  0                              0                        \n",
              "3  0                              0                        \n",
              "4  0                              0                        \n",
              "\n",
              "   SCHEDULED_ARRIVAL_Afternoon  SCHEDULED_ARRIVAL_Early Morning  \\\n",
              "0  0                            1                                 \n",
              "1  0                            0                                 \n",
              "2  0                            0                                 \n",
              "3  0                            0                                 \n",
              "4  0                            1                                 \n",
              "\n",
              "   SCHEDULED_ARRIVAL_Evening  SCHEDULED_ARRIVAL_Morning  \n",
              "0  0                          0                          \n",
              "1  0                          1                          \n",
              "2  0                          1                          \n",
              "3  0                          1                          \n",
              "4  0                          0                          "
            ]
          },
          "metadata": {
            "tags": []
          },
          "execution_count": 59
        }
      ]
    },
    {
      "cell_type": "code",
      "metadata": {
        "id": "pDMuhFIwtf31",
        "colab_type": "code",
        "colab": {}
      },
      "source": [
        ""
      ],
      "execution_count": 0,
      "outputs": []
    },
    {
      "cell_type": "markdown",
      "metadata": {
        "id": "p1x4wU_FROdf",
        "colab_type": "text"
      },
      "source": [
        "## Train Test Split"
      ]
    },
    {
      "cell_type": "code",
      "metadata": {
        "id": "qiHPRarxRQ5A",
        "colab_type": "code",
        "colab": {}
      },
      "source": [
        "train_set,test_set = train_test_split(final_flights_df, test_size = 0.3, random_state = 42) "
      ],
      "execution_count": 0,
      "outputs": []
    },
    {
      "cell_type": "code",
      "metadata": {
        "id": "vV_TMFdERX8-",
        "colab_type": "code",
        "outputId": "bc944536-c7c0-4ad6-b6be-6de90c526cd8",
        "colab": {
          "base_uri": "https://localhost:8080/",
          "height": 34
        }
      },
      "source": [
        "print(len(train_set), \"train +\", len(test_set), \"test\")"
      ],
      "execution_count": 0,
      "outputs": [
        {
          "output_type": "stream",
          "text": [
            "3999805 train + 1714203 test\n"
          ],
          "name": "stdout"
        }
      ]
    },
    {
      "cell_type": "code",
      "metadata": {
        "id": "hHLsiutKrjxB",
        "colab_type": "code",
        "outputId": "45ebfed9-45ea-4295-a880-29f5c2bae48d",
        "colab": {
          "base_uri": "https://localhost:8080/",
          "height": 249
        }
      },
      "source": [
        "test_set.head()"
      ],
      "execution_count": 0,
      "outputs": [
        {
          "output_type": "execute_result",
          "data": {
            "text/html": [
              "<div>\n",
              "<style scoped>\n",
              "    .dataframe tbody tr th:only-of-type {\n",
              "        vertical-align: middle;\n",
              "    }\n",
              "\n",
              "    .dataframe tbody tr th {\n",
              "        vertical-align: top;\n",
              "    }\n",
              "\n",
              "    .dataframe thead th {\n",
              "        text-align: right;\n",
              "    }\n",
              "</style>\n",
              "<table border=\"1\" class=\"dataframe\">\n",
              "  <thead>\n",
              "    <tr style=\"text-align: left;\">\n",
              "      <th></th>\n",
              "      <th>DEPARTURE_DELAY</th>\n",
              "      <th>TAXI_OUT</th>\n",
              "      <th>WHEELS_OFF</th>\n",
              "      <th>SCHEDULED_TIME</th>\n",
              "      <th>DISTANCE</th>\n",
              "      <th>ARRIVAL_DELAY</th>\n",
              "      <th>MONTH_April</th>\n",
              "      <th>MONTH_August</th>\n",
              "      <th>MONTH_December</th>\n",
              "      <th>MONTH_February</th>\n",
              "      <th>MONTH_January</th>\n",
              "      <th>MONTH_July</th>\n",
              "      <th>MONTH_June</th>\n",
              "      <th>MONTH_March</th>\n",
              "      <th>MONTH_May</th>\n",
              "      <th>MONTH_November</th>\n",
              "      <th>MONTH_October</th>\n",
              "      <th>MONTH_September</th>\n",
              "      <th>DAY_OF_WEEK_Friday</th>\n",
              "      <th>DAY_OF_WEEK_Monday</th>\n",
              "      <th>DAY_OF_WEEK_Saturday</th>\n",
              "      <th>DAY_OF_WEEK_Sunday</th>\n",
              "      <th>DAY_OF_WEEK_Thursday</th>\n",
              "      <th>DAY_OF_WEEK_Tuesday</th>\n",
              "      <th>DAY_OF_WEEK_Wednesday</th>\n",
              "      <th>AIRLINE_Alaska Airlines Inc.</th>\n",
              "      <th>AIRLINE_American Airlines Inc.</th>\n",
              "      <th>AIRLINE_American Eagle Airlines Inc.</th>\n",
              "      <th>AIRLINE_Atlantic Southeast Airlines</th>\n",
              "      <th>AIRLINE_Delta Air Lines Inc.</th>\n",
              "      <th>AIRLINE_Frontier Airlines Inc.</th>\n",
              "      <th>AIRLINE_Hawaiian Airlines Inc.</th>\n",
              "      <th>AIRLINE_JetBlue Airways</th>\n",
              "      <th>AIRLINE_Skywest Airlines Inc.</th>\n",
              "      <th>AIRLINE_Southwest Airlines Co.</th>\n",
              "      <th>AIRLINE_Spirit Air Lines</th>\n",
              "      <th>AIRLINE_US Airways Inc.</th>\n",
              "      <th>AIRLINE_United Air Lines Inc.</th>\n",
              "      <th>AIRLINE_Virgin America</th>\n",
              "      <th>SCHEDULED_ARRIVAL_Afternoon</th>\n",
              "      <th>SCHEDULED_ARRIVAL_Early Morning</th>\n",
              "      <th>SCHEDULED_ARRIVAL_Evening</th>\n",
              "      <th>SCHEDULED_ARRIVAL_Morning</th>\n",
              "    </tr>\n",
              "  </thead>\n",
              "  <tbody>\n",
              "    <tr>\n",
              "      <th>3335058</th>\n",
              "      <td>6.0</td>\n",
              "      <td>12.0</td>\n",
              "      <td>1641.0</td>\n",
              "      <td>75.0</td>\n",
              "      <td>318</td>\n",
              "      <td>0</td>\n",
              "      <td>0</td>\n",
              "      <td>0</td>\n",
              "      <td>0</td>\n",
              "      <td>0</td>\n",
              "      <td>0</td>\n",
              "      <td>1</td>\n",
              "      <td>0</td>\n",
              "      <td>0</td>\n",
              "      <td>0</td>\n",
              "      <td>0</td>\n",
              "      <td>0</td>\n",
              "      <td>0</td>\n",
              "      <td>0</td>\n",
              "      <td>1</td>\n",
              "      <td>0</td>\n",
              "      <td>0</td>\n",
              "      <td>0</td>\n",
              "      <td>0</td>\n",
              "      <td>0</td>\n",
              "      <td>0</td>\n",
              "      <td>0</td>\n",
              "      <td>0</td>\n",
              "      <td>0</td>\n",
              "      <td>0</td>\n",
              "      <td>0</td>\n",
              "      <td>0</td>\n",
              "      <td>0</td>\n",
              "      <td>1</td>\n",
              "      <td>0</td>\n",
              "      <td>0</td>\n",
              "      <td>0</td>\n",
              "      <td>0</td>\n",
              "      <td>0</td>\n",
              "      <td>1</td>\n",
              "      <td>0</td>\n",
              "      <td>0</td>\n",
              "      <td>0</td>\n",
              "    </tr>\n",
              "    <tr>\n",
              "      <th>4857110</th>\n",
              "      <td>1.0</td>\n",
              "      <td>13.0</td>\n",
              "      <td>1837.0</td>\n",
              "      <td>165.0</td>\n",
              "      <td>950</td>\n",
              "      <td>0</td>\n",
              "      <td>0</td>\n",
              "      <td>0</td>\n",
              "      <td>0</td>\n",
              "      <td>0</td>\n",
              "      <td>0</td>\n",
              "      <td>0</td>\n",
              "      <td>0</td>\n",
              "      <td>0</td>\n",
              "      <td>0</td>\n",
              "      <td>0</td>\n",
              "      <td>1</td>\n",
              "      <td>0</td>\n",
              "      <td>1</td>\n",
              "      <td>0</td>\n",
              "      <td>0</td>\n",
              "      <td>0</td>\n",
              "      <td>0</td>\n",
              "      <td>0</td>\n",
              "      <td>0</td>\n",
              "      <td>0</td>\n",
              "      <td>0</td>\n",
              "      <td>0</td>\n",
              "      <td>0</td>\n",
              "      <td>1</td>\n",
              "      <td>0</td>\n",
              "      <td>0</td>\n",
              "      <td>0</td>\n",
              "      <td>0</td>\n",
              "      <td>0</td>\n",
              "      <td>0</td>\n",
              "      <td>0</td>\n",
              "      <td>0</td>\n",
              "      <td>0</td>\n",
              "      <td>0</td>\n",
              "      <td>0</td>\n",
              "      <td>1</td>\n",
              "      <td>0</td>\n",
              "    </tr>\n",
              "    <tr>\n",
              "      <th>4454180</th>\n",
              "      <td>8.0</td>\n",
              "      <td>7.0</td>\n",
              "      <td>1205.0</td>\n",
              "      <td>115.0</td>\n",
              "      <td>672</td>\n",
              "      <td>0</td>\n",
              "      <td>0</td>\n",
              "      <td>0</td>\n",
              "      <td>0</td>\n",
              "      <td>0</td>\n",
              "      <td>0</td>\n",
              "      <td>0</td>\n",
              "      <td>0</td>\n",
              "      <td>0</td>\n",
              "      <td>0</td>\n",
              "      <td>0</td>\n",
              "      <td>1</td>\n",
              "      <td>0</td>\n",
              "      <td>0</td>\n",
              "      <td>1</td>\n",
              "      <td>0</td>\n",
              "      <td>0</td>\n",
              "      <td>0</td>\n",
              "      <td>0</td>\n",
              "      <td>0</td>\n",
              "      <td>0</td>\n",
              "      <td>0</td>\n",
              "      <td>0</td>\n",
              "      <td>0</td>\n",
              "      <td>0</td>\n",
              "      <td>0</td>\n",
              "      <td>0</td>\n",
              "      <td>0</td>\n",
              "      <td>0</td>\n",
              "      <td>1</td>\n",
              "      <td>0</td>\n",
              "      <td>0</td>\n",
              "      <td>0</td>\n",
              "      <td>0</td>\n",
              "      <td>1</td>\n",
              "      <td>0</td>\n",
              "      <td>0</td>\n",
              "      <td>0</td>\n",
              "    </tr>\n",
              "    <tr>\n",
              "      <th>5132772</th>\n",
              "      <td>0.0</td>\n",
              "      <td>9.0</td>\n",
              "      <td>1314.0</td>\n",
              "      <td>62.0</td>\n",
              "      <td>214</td>\n",
              "      <td>0</td>\n",
              "      <td>0</td>\n",
              "      <td>0</td>\n",
              "      <td>0</td>\n",
              "      <td>0</td>\n",
              "      <td>0</td>\n",
              "      <td>0</td>\n",
              "      <td>0</td>\n",
              "      <td>0</td>\n",
              "      <td>0</td>\n",
              "      <td>1</td>\n",
              "      <td>0</td>\n",
              "      <td>0</td>\n",
              "      <td>0</td>\n",
              "      <td>0</td>\n",
              "      <td>0</td>\n",
              "      <td>0</td>\n",
              "      <td>0</td>\n",
              "      <td>1</td>\n",
              "      <td>0</td>\n",
              "      <td>0</td>\n",
              "      <td>0</td>\n",
              "      <td>0</td>\n",
              "      <td>0</td>\n",
              "      <td>1</td>\n",
              "      <td>0</td>\n",
              "      <td>0</td>\n",
              "      <td>0</td>\n",
              "      <td>0</td>\n",
              "      <td>0</td>\n",
              "      <td>0</td>\n",
              "      <td>0</td>\n",
              "      <td>0</td>\n",
              "      <td>0</td>\n",
              "      <td>1</td>\n",
              "      <td>0</td>\n",
              "      <td>0</td>\n",
              "      <td>0</td>\n",
              "    </tr>\n",
              "    <tr>\n",
              "      <th>4075015</th>\n",
              "      <td>-6.0</td>\n",
              "      <td>19.0</td>\n",
              "      <td>613.0</td>\n",
              "      <td>60.0</td>\n",
              "      <td>224</td>\n",
              "      <td>0</td>\n",
              "      <td>0</td>\n",
              "      <td>0</td>\n",
              "      <td>0</td>\n",
              "      <td>0</td>\n",
              "      <td>0</td>\n",
              "      <td>0</td>\n",
              "      <td>0</td>\n",
              "      <td>0</td>\n",
              "      <td>0</td>\n",
              "      <td>0</td>\n",
              "      <td>0</td>\n",
              "      <td>1</td>\n",
              "      <td>1</td>\n",
              "      <td>0</td>\n",
              "      <td>0</td>\n",
              "      <td>0</td>\n",
              "      <td>0</td>\n",
              "      <td>0</td>\n",
              "      <td>0</td>\n",
              "      <td>0</td>\n",
              "      <td>0</td>\n",
              "      <td>0</td>\n",
              "      <td>0</td>\n",
              "      <td>0</td>\n",
              "      <td>0</td>\n",
              "      <td>0</td>\n",
              "      <td>0</td>\n",
              "      <td>1</td>\n",
              "      <td>0</td>\n",
              "      <td>0</td>\n",
              "      <td>0</td>\n",
              "      <td>0</td>\n",
              "      <td>0</td>\n",
              "      <td>0</td>\n",
              "      <td>0</td>\n",
              "      <td>0</td>\n",
              "      <td>1</td>\n",
              "    </tr>\n",
              "  </tbody>\n",
              "</table>\n",
              "</div>"
            ],
            "text/plain": [
              "         DEPARTURE_DELAY  TAXI_OUT  WHEELS_OFF  SCHEDULED_TIME  DISTANCE  \\\n",
              "3335058  6.0              12.0      1641.0      75.0            318        \n",
              "4857110  1.0              13.0      1837.0      165.0           950        \n",
              "4454180  8.0              7.0       1205.0      115.0           672        \n",
              "5132772  0.0              9.0       1314.0      62.0            214        \n",
              "4075015 -6.0              19.0      613.0       60.0            224        \n",
              "\n",
              "         ARRIVAL_DELAY  MONTH_April  MONTH_August  MONTH_December  \\\n",
              "3335058  0              0            0             0                \n",
              "4857110  0              0            0             0                \n",
              "4454180  0              0            0             0                \n",
              "5132772  0              0            0             0                \n",
              "4075015  0              0            0             0                \n",
              "\n",
              "         MONTH_February  MONTH_January  MONTH_July  MONTH_June  MONTH_March  \\\n",
              "3335058  0               0              1           0           0             \n",
              "4857110  0               0              0           0           0             \n",
              "4454180  0               0              0           0           0             \n",
              "5132772  0               0              0           0           0             \n",
              "4075015  0               0              0           0           0             \n",
              "\n",
              "         MONTH_May  MONTH_November  MONTH_October  MONTH_September  \\\n",
              "3335058  0          0               0              0                 \n",
              "4857110  0          0               1              0                 \n",
              "4454180  0          0               1              0                 \n",
              "5132772  0          1               0              0                 \n",
              "4075015  0          0               0              1                 \n",
              "\n",
              "         DAY_OF_WEEK_Friday  DAY_OF_WEEK_Monday  DAY_OF_WEEK_Saturday  \\\n",
              "3335058  0                   1                   0                      \n",
              "4857110  1                   0                   0                      \n",
              "4454180  0                   1                   0                      \n",
              "5132772  0                   0                   0                      \n",
              "4075015  1                   0                   0                      \n",
              "\n",
              "         DAY_OF_WEEK_Sunday  DAY_OF_WEEK_Thursday  DAY_OF_WEEK_Tuesday  \\\n",
              "3335058  0                   0                     0                     \n",
              "4857110  0                   0                     0                     \n",
              "4454180  0                   0                     0                     \n",
              "5132772  0                   0                     1                     \n",
              "4075015  0                   0                     0                     \n",
              "\n",
              "         DAY_OF_WEEK_Wednesday  AIRLINE_Alaska Airlines Inc.  \\\n",
              "3335058  0                      0                              \n",
              "4857110  0                      0                              \n",
              "4454180  0                      0                              \n",
              "5132772  0                      0                              \n",
              "4075015  0                      0                              \n",
              "\n",
              "         AIRLINE_American Airlines Inc.  AIRLINE_American Eagle Airlines Inc.  \\\n",
              "3335058  0                               0                                      \n",
              "4857110  0                               0                                      \n",
              "4454180  0                               0                                      \n",
              "5132772  0                               0                                      \n",
              "4075015  0                               0                                      \n",
              "\n",
              "         AIRLINE_Atlantic Southeast Airlines  AIRLINE_Delta Air Lines Inc.  \\\n",
              "3335058  0                                    0                              \n",
              "4857110  0                                    1                              \n",
              "4454180  0                                    0                              \n",
              "5132772  0                                    1                              \n",
              "4075015  0                                    0                              \n",
              "\n",
              "         AIRLINE_Frontier Airlines Inc.  AIRLINE_Hawaiian Airlines Inc.  \\\n",
              "3335058  0                               0                                \n",
              "4857110  0                               0                                \n",
              "4454180  0                               0                                \n",
              "5132772  0                               0                                \n",
              "4075015  0                               0                                \n",
              "\n",
              "         AIRLINE_JetBlue Airways  AIRLINE_Skywest Airlines Inc.  \\\n",
              "3335058  0                        1                               \n",
              "4857110  0                        0                               \n",
              "4454180  0                        0                               \n",
              "5132772  0                        0                               \n",
              "4075015  0                        1                               \n",
              "\n",
              "         AIRLINE_Southwest Airlines Co.  AIRLINE_Spirit Air Lines  \\\n",
              "3335058  0                               0                          \n",
              "4857110  0                               0                          \n",
              "4454180  1                               0                          \n",
              "5132772  0                               0                          \n",
              "4075015  0                               0                          \n",
              "\n",
              "         AIRLINE_US Airways Inc.  AIRLINE_United Air Lines Inc.  \\\n",
              "3335058  0                        0                               \n",
              "4857110  0                        0                               \n",
              "4454180  0                        0                               \n",
              "5132772  0                        0                               \n",
              "4075015  0                        0                               \n",
              "\n",
              "         AIRLINE_Virgin America  SCHEDULED_ARRIVAL_Afternoon  \\\n",
              "3335058  0                       1                             \n",
              "4857110  0                       0                             \n",
              "4454180  0                       1                             \n",
              "5132772  0                       1                             \n",
              "4075015  0                       0                             \n",
              "\n",
              "         SCHEDULED_ARRIVAL_Early Morning  SCHEDULED_ARRIVAL_Evening  \\\n",
              "3335058  0                                0                           \n",
              "4857110  0                                1                           \n",
              "4454180  0                                0                           \n",
              "5132772  0                                0                           \n",
              "4075015  0                                0                           \n",
              "\n",
              "         SCHEDULED_ARRIVAL_Morning  \n",
              "3335058  0                          \n",
              "4857110  0                          \n",
              "4454180  0                          \n",
              "5132772  0                          \n",
              "4075015  1                          "
            ]
          },
          "metadata": {
            "tags": []
          },
          "execution_count": 62
        }
      ]
    },
    {
      "cell_type": "markdown",
      "metadata": {
        "id": "6x0wwpebSa3O",
        "colab_type": "text"
      },
      "source": [
        "### Features"
      ]
    },
    {
      "cell_type": "code",
      "metadata": {
        "id": "y1t-4sQ2RwJB",
        "colab_type": "code",
        "colab": {}
      },
      "source": [
        "target = 'ARRIVAL_DELAY'\n",
        "features = list(train_set.columns)\n",
        "features = [f for f in features if f!=target]"
      ],
      "execution_count": 0,
      "outputs": []
    },
    {
      "cell_type": "code",
      "metadata": {
        "id": "A5czN13uSuZ2",
        "colab_type": "code",
        "colab": {}
      },
      "source": [
        "X_tr = train_set[features]\n",
        "y_tr = train_set[[target]]\n",
        "\n",
        "X_te = test_set[features]\n",
        "y_te = test_set[[target]]"
      ],
      "execution_count": 0,
      "outputs": []
    },
    {
      "cell_type": "code",
      "metadata": {
        "id": "Mg7nDPV_SxvU",
        "colab_type": "code",
        "outputId": "5e8e711e-b0ed-4467-e235-2510d0fcd1b9",
        "colab": {
          "base_uri": "https://localhost:8080/",
          "height": 87
        }
      },
      "source": [
        "print('X_tr ',X_tr.shape)\n",
        "print('y_tr ',y_tr.shape)\n",
        "print('X_te ',X_te.shape)\n",
        "print('y_te ',y_te.shape)"
      ],
      "execution_count": 0,
      "outputs": [
        {
          "output_type": "stream",
          "text": [
            "X_tr  (3999805, 42)\n",
            "y_tr  (3999805, 1)\n",
            "X_te  (1714203, 42)\n",
            "y_te  (1714203, 1)\n"
          ],
          "name": "stdout"
        }
      ]
    },
    {
      "cell_type": "code",
      "metadata": {
        "id": "bUjYl__Cv5RZ",
        "colab_type": "code",
        "colab": {}
      },
      "source": [
        ""
      ],
      "execution_count": 0,
      "outputs": []
    },
    {
      "cell_type": "markdown",
      "metadata": {
        "colab_type": "text",
        "id": "2orJwU_5uYr2"
      },
      "source": [
        "## 4. Logistics Regression\n",
        "\n",
        "Fit the data into 1st model"
      ]
    },
    {
      "cell_type": "code",
      "metadata": {
        "id": "RqVl7N24umDF",
        "colab_type": "code",
        "outputId": "07edc89f-fd00-4359-a217-c16e94c81d33",
        "colab": {
          "base_uri": "https://localhost:8080/",
          "height": 52
        }
      },
      "source": [
        "grid={ \"penalty\":[\"l1\"]} # l1 lasso l2 ridge\n",
        "logreg=LogisticRegression()\n",
        "logreg_cv_l1=GridSearchCV(logreg,grid,cv=5)\n",
        "\n",
        "logreg_cv_l1.fit(X_tr, y_tr)\n",
        "\n",
        "print(\"tuned hpyerparameters :(best parameters) \",logreg_cv_l1.best_params_)\n",
        "print(\"accuracy :\",logreg_cv_l1.best_score_)"
      ],
      "execution_count": 0,
      "outputs": [
        {
          "output_type": "stream",
          "text": [
            "tuned hpyerparameters :(best parameters)  {'penalty': 'l1'}\n",
            "accuracy : 0.9464153877501528\n"
          ],
          "name": "stdout"
        }
      ]
    },
    {
      "cell_type": "code",
      "metadata": {
        "id": "EfweYL-of-79",
        "colab_type": "code",
        "outputId": "4cbdee24-5b15-4683-9cd7-dda483704f93",
        "colab": {
          "base_uri": "https://localhost:8080/",
          "height": 52
        }
      },
      "source": [
        "grid={ \"penalty\":[\"l2\"]} # l1 lasso l2 ridge\n",
        "logreg=LogisticRegression()\n",
        "logreg_cv_l2=GridSearchCV(logreg,grid,cv=5)\n",
        "\n",
        "logreg_cv_l2.fit(X_tr, y_tr)\n",
        "\n",
        "print(\"tuned hpyerparameters :(best parameters) \",logreg_cv_l2.best_params_)\n",
        "print(\"accuracy :\",logreg_cv_l2.best_score_)"
      ],
      "execution_count": 0,
      "outputs": [
        {
          "output_type": "stream",
          "text": [
            "tuned hpyerparameters :(best parameters)  {'penalty': 'l2'}\n",
            "accuracy : 0.9465263931616666\n"
          ],
          "name": "stdout"
        }
      ]
    },
    {
      "cell_type": "code",
      "metadata": {
        "id": "6UDRMYzFWup5",
        "colab_type": "code",
        "colab": {}
      },
      "source": [
        "#grid={\"C\":np.logspace(-3,3,7), \"penalty\":[\"l1\"]} # l1 lasso l2 ridge"
      ],
      "execution_count": 0,
      "outputs": []
    },
    {
      "cell_type": "code",
      "metadata": {
        "id": "Fwn7bNtuumGJ",
        "colab_type": "code",
        "outputId": "b5e6dc4f-83cb-4152-fbed-64e1fe744386",
        "colab": {
          "base_uri": "https://localhost:8080/",
          "height": 52
        }
      },
      "source": [
        "y_pred_proba_l1 = logreg_cv_l1.predict_proba(X_te)[:,1]\n",
        "test_roc_auc_l1 = roc_auc_score(y_te, y_pred_proba_l1)\n",
        "\n",
        "y_pred_proba_l2 = logreg_cv_l2.predict_proba(X_te)[:,1]\n",
        "test_roc_auc_l2 = roc_auc_score(y_te, y_pred_proba_l2)\n",
        "\n",
        "print('Test set ROC AUC score from L1 Lasso section is: {:.3f}'.format(test_roc_auc_l1))\n",
        "print('Test set ROC AUC score from L2 Ridge section is: {:.3f}'.format(test_roc_auc_l2))\n"
      ],
      "execution_count": 0,
      "outputs": [
        {
          "output_type": "stream",
          "text": [
            "Test set ROC AUC score from L1 Lasso section is: 0.961\n",
            "Test set ROC AUC score from L2 Ridge section is: 0.961\n"
          ],
          "name": "stdout"
        }
      ]
    },
    {
      "cell_type": "code",
      "metadata": {
        "id": "WcUdWgI50k5H",
        "colab_type": "code",
        "outputId": "6b5a1684-f06b-4acd-f880-e92fa0f03d06",
        "colab": {
          "base_uri": "https://localhost:8080/",
          "height": 302
        }
      },
      "source": [
        "y_pred_l1 = logreg_cv_l1.predict(X_te)\n",
        "cm = confusion_matrix(y_pred_l1, y_te)\n",
        "ax= plt.subplot()\n",
        "sns.heatmap(cm, annot=True, ax = ax, cmap=\"YlGnBu\"); #annot=True to annotate cells\n",
        "\n",
        "# labels, title and ticks\n",
        "ax.set_xlabel('Predicted labels');ax.set_ylabel('True labels'); \n",
        "ax.set_title('Confusion Matrix (Stochastic Gradient Boosting)'); \n",
        "ax.xaxis.set_ticklabels(['Not Delayed', 'Delayed']); ax.yaxis.set_ticklabels(['Not Delayed', 'Delayed']);"
      ],
      "execution_count": 0,
      "outputs": [
        {
          "output_type": "display_data",
          "data": {
            "image/png": "[encoded data removed]",
            "text/plain": [
              "<Figure size 432x288 with 2 Axes>"
            ]
          },
          "metadata": {
            "tags": []
          }
        }
      ]
    },
    {
      "cell_type": "code",
      "metadata": {
        "id": "YxjttAifumJB",
        "colab_type": "code",
        "outputId": "b6372e2b-64df-4d40-b9c5-27c550a7f873",
        "colab": {
          "base_uri": "https://localhost:8080/",
          "height": 1000
        }
      },
      "source": [
        "coefficients = pd.concat([pd.DataFrame(X_tr.columns),pd.DataFrame(np.transpose(logreg_cv_l1.best_estimator_.coef_  ))], axis = 1)\n",
        "coefficients"
      ],
      "execution_count": 0,
      "outputs": [
        {
          "output_type": "execute_result",
          "data": {
            "text/html": [
              "<div>\n",
              "<style scoped>\n",
              "    .dataframe tbody tr th:only-of-type {\n",
              "        vertical-align: middle;\n",
              "    }\n",
              "\n",
              "    .dataframe tbody tr th {\n",
              "        vertical-align: top;\n",
              "    }\n",
              "\n",
              "    .dataframe thead th {\n",
              "        text-align: right;\n",
              "    }\n",
              "</style>\n",
              "<table border=\"1\" class=\"dataframe\">\n",
              "  <thead>\n",
              "    <tr style=\"text-align: left;\">\n",
              "      <th></th>\n",
              "      <th>0</th>\n",
              "      <th>0</th>\n",
              "    </tr>\n",
              "  </thead>\n",
              "  <tbody>\n",
              "    <tr>\n",
              "      <th>0</th>\n",
              "      <td>DEPARTURE_DELAY</td>\n",
              "      <td>1.74874e-01</td>\n",
              "    </tr>\n",
              "    <tr>\n",
              "      <th>1</th>\n",
              "      <td>TAXI_OUT</td>\n",
              "      <td>1.54196e-01</td>\n",
              "    </tr>\n",
              "    <tr>\n",
              "      <th>2</th>\n",
              "      <td>WHEELS_OFF</td>\n",
              "      <td>-6.73485e-06</td>\n",
              "    </tr>\n",
              "    <tr>\n",
              "      <th>3</th>\n",
              "      <td>SCHEDULED_TIME</td>\n",
              "      <td>-3.44497e-02</td>\n",
              "    </tr>\n",
              "    <tr>\n",
              "      <th>4</th>\n",
              "      <td>DISTANCE</td>\n",
              "      <td>3.93332e-03</td>\n",
              "    </tr>\n",
              "    <tr>\n",
              "      <th>5</th>\n",
              "      <td>MONTH_April</td>\n",
              "      <td>-8.72099e-01</td>\n",
              "    </tr>\n",
              "    <tr>\n",
              "      <th>6</th>\n",
              "      <td>MONTH_August</td>\n",
              "      <td>-1.16161e+00</td>\n",
              "    </tr>\n",
              "    <tr>\n",
              "      <th>7</th>\n",
              "      <td>MONTH_December</td>\n",
              "      <td>-1.00643e+00</td>\n",
              "    </tr>\n",
              "    <tr>\n",
              "      <th>8</th>\n",
              "      <td>MONTH_February</td>\n",
              "      <td>-8.28107e-01</td>\n",
              "    </tr>\n",
              "    <tr>\n",
              "      <th>9</th>\n",
              "      <td>MONTH_January</td>\n",
              "      <td>-8.48899e-01</td>\n",
              "    </tr>\n",
              "    <tr>\n",
              "      <th>10</th>\n",
              "      <td>MONTH_July</td>\n",
              "      <td>-1.09732e+00</td>\n",
              "    </tr>\n",
              "    <tr>\n",
              "      <th>11</th>\n",
              "      <td>MONTH_June</td>\n",
              "      <td>-9.71148e-01</td>\n",
              "    </tr>\n",
              "    <tr>\n",
              "      <th>12</th>\n",
              "      <td>MONTH_March</td>\n",
              "      <td>-9.22407e-01</td>\n",
              "    </tr>\n",
              "    <tr>\n",
              "      <th>13</th>\n",
              "      <td>MONTH_May</td>\n",
              "      <td>-9.53799e-01</td>\n",
              "    </tr>\n",
              "    <tr>\n",
              "      <th>14</th>\n",
              "      <td>MONTH_November</td>\n",
              "      <td>-1.10390e+00</td>\n",
              "    </tr>\n",
              "    <tr>\n",
              "      <th>15</th>\n",
              "      <td>MONTH_October</td>\n",
              "      <td>-1.24597e+00</td>\n",
              "    </tr>\n",
              "    <tr>\n",
              "      <th>16</th>\n",
              "      <td>MONTH_September</td>\n",
              "      <td>-1.20640e+00</td>\n",
              "    </tr>\n",
              "    <tr>\n",
              "      <th>17</th>\n",
              "      <td>DAY_OF_WEEK_Friday</td>\n",
              "      <td>-1.66855e+00</td>\n",
              "    </tr>\n",
              "    <tr>\n",
              "      <th>18</th>\n",
              "      <td>DAY_OF_WEEK_Monday</td>\n",
              "      <td>-1.69559e+00</td>\n",
              "    </tr>\n",
              "    <tr>\n",
              "      <th>19</th>\n",
              "      <td>DAY_OF_WEEK_Saturday</td>\n",
              "      <td>-1.75857e+00</td>\n",
              "    </tr>\n",
              "    <tr>\n",
              "      <th>20</th>\n",
              "      <td>DAY_OF_WEEK_Sunday</td>\n",
              "      <td>-1.70949e+00</td>\n",
              "    </tr>\n",
              "    <tr>\n",
              "      <th>21</th>\n",
              "      <td>DAY_OF_WEEK_Thursday</td>\n",
              "      <td>-1.64760e+00</td>\n",
              "    </tr>\n",
              "    <tr>\n",
              "      <th>22</th>\n",
              "      <td>DAY_OF_WEEK_Tuesday</td>\n",
              "      <td>-1.71142e+00</td>\n",
              "    </tr>\n",
              "    <tr>\n",
              "      <th>23</th>\n",
              "      <td>DAY_OF_WEEK_Wednesday</td>\n",
              "      <td>-1.70900e+00</td>\n",
              "    </tr>\n",
              "    <tr>\n",
              "      <th>24</th>\n",
              "      <td>AIRLINE_Alaska Airlines Inc.</td>\n",
              "      <td>-6.87911e-01</td>\n",
              "    </tr>\n",
              "    <tr>\n",
              "      <th>25</th>\n",
              "      <td>AIRLINE_American Airlines Inc.</td>\n",
              "      <td>-1.17848e+00</td>\n",
              "    </tr>\n",
              "    <tr>\n",
              "      <th>26</th>\n",
              "      <td>AIRLINE_American Eagle Airlines Inc.</td>\n",
              "      <td>-9.98086e-01</td>\n",
              "    </tr>\n",
              "    <tr>\n",
              "      <th>27</th>\n",
              "      <td>AIRLINE_Atlantic Southeast Airlines</td>\n",
              "      <td>-1.01033e+00</td>\n",
              "    </tr>\n",
              "    <tr>\n",
              "      <th>28</th>\n",
              "      <td>AIRLINE_Delta Air Lines Inc.</td>\n",
              "      <td>-1.82931e+00</td>\n",
              "    </tr>\n",
              "    <tr>\n",
              "      <th>29</th>\n",
              "      <td>AIRLINE_Frontier Airlines Inc.</td>\n",
              "      <td>-3.84156e-01</td>\n",
              "    </tr>\n",
              "    <tr>\n",
              "      <th>30</th>\n",
              "      <td>AIRLINE_Hawaiian Airlines Inc.</td>\n",
              "      <td>-3.26979e-01</td>\n",
              "    </tr>\n",
              "    <tr>\n",
              "      <th>31</th>\n",
              "      <td>AIRLINE_JetBlue Airways</td>\n",
              "      <td>-1.14966e+00</td>\n",
              "    </tr>\n",
              "    <tr>\n",
              "      <th>32</th>\n",
              "      <td>AIRLINE_Skywest Airlines Inc.</td>\n",
              "      <td>-1.28101e+00</td>\n",
              "    </tr>\n",
              "    <tr>\n",
              "      <th>33</th>\n",
              "      <td>AIRLINE_Southwest Airlines Co.</td>\n",
              "      <td>-9.90974e-01</td>\n",
              "    </tr>\n",
              "    <tr>\n",
              "      <th>34</th>\n",
              "      <td>AIRLINE_Spirit Air Lines</td>\n",
              "      <td>-2.79981e-01</td>\n",
              "    </tr>\n",
              "    <tr>\n",
              "      <th>35</th>\n",
              "      <td>AIRLINE_US Airways Inc.</td>\n",
              "      <td>-1.16068e+00</td>\n",
              "    </tr>\n",
              "    <tr>\n",
              "      <th>36</th>\n",
              "      <td>AIRLINE_United Air Lines Inc.</td>\n",
              "      <td>-1.81439e+00</td>\n",
              "    </tr>\n",
              "    <tr>\n",
              "      <th>37</th>\n",
              "      <td>AIRLINE_Virgin America</td>\n",
              "      <td>-7.43325e-01</td>\n",
              "    </tr>\n",
              "    <tr>\n",
              "      <th>38</th>\n",
              "      <td>SCHEDULED_ARRIVAL_Afternoon</td>\n",
              "      <td>-1.92172e-01</td>\n",
              "    </tr>\n",
              "    <tr>\n",
              "      <th>39</th>\n",
              "      <td>SCHEDULED_ARRIVAL_Early Morning</td>\n",
              "      <td>-7.07204e-01</td>\n",
              "    </tr>\n",
              "    <tr>\n",
              "      <th>40</th>\n",
              "      <td>SCHEDULED_ARRIVAL_Evening</td>\n",
              "      <td>-1.39172e-01</td>\n",
              "    </tr>\n",
              "    <tr>\n",
              "      <th>41</th>\n",
              "      <td>SCHEDULED_ARRIVAL_Morning</td>\n",
              "      <td>-1.57052e-01</td>\n",
              "    </tr>\n",
              "  </tbody>\n",
              "</table>\n",
              "</div>"
            ],
            "text/plain": [
              "    0                                     0          \n",
              "0   DEPARTURE_DELAY                       1.74874e-01\n",
              "1   TAXI_OUT                              1.54196e-01\n",
              "2   WHEELS_OFF                           -6.73485e-06\n",
              "3   SCHEDULED_TIME                       -3.44497e-02\n",
              "4   DISTANCE                              3.93332e-03\n",
              "5   MONTH_April                          -8.72099e-01\n",
              "6   MONTH_August                         -1.16161e+00\n",
              "7   MONTH_December                       -1.00643e+00\n",
              "8   MONTH_February                       -8.28107e-01\n",
              "9   MONTH_January                        -8.48899e-01\n",
              "10  MONTH_July                           -1.09732e+00\n",
              "11  MONTH_June                           -9.71148e-01\n",
              "12  MONTH_March                          -9.22407e-01\n",
              "13  MONTH_May                            -9.53799e-01\n",
              "14  MONTH_November                       -1.10390e+00\n",
              "15  MONTH_October                        -1.24597e+00\n",
              "16  MONTH_September                      -1.20640e+00\n",
              "17  DAY_OF_WEEK_Friday                   -1.66855e+00\n",
              "18  DAY_OF_WEEK_Monday                   -1.69559e+00\n",
              "19  DAY_OF_WEEK_Saturday                 -1.75857e+00\n",
              "20  DAY_OF_WEEK_Sunday                   -1.70949e+00\n",
              "21  DAY_OF_WEEK_Thursday                 -1.64760e+00\n",
              "22  DAY_OF_WEEK_Tuesday                  -1.71142e+00\n",
              "23  DAY_OF_WEEK_Wednesday                -1.70900e+00\n",
              "24  AIRLINE_Alaska Airlines Inc.         -6.87911e-01\n",
              "25  AIRLINE_American Airlines Inc.       -1.17848e+00\n",
              "26  AIRLINE_American Eagle Airlines Inc. -9.98086e-01\n",
              "27  AIRLINE_Atlantic Southeast Airlines  -1.01033e+00\n",
              "28  AIRLINE_Delta Air Lines Inc.         -1.82931e+00\n",
              "29  AIRLINE_Frontier Airlines Inc.       -3.84156e-01\n",
              "30  AIRLINE_Hawaiian Airlines Inc.       -3.26979e-01\n",
              "31  AIRLINE_JetBlue Airways              -1.14966e+00\n",
              "32  AIRLINE_Skywest Airlines Inc.        -1.28101e+00\n",
              "33  AIRLINE_Southwest Airlines Co.       -9.90974e-01\n",
              "34  AIRLINE_Spirit Air Lines             -2.79981e-01\n",
              "35  AIRLINE_US Airways Inc.              -1.16068e+00\n",
              "36  AIRLINE_United Air Lines Inc.        -1.81439e+00\n",
              "37  AIRLINE_Virgin America               -7.43325e-01\n",
              "38  SCHEDULED_ARRIVAL_Afternoon          -1.92172e-01\n",
              "39  SCHEDULED_ARRIVAL_Early Morning      -7.07204e-01\n",
              "40  SCHEDULED_ARRIVAL_Evening            -1.39172e-01\n",
              "41  SCHEDULED_ARRIVAL_Morning            -1.57052e-01"
            ]
          },
          "metadata": {
            "tags": []
          },
          "execution_count": 83
        }
      ]
    },
    {
      "cell_type": "code",
      "metadata": {
        "id": "a_CO5mY_045N",
        "colab_type": "code",
        "outputId": "1c910f19-7f26-4d02-fee6-698d2deb8d77",
        "colab": {
          "base_uri": "https://localhost:8080/",
          "height": 302
        }
      },
      "source": [
        "y_pred_l2 = logreg_cv_l2.predict(X_te)\n",
        "cm = confusion_matrix(y_pred_l2, y_te)\n",
        "ax= plt.subplot()\n",
        "sns.heatmap(cm, annot=True, ax = ax, cmap=\"YlGnBu\"); #annot=True to annotate cells\n",
        "\n",
        "# labels, title and ticks\n",
        "ax.set_xlabel('Predicted labels');ax.set_ylabel('True labels'); \n",
        "ax.set_title('Confusion Matrix (Stochastic Gradient Boosting)'); \n",
        "ax.xaxis.set_ticklabels(['Not Delayed', 'Delayed']); ax.yaxis.set_ticklabels(['Not Delayed', 'Delayed']);"
      ],
      "execution_count": 0,
      "outputs": [
        {
          "output_type": "display_data",
          "data": {
            "image/png": "[encoded data removed]",
            "text/plain": [
              "<Figure size 432x288 with 2 Axes>"
            ]
          },
          "metadata": {
            "tags": []
          }
        }
      ]
    },
    {
      "cell_type": "code",
      "metadata": {
        "id": "-EKpu0wfumMG",
        "colab_type": "code",
        "outputId": "fcbac098-b7b2-4b32-db1f-e528c29665b4",
        "colab": {
          "base_uri": "https://localhost:8080/",
          "height": 1000
        }
      },
      "source": [
        "coefficients = pd.concat([pd.DataFrame(X_tr.columns),pd.DataFrame(np.transpose(logreg_cv_l2.best_estimator_.coef_  ))], axis = 1)\n",
        "coefficients"
      ],
      "execution_count": 0,
      "outputs": [
        {
          "output_type": "execute_result",
          "data": {
            "text/html": [
              "<div>\n",
              "<style scoped>\n",
              "    .dataframe tbody tr th:only-of-type {\n",
              "        vertical-align: middle;\n",
              "    }\n",
              "\n",
              "    .dataframe tbody tr th {\n",
              "        vertical-align: top;\n",
              "    }\n",
              "\n",
              "    .dataframe thead th {\n",
              "        text-align: right;\n",
              "    }\n",
              "</style>\n",
              "<table border=\"1\" class=\"dataframe\">\n",
              "  <thead>\n",
              "    <tr style=\"text-align: left;\">\n",
              "      <th></th>\n",
              "      <th>0</th>\n",
              "      <th>0</th>\n",
              "    </tr>\n",
              "  </thead>\n",
              "  <tbody>\n",
              "    <tr>\n",
              "      <th>0</th>\n",
              "      <td>DEPARTURE_DELAY</td>\n",
              "      <td>0.17440</td>\n",
              "    </tr>\n",
              "    <tr>\n",
              "      <th>1</th>\n",
              "      <td>TAXI_OUT</td>\n",
              "      <td>0.15230</td>\n",
              "    </tr>\n",
              "    <tr>\n",
              "      <th>2</th>\n",
              "      <td>WHEELS_OFF</td>\n",
              "      <td>-0.00029</td>\n",
              "    </tr>\n",
              "    <tr>\n",
              "      <th>3</th>\n",
              "      <td>SCHEDULED_TIME</td>\n",
              "      <td>-0.03603</td>\n",
              "    </tr>\n",
              "    <tr>\n",
              "      <th>4</th>\n",
              "      <td>DISTANCE</td>\n",
              "      <td>0.00405</td>\n",
              "    </tr>\n",
              "    <tr>\n",
              "      <th>5</th>\n",
              "      <td>MONTH_April</td>\n",
              "      <td>-0.05689</td>\n",
              "    </tr>\n",
              "    <tr>\n",
              "      <th>6</th>\n",
              "      <td>MONTH_August</td>\n",
              "      <td>-0.33346</td>\n",
              "    </tr>\n",
              "    <tr>\n",
              "      <th>7</th>\n",
              "      <td>MONTH_December</td>\n",
              "      <td>-0.18488</td>\n",
              "    </tr>\n",
              "    <tr>\n",
              "      <th>8</th>\n",
              "      <td>MONTH_February</td>\n",
              "      <td>-0.00951</td>\n",
              "    </tr>\n",
              "    <tr>\n",
              "      <th>9</th>\n",
              "      <td>MONTH_January</td>\n",
              "      <td>-0.03388</td>\n",
              "    </tr>\n",
              "    <tr>\n",
              "      <th>10</th>\n",
              "      <td>MONTH_July</td>\n",
              "      <td>-0.26976</td>\n",
              "    </tr>\n",
              "    <tr>\n",
              "      <th>11</th>\n",
              "      <td>MONTH_June</td>\n",
              "      <td>-0.15616</td>\n",
              "    </tr>\n",
              "    <tr>\n",
              "      <th>12</th>\n",
              "      <td>MONTH_March</td>\n",
              "      <td>-0.11155</td>\n",
              "    </tr>\n",
              "    <tr>\n",
              "      <th>13</th>\n",
              "      <td>MONTH_May</td>\n",
              "      <td>-0.13570</td>\n",
              "    </tr>\n",
              "    <tr>\n",
              "      <th>14</th>\n",
              "      <td>MONTH_November</td>\n",
              "      <td>-0.28587</td>\n",
              "    </tr>\n",
              "    <tr>\n",
              "      <th>15</th>\n",
              "      <td>MONTH_October</td>\n",
              "      <td>-0.42347</td>\n",
              "    </tr>\n",
              "    <tr>\n",
              "      <th>16</th>\n",
              "      <td>MONTH_September</td>\n",
              "      <td>-0.37643</td>\n",
              "    </tr>\n",
              "    <tr>\n",
              "      <th>17</th>\n",
              "      <td>DAY_OF_WEEK_Friday</td>\n",
              "      <td>-0.30931</td>\n",
              "    </tr>\n",
              "    <tr>\n",
              "      <th>18</th>\n",
              "      <td>DAY_OF_WEEK_Monday</td>\n",
              "      <td>-0.33676</td>\n",
              "    </tr>\n",
              "    <tr>\n",
              "      <th>19</th>\n",
              "      <td>DAY_OF_WEEK_Saturday</td>\n",
              "      <td>-0.39707</td>\n",
              "    </tr>\n",
              "    <tr>\n",
              "      <th>20</th>\n",
              "      <td>DAY_OF_WEEK_Sunday</td>\n",
              "      <td>-0.34834</td>\n",
              "    </tr>\n",
              "    <tr>\n",
              "      <th>21</th>\n",
              "      <td>DAY_OF_WEEK_Thursday</td>\n",
              "      <td>-0.28737</td>\n",
              "    </tr>\n",
              "    <tr>\n",
              "      <th>22</th>\n",
              "      <td>DAY_OF_WEEK_Tuesday</td>\n",
              "      <td>-0.35089</td>\n",
              "    </tr>\n",
              "    <tr>\n",
              "      <th>23</th>\n",
              "      <td>DAY_OF_WEEK_Wednesday</td>\n",
              "      <td>-0.34781</td>\n",
              "    </tr>\n",
              "    <tr>\n",
              "      <th>24</th>\n",
              "      <td>AIRLINE_Alaska Airlines Inc.</td>\n",
              "      <td>0.15176</td>\n",
              "    </tr>\n",
              "    <tr>\n",
              "      <th>25</th>\n",
              "      <td>AIRLINE_American Airlines Inc.</td>\n",
              "      <td>-0.32016</td>\n",
              "    </tr>\n",
              "    <tr>\n",
              "      <th>26</th>\n",
              "      <td>AIRLINE_American Eagle Airlines Inc.</td>\n",
              "      <td>-0.11328</td>\n",
              "    </tr>\n",
              "    <tr>\n",
              "      <th>27</th>\n",
              "      <td>AIRLINE_Atlantic Southeast Airlines</td>\n",
              "      <td>-0.16114</td>\n",
              "    </tr>\n",
              "    <tr>\n",
              "      <th>28</th>\n",
              "      <td>AIRLINE_Delta Air Lines Inc.</td>\n",
              "      <td>-0.95422</td>\n",
              "    </tr>\n",
              "    <tr>\n",
              "      <th>29</th>\n",
              "      <td>AIRLINE_Frontier Airlines Inc.</td>\n",
              "      <td>0.29279</td>\n",
              "    </tr>\n",
              "    <tr>\n",
              "      <th>30</th>\n",
              "      <td>AIRLINE_Hawaiian Airlines Inc.</td>\n",
              "      <td>0.19225</td>\n",
              "    </tr>\n",
              "    <tr>\n",
              "      <th>31</th>\n",
              "      <td>AIRLINE_JetBlue Airways</td>\n",
              "      <td>-0.23065</td>\n",
              "    </tr>\n",
              "    <tr>\n",
              "      <th>32</th>\n",
              "      <td>AIRLINE_Skywest Airlines Inc.</td>\n",
              "      <td>-0.43839</td>\n",
              "    </tr>\n",
              "    <tr>\n",
              "      <th>33</th>\n",
              "      <td>AIRLINE_Southwest Airlines Co.</td>\n",
              "      <td>-0.18675</td>\n",
              "    </tr>\n",
              "    <tr>\n",
              "      <th>34</th>\n",
              "      <td>AIRLINE_Spirit Air Lines</td>\n",
              "      <td>0.45091</td>\n",
              "    </tr>\n",
              "    <tr>\n",
              "      <th>35</th>\n",
              "      <td>AIRLINE_US Airways Inc.</td>\n",
              "      <td>-0.20786</td>\n",
              "    </tr>\n",
              "    <tr>\n",
              "      <th>36</th>\n",
              "      <td>AIRLINE_United Air Lines Inc.</td>\n",
              "      <td>-0.94669</td>\n",
              "    </tr>\n",
              "    <tr>\n",
              "      <th>37</th>\n",
              "      <td>AIRLINE_Virgin America</td>\n",
              "      <td>0.09389</td>\n",
              "    </tr>\n",
              "    <tr>\n",
              "      <th>38</th>\n",
              "      <td>SCHEDULED_ARRIVAL_Afternoon</td>\n",
              "      <td>-0.69555</td>\n",
              "    </tr>\n",
              "    <tr>\n",
              "      <th>39</th>\n",
              "      <td>SCHEDULED_ARRIVAL_Early Morning</td>\n",
              "      <td>-0.54275</td>\n",
              "    </tr>\n",
              "    <tr>\n",
              "      <th>40</th>\n",
              "      <td>SCHEDULED_ARRIVAL_Evening</td>\n",
              "      <td>-0.39861</td>\n",
              "    </tr>\n",
              "    <tr>\n",
              "      <th>41</th>\n",
              "      <td>SCHEDULED_ARRIVAL_Morning</td>\n",
              "      <td>-0.74065</td>\n",
              "    </tr>\n",
              "  </tbody>\n",
              "</table>\n",
              "</div>"
            ],
            "text/plain": [
              "    0                                     0      \n",
              "0   DEPARTURE_DELAY                       0.17440\n",
              "1   TAXI_OUT                              0.15230\n",
              "2   WHEELS_OFF                           -0.00029\n",
              "3   SCHEDULED_TIME                       -0.03603\n",
              "4   DISTANCE                              0.00405\n",
              "5   MONTH_April                          -0.05689\n",
              "6   MONTH_August                         -0.33346\n",
              "7   MONTH_December                       -0.18488\n",
              "8   MONTH_February                       -0.00951\n",
              "9   MONTH_January                        -0.03388\n",
              "10  MONTH_July                           -0.26976\n",
              "11  MONTH_June                           -0.15616\n",
              "12  MONTH_March                          -0.11155\n",
              "13  MONTH_May                            -0.13570\n",
              "14  MONTH_November                       -0.28587\n",
              "15  MONTH_October                        -0.42347\n",
              "16  MONTH_September                      -0.37643\n",
              "17  DAY_OF_WEEK_Friday                   -0.30931\n",
              "18  DAY_OF_WEEK_Monday                   -0.33676\n",
              "19  DAY_OF_WEEK_Saturday                 -0.39707\n",
              "20  DAY_OF_WEEK_Sunday                   -0.34834\n",
              "21  DAY_OF_WEEK_Thursday                 -0.28737\n",
              "22  DAY_OF_WEEK_Tuesday                  -0.35089\n",
              "23  DAY_OF_WEEK_Wednesday                -0.34781\n",
              "24  AIRLINE_Alaska Airlines Inc.          0.15176\n",
              "25  AIRLINE_American Airlines Inc.       -0.32016\n",
              "26  AIRLINE_American Eagle Airlines Inc. -0.11328\n",
              "27  AIRLINE_Atlantic Southeast Airlines  -0.16114\n",
              "28  AIRLINE_Delta Air Lines Inc.         -0.95422\n",
              "29  AIRLINE_Frontier Airlines Inc.        0.29279\n",
              "30  AIRLINE_Hawaiian Airlines Inc.        0.19225\n",
              "31  AIRLINE_JetBlue Airways              -0.23065\n",
              "32  AIRLINE_Skywest Airlines Inc.        -0.43839\n",
              "33  AIRLINE_Southwest Airlines Co.       -0.18675\n",
              "34  AIRLINE_Spirit Air Lines              0.45091\n",
              "35  AIRLINE_US Airways Inc.              -0.20786\n",
              "36  AIRLINE_United Air Lines Inc.        -0.94669\n",
              "37  AIRLINE_Virgin America                0.09389\n",
              "38  SCHEDULED_ARRIVAL_Afternoon          -0.69555\n",
              "39  SCHEDULED_ARRIVAL_Early Morning      -0.54275\n",
              "40  SCHEDULED_ARRIVAL_Evening            -0.39861\n",
              "41  SCHEDULED_ARRIVAL_Morning            -0.74065"
            ]
          },
          "metadata": {
            "tags": []
          },
          "execution_count": 84
        }
      ]
    },
    {
      "cell_type": "code",
      "metadata": {
        "id": "67RHUilR0PZ1",
        "colab_type": "code",
        "colab": {}
      },
      "source": [
        ""
      ],
      "execution_count": 0,
      "outputs": []
    },
    {
      "cell_type": "markdown",
      "metadata": {
        "colab_type": "text",
        "id": "0Do1k2i81WmY"
      },
      "source": [
        "## 5. Lasso Regression\n"
      ]
    },
    {
      "cell_type": "code",
      "metadata": {
        "id": "0-E3Tkt20P_E",
        "colab_type": "code",
        "outputId": "4f1e1b44-f817-4ef1-f120-722980223e5d",
        "colab": {
          "base_uri": "https://localhost:8080/",
          "height": 52
        }
      },
      "source": [
        "param_grid = [{'alpha': [0.001,0.01,0.1,1,10,100,1000,1000]}]\n",
        "grid_search_lr = GridSearchCV(Lasso(), param_grid, cv=3, scoring='roc_auc')\n",
        "grid_search_lr.fit(X_tr, y_tr)\n",
        "print(grid_search_lr.best_params_)\n",
        "print(grid_search_lr.best_score_)"
      ],
      "execution_count": 0,
      "outputs": [
        {
          "output_type": "stream",
          "text": [
            "{'alpha': 0.1}\n",
            "0.9503195745316186\n"
          ],
          "name": "stdout"
        }
      ]
    },
    {
      "cell_type": "code",
      "metadata": {
        "id": "wdRBlFx6D4qJ",
        "colab_type": "code",
        "outputId": "82a8e81a-097c-471f-f08b-68c6341eaf15",
        "colab": {
          "base_uri": "https://localhost:8080/",
          "height": 34
        }
      },
      "source": [
        "y_pred_proba = grid_search_lr.predict(X_te)\n",
        "test_roc_auc = roc_auc_score(y_te, y_pred_proba)\n",
        "\n",
        "print('Test set ROC AUC score is: {:.3f}'.format(test_roc_auc))\n"
      ],
      "execution_count": 0,
      "outputs": [
        {
          "output_type": "stream",
          "text": [
            "Test set ROC AUC score is: 0.950\n"
          ],
          "name": "stdout"
        }
      ]
    },
    {
      "cell_type": "markdown",
      "metadata": {
        "colab_type": "text",
        "id": "t1lo0ipF2MnR"
      },
      "source": [
        "## 6. Elastic Net regression\n"
      ]
    },
    {
      "cell_type": "code",
      "metadata": {
        "id": "s-VxaT_b2T2_",
        "colab_type": "code",
        "colab": {}
      },
      "source": [
        "from sklearn.linear_model import ElasticNet\n",
        "param_grid = [{'alpha': [0.1,1,10],\n",
        "               \"l1_ratio\": np.arange(0.0, 1.0)}]\n",
        "grid_search_enr = GridSearchCV(ElasticNet(), param_grid, cv=3, scoring='roc_auc')\n",
        "grid_search_enr.fit(X_tr, y_tr)\n",
        "print(grid_search_enr.best_params_)\n",
        "print(grid_search_enr.best_score_)"
      ],
      "execution_count": 0,
      "outputs": []
    },
    {
      "cell_type": "code",
      "metadata": {
        "id": "SUgCuCFc6C8J",
        "colab_type": "code",
        "colab": {}
      },
      "source": [
        "y_pred_proba = grid_search_enr.predict(X_te)\n",
        "test_roc_auc = roc_auc_score(y_te, y_pred_proba)\n",
        "\n",
        "print('Test set ROC AUC score is: {:.3f}'.format(test_roc_auc))"
      ],
      "execution_count": 0,
      "outputs": []
    },
    {
      "cell_type": "code",
      "metadata": {
        "id": "6kCEJVdF6DK4",
        "colab_type": "code",
        "colab": {}
      },
      "source": [
        ""
      ],
      "execution_count": 0,
      "outputs": []
    }
  ]
}